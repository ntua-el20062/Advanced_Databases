{
 "cells": [
  {
   "cell_type": "markdown",
   "id": "c7a058c6-2529-4ee3-b138-90acbf5dbfe4",
   "metadata": {},
   "source": [
    "# Query 4\n",
    "## Reading files from S3\n",
    "The first code cell reads the main csv and geojson file, as well as the rest of the csv datasets.  "
   ]
  },
  {
   "cell_type": "code",
   "execution_count": 1,
   "id": "ee18d7c2-5600-4d9a-a5eb-3dd498dd2dfc",
   "metadata": {
    "tags": []
   },
   "outputs": [
    {
     "name": "stdout",
     "output_type": "stream",
     "text": [
      "Starting Spark application\n"
     ]
    },
    {
     "data": {
      "text/html": [
       "<table>\n",
       "<tr><th>ID</th><th>YARN Application ID</th><th>Kind</th><th>State</th><th>Spark UI</th><th>Driver log</th><th>User</th><th>Current session?</th></tr><tr><td>2478</td><td>application_1732639283265_2437</td><td>pyspark</td><td>idle</td><td><a target=\"_blank\" href=\"http://ip-192-168-1-36.eu-central-1.compute.internal:20888/proxy/application_1732639283265_2437/\">Link</a></td><td><a target=\"_blank\" href=\"http://ip-192-168-1-247.eu-central-1.compute.internal:8042/node/containerlogs/container_1732639283265_2437_01_000001/livy\">Link</a></td><td>None</td><td>✔</td></tr></table>"
      ],
      "text/plain": [
       "<IPython.core.display.HTML object>"
      ]
     },
     "metadata": {},
     "output_type": "display_data"
    },
    {
     "data": {
      "application/vnd.jupyter.widget-view+json": {
       "model_id": "",
       "version_major": 2,
       "version_minor": 0
      },
      "text/plain": [
       "FloatProgress(value=0.0, bar_style='info', description='Progress:', layout=Layout(height='25px', width='50%'),…"
      ]
     },
     "metadata": {},
     "output_type": "display_data"
    },
    {
     "name": "stdout",
     "output_type": "stream",
     "text": [
      "SparkSession available as 'spark'.\n"
     ]
    },
    {
     "data": {
      "application/vnd.jupyter.widget-view+json": {
       "model_id": "",
       "version_major": 2,
       "version_minor": 0
      },
      "text/plain": [
       "FloatProgress(value=0.0, bar_style='info', description='Progress:', layout=Layout(height='25px', width='50%'),…"
      ]
     },
     "metadata": {},
     "output_type": "display_data"
    }
   ],
   "source": [
    "from sedona.spark import *\n",
    "from pyspark import SparkContext\n",
    "from pyspark.sql.functions import col\n",
    "from pyspark.sql import SparkSession\n",
    "from pyspark.sql.functions import min, count, avg\n",
    "import time\n",
    "import logging"
   ]
  },
  {
   "cell_type": "code",
   "execution_count": 2,
   "id": "873812ab-dcdf-472a-8857-a30d90d8b57a",
   "metadata": {
    "tags": []
   },
   "outputs": [
    {
     "data": {
      "application/vnd.jupyter.widget-view+json": {
       "model_id": "",
       "version_major": 2,
       "version_minor": 0
      },
      "text/plain": [
       "FloatProgress(value=0.0, bar_style='info', description='Progress:', layout=Layout(height='25px', width='50%'),…"
      ]
     },
     "metadata": {},
     "output_type": "display_data"
    }
   ],
   "source": [
    "def init_spark(app_name, cores, memory):\n",
    "    global spark\n",
    "    spark = SparkSession.builder \\\n",
    "        .appName(app_name) \\\n",
    "        .config(\"spark.network.timeout\", \"600s\") \\\n",
    "        .config(\"spark.master\", \"yarn\") \\\n",
    "        .config(\"spark.executor.instances\", 2) \\\n",
    "        .config(\"spark.executor.cores\", cores) \\\n",
    "        .config(\"spark.executor.memory\", memory) \\\n",
    "        .getOrCreate()\n",
    "\n",
    "    sedona = SedonaContext.create(spark)\n",
    "    \n",
    "    return spark, sedona\n"
   ]
  },
  {
   "cell_type": "code",
   "execution_count": 3,
   "id": "75d4a249-ec02-448a-90cc-59ea786714c6",
   "metadata": {
    "tags": []
   },
   "outputs": [
    {
     "data": {
      "application/vnd.jupyter.widget-view+json": {
       "model_id": "",
       "version_major": 2,
       "version_minor": 0
      },
      "text/plain": [
       "FloatProgress(value=0.0, bar_style='info', description='Progress:', layout=Layout(height='25px', width='50%'),…"
      ]
     },
     "metadata": {},
     "output_type": "display_data"
    }
   ],
   "source": [
    "def load_data(spark, sedona):\n",
    "    # Load the crime data, LA income and RE codes csv \n",
    "    crime_data = spark.read.csv(\"s3://initial-notebook-data-bucket-dblab-905418150721/CrimeData/Crime_Data_from_2010_to_2019_20241101.csv\", header=True, inferSchema=True)\n",
    "    la_income = spark.read.csv(\"s3://initial-notebook-data-bucket-dblab-905418150721/LA_income_2015.csv\", header=True, inferSchema=True)\n",
    "    re_codes = spark.read.csv(\"s3://initial-notebook-data-bucket-dblab-905418150721/RE_codes.csv\", header=True, inferSchema=True)\n",
    "    police_stations = spark.read.csv(\"s3://initial-notebook-data-bucket-dblab-905418150721/LA_Police_Stations.csv\", header=True, inferSchema=True)\n",
    "\n",
    "    geojson_path = \"s3://initial-notebook-data-bucket-dblab-905418150721/2010_Census_Blocks.geojson\"\n",
    "    blocks_df = sedona.read.format(\"geojson\") \\\n",
    "                .option(\"multiLine\", \"true\").load(geojson_path) \\\n",
    "                .selectExpr(\"explode(features) as features\") \\\n",
    "                .select(\"features.*\")\n",
    "    # Formatting magic\n",
    "    flattened_blocks_df = blocks_df.select( \\\n",
    "                    [col(f\"properties.{col_name}\").alias(col_name) for col_name in \\\n",
    "                    blocks_df.schema[\"properties\"].dataType.fieldNames()] + [\"geometry\"]) \\\n",
    "                .drop(\"properties\") \\\n",
    "                .drop(\"type\")\n",
    "    return crime_data, la_income, re_codes, police_stations, flattened_blocks_df"
   ]
  },
  {
   "cell_type": "code",
   "execution_count": 39,
   "id": "b6bade0a-52d1-4c88-932a-114862b2562d",
   "metadata": {
    "tags": []
   },
   "outputs": [
    {
     "data": {
      "application/vnd.jupyter.widget-view+json": {
       "model_id": "",
       "version_major": 2,
       "version_minor": 0
      },
      "text/plain": [
       "FloatProgress(value=0.0, bar_style='info', description='Progress:', layout=Layout(height='25px', width='50%'),…"
      ]
     },
     "metadata": {},
     "output_type": "display_data"
    }
   ],
   "source": [
    "def process_query4(crime_data, la_income, re_codes, flattened_blocks_df):\n",
    "    # Add geometry column to crime_data\n",
    "    crime_data = crime_data.withColumn(\"geom\", ST_Point(col(\"LON\"), col(\"LAT\")))\n",
    "    crime_data_location = crime_data.join(flattened_blocks_df, ST_Within(crime_data[\"geom\"], flattened_blocks_df[\"geometry\"]), \"inner\")\n",
    "\n",
    "    # Filter crimes for 2015\n",
    "    crime_data_2015 = crime_data_location.filter(col(\"DATE OCC\").contains(\"2015\"))\n",
    "\n",
    "    # Filter the regions we found in the previous query\n",
    "    top_income = la_income.filter(\n",
    "        col(\"Community\").contains(\"Marina del Rey\") |\n",
    "        col(\"Community\").contains(\"Century City\") |\n",
    "        col(\"Community\").contains(\"Pacific Palisades\")\n",
    "    ).drop(\"Estimated Median Income\")\n",
    "    bottom_income = la_income.filter(\n",
    "        col(\"Community\").contains(\"Vernon\") |\n",
    "        col(\"Community\").contains(\"Watts\") |\n",
    "        col(\"Community\").contains(\"Boyle Heights\")\n",
    "    ).drop(\"Estimated Median Income\")\n",
    "\n",
    "    # Join data by ZIP codes and Community names\n",
    "    richest_crime_data = crime_data_2015.join(\n",
    "        top_income,\n",
    "        (top_income[\"Community\"].contains(crime_data_2015[\"COMM\"])) &\n",
    "        (crime_data_2015[\"ZCTA10\"] == la_income[\"Zip Code\"])\n",
    "    ).drop(\"Community\")\n",
    "    \n",
    "    poorest_crime_data = crime_data_2015.join(\n",
    "        bottom_income,\n",
    "        (bottom_income[\"Community\"].contains(crime_data_2015[\"COMM\"])) &\n",
    "        (crime_data_2015[\"ZCTA10\"] == la_income[\"Zip Code\"])\n",
    "    ).drop(\"Community\")\n",
    "    \n",
    "    # Add information about the Race and Ethnicity\n",
    "    richest_crimes_info = richest_crime_data.join(re_codes, richest_crime_data[\"Vict Descent\"] == re_codes[\"Vict Descent\"])\n",
    "    poorest_crimes_info = poorest_crime_data.join(re_codes, poorest_crime_data[\"Vict Descent\"] == re_codes[\"Vict Descent\"])\n",
    "\n",
    "    # Group and count\n",
    "    richest_counts = richest_crimes_info.groupBy(\"Vict Descent Full\").count().orderBy(\"count\", ascending=False)\n",
    "    poorest_counts = poorest_crimes_info.groupBy(\"Vict Descent Full\").count().orderBy(\"count\", ascending=False)\n",
    "\n",
    "    return richest_counts, poorest_counts\n"
   ]
  },
  {
   "cell_type": "code",
   "execution_count": 41,
   "id": "d30c903b-73a6-4c90-ad4d-a02dd2a18ffe",
   "metadata": {
    "tags": []
   },
   "outputs": [
    {
     "data": {
      "application/vnd.jupyter.widget-view+json": {
       "model_id": "",
       "version_major": 2,
       "version_minor": 0
      },
      "text/plain": [
       "FloatProgress(value=0.0, bar_style='info', description='Progress:', layout=Layout(height='25px', width='50%'),…"
      ]
     },
     "metadata": {},
     "output_type": "display_data"
    }
   ],
   "source": [
    "def run_query4(config_name, cores, memory):\n",
    "    spark, sedona = init_spark(config_name, cores, memory)\n",
    "    print(f\"Running Query 4 with {config_name}...\")\n",
    "    \n",
    "    start_time = time.time()    # Load data\n",
    "    crime_data, la_income, re_codes, police_stations, flattened_blocks_df = load_data(spark, sedona)\n",
    "\n",
    "    # Process Query 4\n",
    "    richest_counts, poorest_counts = process_query4(crime_data, la_income, re_codes, flattened_blocks_df)\n",
    "\n",
    "    # Show results\n",
    "    print(\"Richest ZIP Codes Crime Counts:\")\n",
    "    richest_counts.select(\"Vict Descent Full\", \"count\").show(truncate = False)\n",
    "    print(\"Poorest ZIP Codes Crime Counts:\")\n",
    "    poorest_counts.select(\"Vict Descent Full\", \"count\").show(truncate = False)\n",
    "    end_time = time.time()\n",
    "    print(f\"Execution Time: {end_time - start_time:.2f} seconds\\n\")\n"
   ]
  },
  {
   "cell_type": "code",
   "execution_count": 42,
   "id": "60b487de-3169-473c-beee-ff0f4c80c225",
   "metadata": {
    "tags": []
   },
   "outputs": [
    {
     "data": {
      "application/vnd.jupyter.widget-view+json": {
       "model_id": "",
       "version_major": 2,
       "version_minor": 0
      },
      "text/plain": [
       "FloatProgress(value=0.0, bar_style='info', description='Progress:', layout=Layout(height='25px', width='50%'),…"
      ]
     },
     "metadata": {},
     "output_type": "display_data"
    },
    {
     "name": "stdout",
     "output_type": "stream",
     "text": [
      "Running Query 4 with 1 Core / 2 GB Memory...\n",
      "Richest ZIP Codes Crime Counts:\n",
      "+------------------------------+-----+\n",
      "|Vict Descent Full             |count|\n",
      "+------------------------------+-----+\n",
      "|White                         |668  |\n",
      "|Other                         |99   |\n",
      "|Hispanic/Latin/Mexican        |77   |\n",
      "|Black                         |50   |\n",
      "|Unknown                       |48   |\n",
      "|Other Asian                   |23   |\n",
      "|Chinese                       |1    |\n",
      "|American Indian/Alaskan Native|1    |\n",
      "+------------------------------+-----+\n",
      "\n",
      "Poorest ZIP Codes Crime Counts:\n",
      "+----------------------+-----+\n",
      "|Vict Descent Full     |count|\n",
      "+----------------------+-----+\n",
      "|Hispanic/Latin/Mexican|3157 |\n",
      "|Black                 |1292 |\n",
      "|White                 |195  |\n",
      "|Unknown               |167  |\n",
      "|Other                 |113  |\n",
      "|Other Asian           |51   |\n",
      "|Filipino              |3    |\n",
      "|Chinese               |2    |\n",
      "|Guamanian             |1    |\n",
      "|Pacific Islander      |1    |\n",
      "+----------------------+-----+\n",
      "\n",
      "Execution Time: 89.77 seconds\n",
      "\n",
      "Running Query 4 with 2 Cores / 4 GB Memory...\n",
      "Richest ZIP Codes Crime Counts:\n",
      "+------------------------------+-----+\n",
      "|Vict Descent Full             |count|\n",
      "+------------------------------+-----+\n",
      "|White                         |668  |\n",
      "|Other                         |99   |\n",
      "|Hispanic/Latin/Mexican        |77   |\n",
      "|Black                         |50   |\n",
      "|Unknown                       |48   |\n",
      "|Other Asian                   |23   |\n",
      "|Chinese                       |1    |\n",
      "|American Indian/Alaskan Native|1    |\n",
      "+------------------------------+-----+\n",
      "\n",
      "Poorest ZIP Codes Crime Counts:\n",
      "+----------------------+-----+\n",
      "|Vict Descent Full     |count|\n",
      "+----------------------+-----+\n",
      "|Hispanic/Latin/Mexican|3157 |\n",
      "|Black                 |1292 |\n",
      "|White                 |195  |\n",
      "|Unknown               |167  |\n",
      "|Other                 |113  |\n",
      "|Other Asian           |51   |\n",
      "|Filipino              |3    |\n",
      "|Chinese               |2    |\n",
      "|Guamanian             |1    |\n",
      "|Pacific Islander      |1    |\n",
      "+----------------------+-----+\n",
      "\n",
      "Execution Time: 71.16 seconds\n",
      "\n",
      "Running Query 4 with 4 Cores / 8 GB Memory...\n",
      "Richest ZIP Codes Crime Counts:\n",
      "+------------------------------+-----+\n",
      "|Vict Descent Full             |count|\n",
      "+------------------------------+-----+\n",
      "|White                         |668  |\n",
      "|Other                         |99   |\n",
      "|Hispanic/Latin/Mexican        |77   |\n",
      "|Black                         |50   |\n",
      "|Unknown                       |48   |\n",
      "|Other Asian                   |23   |\n",
      "|Chinese                       |1    |\n",
      "|American Indian/Alaskan Native|1    |\n",
      "+------------------------------+-----+\n",
      "\n",
      "Poorest ZIP Codes Crime Counts:\n",
      "+----------------------+-----+\n",
      "|Vict Descent Full     |count|\n",
      "+----------------------+-----+\n",
      "|Hispanic/Latin/Mexican|3157 |\n",
      "|Black                 |1292 |\n",
      "|White                 |195  |\n",
      "|Unknown               |167  |\n",
      "|Other                 |113  |\n",
      "|Other Asian           |51   |\n",
      "|Filipino              |3    |\n",
      "|Chinese               |2    |\n",
      "|Guamanian             |1    |\n",
      "|Pacific Islander      |1    |\n",
      "+----------------------+-----+\n",
      "\n",
      "Execution Time: 66.32 seconds"
     ]
    }
   ],
   "source": [
    "configs = [\n",
    "    {\"name\": \"1 Core / 2 GB Memory\", \"cores\": 1, \"memory\": \"2g\"},\n",
    "    {\"name\": \"2 Cores / 4 GB Memory\", \"cores\": 2, \"memory\": \"4g\"},\n",
    "    {\"name\": \"4 Cores / 8 GB Memory\", \"cores\": 4, \"memory\": \"8g\"}\n",
    "]\n",
    "\n",
    "for config in configs:\n",
    "    run_query4(config[\"name\"], config[\"cores\"], config[\"memory\"])\n"
   ]
  }
 ],
 "metadata": {
  "kernelspec": {
   "display_name": "Sparkmagic (PySpark)",
   "language": "python",
   "name": "pysparkkernel"
  },
  "language_info": {
   "codemirror_mode": {
    "name": "python",
    "version": 3
   },
   "file_extension": ".py",
   "mimetype": "text/x-python",
   "name": "pyspark",
   "pygments_lexer": "python3"
  }
 },
 "nbformat": 4,
 "nbformat_minor": 5
}
