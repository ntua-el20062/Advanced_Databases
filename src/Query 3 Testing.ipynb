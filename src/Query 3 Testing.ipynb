{
 "cells": [
  {
   "cell_type": "markdown",
   "id": "1eedad28-0259-48a7-9a9e-ff228694fec3",
   "metadata": {},
   "source": [
    "# Query 3"
   ]
  },
  {
   "cell_type": "code",
   "execution_count": 1,
   "id": "a2cfb43d-c0ef-4e93-b57b-0d2d4557cd3b",
   "metadata": {
    "tags": []
   },
   "outputs": [
    {
     "name": "stdout",
     "output_type": "stream",
     "text": [
      "Starting Spark application\n"
     ]
    },
    {
     "data": {
      "text/html": [
       "<table>\n",
       "<tr><th>ID</th><th>YARN Application ID</th><th>Kind</th><th>State</th><th>Spark UI</th><th>Driver log</th><th>User</th><th>Current session?</th></tr><tr><td>2026</td><td>application_1732639283265_1986</td><td>pyspark</td><td>idle</td><td><a target=\"_blank\" href=\"http://ip-192-168-1-36.eu-central-1.compute.internal:20888/proxy/application_1732639283265_1986/\">Link</a></td><td><a target=\"_blank\" href=\"http://ip-192-168-1-178.eu-central-1.compute.internal:8042/node/containerlogs/container_1732639283265_1986_01_000002/livy\">Link</a></td><td>None</td><td>✔</td></tr></table>"
      ],
      "text/plain": [
       "<IPython.core.display.HTML object>"
      ]
     },
     "metadata": {},
     "output_type": "display_data"
    },
    {
     "data": {
      "application/vnd.jupyter.widget-view+json": {
       "model_id": "",
       "version_major": 2,
       "version_minor": 0
      },
      "text/plain": [
       "FloatProgress(value=0.0, bar_style='info', description='Progress:', layout=Layout(height='25px', width='50%'),…"
      ]
     },
     "metadata": {},
     "output_type": "display_data"
    },
    {
     "name": "stdout",
     "output_type": "stream",
     "text": [
      "SparkSession available as 'spark'.\n"
     ]
    },
    {
     "data": {
      "application/vnd.jupyter.widget-view+json": {
       "model_id": "",
       "version_major": 2,
       "version_minor": 0
      },
      "text/plain": [
       "FloatProgress(value=0.0, bar_style='info', description='Progress:', layout=Layout(height='25px', width='50%'),…"
      ]
     },
     "metadata": {},
     "output_type": "display_data"
    }
   ],
   "source": [
    "from sedona.spark import *\n",
    "from pyspark.sql.functions import col, sum, collect_list, regexp_replace\n",
    "from pyspark.sql import SparkSession\n",
    "from pyspark.sql.functions import min, count, avg\n",
    "import time"
   ]
  },
  {
   "cell_type": "code",
   "execution_count": 3,
   "id": "5622d753-bf45-43b8-97f0-4b5ac8f0b1cd",
   "metadata": {
    "tags": []
   },
   "outputs": [
    {
     "data": {
      "application/vnd.jupyter.widget-view+json": {
       "model_id": "",
       "version_major": 2,
       "version_minor": 0
      },
      "text/plain": [
       "FloatProgress(value=0.0, bar_style='info', description='Progress:', layout=Layout(height='25px', width='50%'),…"
      ]
     },
     "metadata": {},
     "output_type": "display_data"
    }
   ],
   "source": [
    "def measure_join_performance(df, description):\n",
    "    start_time = time.time()\n",
    "    df.count()  # Trigger the join\n",
    "    end_time = time.time()\n",
    "    print(f\"{description} took {end_time - start_time:.2f} seconds\")"
   ]
  },
  {
   "cell_type": "code",
   "execution_count": 4,
   "id": "a75391d0-7b4c-4ea2-901e-6101f26944e7",
   "metadata": {},
   "outputs": [
    {
     "data": {
      "application/vnd.jupyter.widget-view+json": {
       "model_id": "",
       "version_major": 2,
       "version_minor": 0
      },
      "text/plain": [
       "FloatProgress(value=0.0, bar_style='info', description='Progress:', layout=Layout(height='25px', width='50%'),…"
      ]
     },
     "metadata": {},
     "output_type": "display_data"
    }
   ],
   "source": [
    "# Initialize Spark session\n",
    "spark = SparkSession.builder \\\n",
    "    .appName(\"Query 3\") \\\n",
    "    .getOrCreate()\n",
    "\n",
    "# Create sedona context\n",
    "sedona = SedonaContext.create(spark)\n",
    "\n",
    "# Load the crime data, LA income and RE codes csv \n",
    "crime_data_1 = spark.read.csv(\"s3://initial-notebook-data-bucket-dblab-905418150721/CrimeData/Crime_Data_from_2010_to_2019_20241101.csv\", header=True, inferSchema=True,)\n",
    "crime_data_2 = spark.read.csv(\"s3://initial-notebook-data-bucket-dblab-905418150721/CrimeData/Crime_Data_from_2020_to_Present_20241101.csv\", header=True, inferSchema=True,)\n",
    "la_income = spark.read.csv(\"s3://initial-notebook-data-bucket-dblab-905418150721/LA_income_2015.csv\", header=True, inferSchema=True)\n",
    "police_stations = spark.read.csv(\"s3://initial-notebook-data-bucket-dblab-905418150721/LA_Police_Stations.csv\", header=True, inferSchema=True)\n",
    "explanation = spark.read.csv(\"s3://initial-notebook-data-bucket-dblab-905418150721/2010_Census_Blocks_fields.csv\", header=True, inferSchema=True)\n",
    "crime_data = crime_data_1.union(crime_data_2)\n",
    "\n",
    "\n",
    "geojson_path = \"s3://initial-notebook-data-bucket-dblab-905418150721/2010_Census_Blocks.geojson\"\n",
    "blocks_df = sedona.read.format(\"geojson\") \\\n",
    "            .option(\"multiLine\", \"true\").load(geojson_path) \\\n",
    "            .selectExpr(\"explode(features) as features\") \\\n",
    "            .select(\"features.*\")\n",
    "\n",
    "# Formatting magic\n",
    "flattened_blocks_df = blocks_df.select( \\\n",
    "                [col(f\"properties.{col_name}\").alias(col_name) for col_name in \\\n",
    "                blocks_df.schema[\"properties\"].dataType.fieldNames()] + [\"geometry\"]) \\\n",
    "            .drop(\"properties\") \\\n",
    "            .drop(\"type\")"
   ]
  },
  {
   "cell_type": "code",
   "execution_count": 36,
   "id": "908d8e2f-62bf-483f-855d-67e6d9ebfacf",
   "metadata": {
    "tags": []
   },
   "outputs": [
    {
     "data": {
      "application/vnd.jupyter.widget-view+json": {
       "model_id": "",
       "version_major": 2,
       "version_minor": 0
      },
      "text/plain": [
       "FloatProgress(value=0.0, bar_style='info', description='Progress:', layout=Layout(height='25px', width='50%'),…"
      ]
     },
     "metadata": {},
     "output_type": "display_data"
    },
    {
     "name": "stdout",
     "output_type": "stream",
     "text": [
      "+------------+------+----------------+----------------+\n",
      "|COMM        |ZCTA10|total_population|total_households|\n",
      "+------------+------+----------------+----------------+\n",
      "|Little Tokyo|90013 |1956            |1184            |\n",
      "|Little Tokyo|90012 |1179            |893             |\n",
      "+------------+------+----------------+----------------+"
     ]
    }
   ],
   "source": [
    "comm_pop.filter(col(\"COMM\") == (\"Little Tokyo\")).select(\"COMM\", \"ZCTA10\", \"total_population\", \"total_households\").show(100, truncate = False)"
   ]
  },
  {
   "cell_type": "code",
   "execution_count": 6,
   "id": "10cc5753-f505-444b-b304-9e4076854a07",
   "metadata": {
    "tags": []
   },
   "outputs": [
    {
     "data": {
      "application/vnd.jupyter.widget-view+json": {
       "model_id": "",
       "version_major": 2,
       "version_minor": 0
      },
      "text/plain": [
       "FloatProgress(value=0.0, bar_style='info', description='Progress:', layout=Layout(height='25px', width='50%'),…"
      ]
     },
     "metadata": {},
     "output_type": "display_data"
    }
   ],
   "source": [
    "# Filter out unpopulated regions or regions without a name\n",
    "populated_blocks = flattened_blocks_df.filter((flattened_blocks_df.POP_2010 != 0) & (flattened_blocks_df.HOUSING10 != 0) & (flattened_blocks_df.COMM != \" \"))\n",
    "\n",
    "# Calculate total population per region-Zip Code pair (e.g., \"Community-Zip Code\", \"COMM-ZCTA10\")\n",
    "comm_pop = populated_blocks.groupBy(\"COMM\", \"ZCTA10\").agg(\n",
    "    sum(\"POP_2010\").alias(\"total_population\"),\n",
    "    sum(\"HOUSING10\").alias(\"total_households\"),\n",
    ")\n",
    "\n",
    "# Clean the 'Estimated Median Income' column from $ characters\n",
    "la_income_clean = la_income.withColumn(\n",
    "    \"Estimated Median Income\",\n",
    "    regexp_replace(col(\"Estimated Median Income\"), \"[^0-9]\", \"\").cast(\"double\")\n",
    ")\n",
    "\n",
    "# Join the dataframe containing the total_population and total_housing with the income\n",
    "comm_income = comm_pop.join(\n",
    "    la_income_clean, \n",
    "    ((la_income_clean[\"Community\"].contains(comm_pop[\"region\"])) \n",
    "      & (comm_pop[\"zip_code\"] == la_income_clean[\"Zip Code\"])), \"inner\"\n",
    ").drop(la_income_clean[\"Community\"])\n",
    "\n",
    "\n",
    "# Use the \"explain\" function to find out the optimizer's choice on join strategy\n",
    "comm_income.explain(True)\n",
    "\n",
    "# Experiment with join strategies \n",
    "comm_income_broadcast = comm_pop.join(\n",
    "    la_income_clean.hint(\"broadcast\"),\n",
    "    ((la_income_clean[\"Community\"].contains(comm_pop[\"COMM\"])) \n",
    "      & (comm_pop[\"ZCTA10\"] == la_income_clean[\"Zip Code\"])), \"inner\"\n",
    ")\n",
    "\n",
    "comm_income_merge = comm_pop.join(\n",
    "    la_income_clean.hint(\"merge\"),\n",
    "   ((la_income_clean[\"Community\"].contains(comm_pop[\"COMM\"])) \n",
    "      & (comm_pop[\"ZCTA10\"] == la_income_clean[\"Zip Code\"])), \"inner\"\n",
    ")\n",
    "\n",
    "\n",
    "comm_income_shuffle_hash = comm_pop.join(\n",
    "    la_income_clean.hint(\"shuffle_hash\"),\n",
    "  ((la_income_clean[\"Community\"].contains(comm_pop[\"COMM\"])) \n",
    "      & (comm_pop[\"ZCTA10\"] == la_income_clean[\"Zip Code\"])), \"inner\"\n",
    ")\n",
    "\n",
    "comm_income_shuffle_replicate_nl = comm_pop.join(\n",
    "    la_income_clean.hint(\"shuffle_replicate_nl\"),\n",
    "   ((la_income_clean[\"Community\"].contains(comm_pop[\"COMM\"])) \n",
    "      & (comm_pop[\"ZCTA10\"] == la_income_clean[\"Zip Code\"])), \"inner\"\n",
    ")\n",
    "\n",
    "# Measure their performances \n",
    "measure_join_performance(comm_income_broadcast, \"Broadcast Join\")\n",
    "measure_join_performance(comm_income_merge, \"Sort-Merge Join\")\n",
    "measure_join_performance(comm_income_shuffle_hash, \"Shuffle Hash Join\")\n",
    "measure_join_performance(comm_income_shuffle_replicate_nl, \"Replicated Nested Loop Join\")\n",
    "\n",
    "# Keep only the columns of interest in the comm_income\n",
    "comm_income_final = comm_income.select(\n",
    "    \"region\", \n",
    "    \"Zip Code\",\n",
    "    \"total_population\",\n",
    "    col(\"Estimated Median Income\").alias(\"median_income\"),\n",
    "    \"total_households\"\n",
    ")\n"
   ]
  },
  {
   "cell_type": "markdown",
   "id": "b7cf4336-029f-47b9-87c5-828fa34862d6",
   "metadata": {},
   "source": [
    "## Crimes Per Person"
   ]
  },
  {
   "cell_type": "code",
   "execution_count": 21,
   "id": "2a845feb-e80b-4c14-87e8-1674b14a193b",
   "metadata": {
    "tags": []
   },
   "outputs": [
    {
     "data": {
      "application/vnd.jupyter.widget-view+json": {
       "model_id": "",
       "version_major": 2,
       "version_minor": 0
      },
      "text/plain": [
       "FloatProgress(value=0.0, bar_style='info', description='Progress:', layout=Layout(height='25px', width='50%'),…"
      ]
     },
     "metadata": {},
     "output_type": "display_data"
    },
    {
     "name": "stdout",
     "output_type": "stream",
     "text": [
      "+------------+------+------------+--------+----------------+----------------+------------------+\n",
      "|        COMM|ZCTA10|      region|zip_code|total_population|total_households|total_crime_number|\n",
      "+------------+------+------------+--------+----------------+----------------+------------------+\n",
      "|Little Tokyo| 90013|Little Tokyo|   90013|            1956|            1184|              9405|\n",
      "|Little Tokyo| 90012|Little Tokyo|   90012|            1179|             893|              4209|\n",
      "+------------+------+------------+--------+----------------+----------------+------------------+"
     ]
    }
   ],
   "source": [
    "crime_pop.filter(col(\"region\").contains(\"Little Tokyo\")).show()"
   ]
  },
  {
   "cell_type": "code",
   "execution_count": 12,
   "id": "4f8146e1-0e98-48b5-9a96-761e188027df",
   "metadata": {
    "tags": []
   },
   "outputs": [
    {
     "data": {
      "application/vnd.jupyter.widget-view+json": {
       "model_id": "",
       "version_major": 2,
       "version_minor": 0
      },
      "text/plain": [
       "FloatProgress(value=0.0, bar_style='info', description='Progress:', layout=Layout(height='25px', width='50%'),…"
      ]
     },
     "metadata": {},
     "output_type": "display_data"
    },
    {
     "name": "stdout",
     "output_type": "stream",
     "text": [
      "+------------+-----------------------+-------------------------+\n",
      "|      region|region_total_population|region_total_crime_number|\n",
      "+------------+-----------------------+-------------------------+\n",
      "|Little Tokyo|                   3135|                    13614|\n",
      "+------------+-----------------------+-------------------------+"
     ]
    }
   ],
   "source": [
    "region_totals.filter(col(\"region\").contains(\"Little Tokyo\")).show()"
   ]
  },
  {
   "cell_type": "code",
   "execution_count": 22,
   "id": "fddc8564-3220-471f-9cbf-c6063b821609",
   "metadata": {
    "tags": []
   },
   "outputs": [
    {
     "data": {
      "application/vnd.jupyter.widget-view+json": {
       "model_id": "",
       "version_major": 2,
       "version_minor": 0
      },
      "text/plain": [
       "FloatProgress(value=0.0, bar_style='info', description='Progress:', layout=Layout(height='25px', width='50%'),…"
      ]
     },
     "metadata": {},
     "output_type": "display_data"
    },
    {
     "name": "stdout",
     "output_type": "stream",
     "text": [
      "+------------+--------+----------------+-------------+----------------+\n",
      "|      region|Zip Code|total_population|median_income|total_households|\n",
      "+------------+--------+----------------+-------------+----------------+\n",
      "|Little Tokyo|   90012|            1179|      31576.0|             893|\n",
      "+------------+--------+----------------+-------------+----------------+"
     ]
    }
   ],
   "source": [
    "comm_income_final.filter(col(\"region\").contains(\"Little Tokyo\")).show()"
   ]
  },
  {
   "cell_type": "code",
   "execution_count": 25,
   "id": "27ffb04c-7c26-4ce3-9a28-670c2f0d9ae9",
   "metadata": {
    "tags": []
   },
   "outputs": [
    {
     "data": {
      "application/vnd.jupyter.widget-view+json": {
       "model_id": "",
       "version_major": 2,
       "version_minor": 0
      },
      "text/plain": [
       "FloatProgress(value=0.0, bar_style='info', description='Progress:', layout=Layout(height='25px', width='50%'),…"
      ]
     },
     "metadata": {},
     "output_type": "display_data"
    },
    {
     "name": "stdout",
     "output_type": "stream",
     "text": [
      "'\\n# Experiment with join strategies \\nresult_broadcast = zip_income_weight.join(\\n    crime_pop.hint(\"broadcast\"),\\n    (comm_income[\"region\"] == crime_pop[\"COMM\"]) \\n)\\n\\nresult_shuffle_hash = zip_income_weight.join(\\n    crime_pop.hint(\"shuffle_hash\"),\\n   (comm_income[\"region\"] == crime_pop[\"COMM\"]) \\n)\\n\\nresult_merge = zip_income_weight.join(\\n    crime_pop.hint(\"merge\"),\\n    (comm_income[\"region\"] == crime_pop[\"COMM\"]) \\n)\\n\\nresult_shuffle_replicate_nl = zip_income_weight.join(\\n    crime_pop.hint(\"shuffle_replicate_nl\"),\\n    (comm_income[\"region\"] == crime_pop[\"COMM\"]) \\n)\\n\\n# Measure Performances\\nmeasure_join_performance(result_broadcast, \"Broadcast Join\")\\nmeasure_join_performance(result_merge, \"Sort-Merge Join\")\\nmeasure_join_performance(result_shuffle_hash, \"Shuffle Hash Join\")\\nmeasure_join_performance(result_shuffle_replicate_nl, \"Replicated Nested Loop Join\")\\n'"
     ]
    }
   ],
   "source": [
    "# Create geometry column for crime data\n",
    "crime_data = crime_data.filter((col(\"LON\") != 0) | (col(\"LAT\") != 0)) \n",
    "crime_data_geom = crime_data.withColumn(\"geom\", ST_Point(col(\"LON\"), col(\"LAT\")))\n",
    "crime_data_location = crime_data_geom.join(populated_blocks, ST_Within(crime_data_geom[\"geom\"], flattened_blocks_df[\"geometry\"]), \"inner\")\n",
    "#crime_data_location.explain(True)\n",
    "\n",
    "# Group the crime_pop dataframe by \"COMM\" column, and count the number of crimes commited per region.\n",
    "crime_num = crime_data_location.groupBy(\"COMM\", \"ZCTA10\").agg(\n",
    "    count(\"*\").alias(\"total_crime_number\")\n",
    ")\n",
    "\n",
    "# Join income and population data with crime data\n",
    "crime_pop = comm_pop.join(\n",
    "    crime_num,\n",
    "    on= [\"COMM\", \"ZCTA10\"]\n",
    ")\n",
    "'''\n",
    "crime_income.explain(True)\n",
    "\n",
    "# Experiment with join strategies \n",
    "crime_income_broadcast = zip_income_weight.join(\n",
    "    crime_pop.hint(\"broadcast\"),\n",
    "    (comm_income[\"region\"] == crime_pop[\"COMM\"]) \n",
    ")\n",
    "\n",
    "crime_income_shuffle_hash = zip_income_weight.join(\n",
    "    crime_pop.hint(\"shuffle_hash\"),\n",
    "   (comm_income[\"region\"] == crime_pop[\"COMM\"]) \n",
    ")\n",
    "\n",
    "crime_income_merge = zip_income_weight.join(\n",
    "    crime_pop.hint(\"merge\"),\n",
    "    (comm_income[\"region\"] == crime_pop[\"COMM\"]) \n",
    ")\n",
    "\n",
    "crime_income_shuffle_replicate_nl = zip_income_weight.join(\n",
    "    crime_pop.hint(\"shuffle_replicate_nl\"),\n",
    "    (comm_income[\"region\"] == crime_pop[\"COMM\"]) \n",
    ")\n",
    "\n",
    "# Measure Performances\n",
    "measure_join_performance(crime_income_broadcast, \"Broadcast Join\")\n",
    "measure_join_performance(crime_income_merge, \"Sort-Merge Join\")\n",
    "measure_join_performance(crime_income_shuffle_hash, \"Shuffle Hash Join\")\n",
    "measure_join_performance(crime_income_shuffle_replicate_nl, \"Replicated Nested Loop Join\")\n",
    "'''\n",
    "\n",
    "# Calculate total region population\n",
    "region_totals = crime_pop.groupBy(\"region\").agg(\n",
    "    sum(\"total_population\").alias(\"region_total_population_crime\"),\n",
    "    sum(\"total_crime_number\").alias(\"region_total_crime_number\")\n",
    ")\n",
    "\n",
    "\n",
    "income_totals = comm_income_final.groupBy(\"region\").agg(\n",
    "    sum(\"total_population\").alias(\"region_total_population_income\")\n",
    ")\n",
    "\n",
    "# Join the total population of each region and calculate the income per person and crime per person\n",
    "\n",
    "\n",
    "income_result_join = comm_income_final.join(income_totals,  on=\"region\")\n",
    "income_result = income_result_join.groupBy(\"region\").agg(\n",
    "    sum(col(\"total_households\") * col(\"median_income\")/col(\"region_total_population_income\")).alias(\"income_per_person\"),\n",
    ")\n",
    "\n",
    "crime_result = region_totals.groupBy(\"region\").agg(\n",
    "    avg(col(\"region_total_crime_number\")/col(\"region_total_population_crime\")).alias(\"crimes_per_person\")\n",
    ")\n",
    "\n",
    "result = income_result.join(crime_result, on=\"region\")\n",
    "    \n",
    "'''\n",
    "# Experiment with join strategies \n",
    "result_broadcast = zip_income_weight.join(\n",
    "    crime_pop.hint(\"broadcast\"),\n",
    "    (comm_income[\"region\"] == crime_pop[\"COMM\"]) \n",
    ")\n",
    "\n",
    "result_shuffle_hash = zip_income_weight.join(\n",
    "    crime_pop.hint(\"shuffle_hash\"),\n",
    "   (comm_income[\"region\"] == crime_pop[\"COMM\"]) \n",
    ")\n",
    "\n",
    "result_merge = zip_income_weight.join(\n",
    "    crime_pop.hint(\"merge\"),\n",
    "    (comm_income[\"region\"] == crime_pop[\"COMM\"]) \n",
    ")\n",
    "\n",
    "result_shuffle_replicate_nl = zip_income_weight.join(\n",
    "    crime_pop.hint(\"shuffle_replicate_nl\"),\n",
    "    (comm_income[\"region\"] == crime_pop[\"COMM\"]) \n",
    ")\n",
    "\n",
    "# Measure Performances\n",
    "measure_join_performance(result_broadcast, \"Broadcast Join\")\n",
    "measure_join_performance(result_merge, \"Sort-Merge Join\")\n",
    "measure_join_performance(result_shuffle_hash, \"Shuffle Hash Join\")\n",
    "measure_join_performance(result_shuffle_replicate_nl, \"Replicated Nested Loop Join\")\n",
    "'''\n"
   ]
  },
  {
   "cell_type": "code",
   "execution_count": 27,
   "id": "6706a900-57d5-4356-ab16-a87d97f9e5c8",
   "metadata": {
    "tags": []
   },
   "outputs": [
    {
     "data": {
      "application/vnd.jupyter.widget-view+json": {
       "model_id": "",
       "version_major": 2,
       "version_minor": 0
      },
      "text/plain": [
       "FloatProgress(value=0.0, bar_style='info', description='Progress:', layout=Layout(height='25px', width='50%'),…"
      ]
     },
     "metadata": {},
     "output_type": "display_data"
    },
    {
     "name": "stdout",
     "output_type": "stream",
     "text": [
      "+-------------+------------------+------------------+\n",
      "|       region| income_per_person| crimes_per_person|\n",
      "+-------------+------------------+------------------+\n",
      "|       Vernon| 4406.446428571428| 6.339285714285714|\n",
      "|     Downtown| 20983.81025571273| 4.343322386425835|\n",
      "| Little Tokyo| 23916.34266327396| 4.342583732057416|\n",
      "|    Hollywood|25729.159548647393|1.5561056370854967|\n",
      "|    Chinatown| 14476.74654501543|1.2941097544612907|\n",
      "|  Rancho Park|39037.730430606694|1.2649271650392189|\n",
      "|       Venice| 45830.39010055233|1.2587081501521813|\n",
      "|  Westchester|31762.894136060662| 1.222845399666053|\n",
      "| Leimert Park| 17064.34163701068|1.2153918664152976|\n",
      "|Baldwin Hills|16900.587688153224|1.1941330539549502|\n",
      "|    Hyde Park|14104.141176470588|1.0831036827601017|\n",
      "| Park La Brea| 36647.89450437442|1.0259916758685128|\n",
      "|     Westlake|10641.940877225634|1.0030754585728408|\n",
      "|        Watts| 7755.219963684051|0.9951830929083022|\n",
      "|  Studio City| 45258.06898840832|0.9419970631424376|\n",
      "|      Melrose| 38250.00955784575|0.9108275918411808|\n",
      "|    Los Feliz| 29486.58307121995|0.9076713528238556|\n",
      "|     Van Nuys|16182.374753284836|0.9067811398457404|\n",
      "| Hancock Park| 16654.56446025653|0.8983094426946069|\n",
      "|  Canoga Park|18711.116740824116|0.8942867323910203|\n",
      "+-------------+------------------+------------------+\n",
      "only showing top 20 rows"
     ]
    }
   ],
   "source": [
    "result.orderBy(col(\"crimes_per_person\").desc()).show()"
   ]
  }
 ],
 "metadata": {
  "kernelspec": {
   "display_name": "Sparkmagic (PySpark)",
   "language": "python",
   "name": "pysparkkernel"
  },
  "language_info": {
   "codemirror_mode": {
    "name": "python",
    "version": 3
   },
   "file_extension": ".py",
   "mimetype": "text/x-python",
   "name": "pyspark",
   "pygments_lexer": "python3"
  }
 },
 "nbformat": 4,
 "nbformat_minor": 5
}
