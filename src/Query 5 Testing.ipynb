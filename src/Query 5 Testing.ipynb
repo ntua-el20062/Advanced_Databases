{
 "cells": [
  {
   "cell_type": "markdown",
   "id": "994a0a62-d339-4f6e-a6ab-2cd9af8c9571",
   "metadata": {},
   "source": [
    "# Query 5"
   ]
  },
  {
   "cell_type": "code",
   "execution_count": 1,
   "id": "27e32458-249f-4d5d-8e65-d48738f5211c",
   "metadata": {
    "tags": []
   },
   "outputs": [
    {
     "name": "stdout",
     "output_type": "stream",
     "text": [
      "Starting Spark application\n"
     ]
    },
    {
     "data": {
      "text/html": [
       "<table>\n",
       "<tr><th>ID</th><th>YARN Application ID</th><th>Kind</th><th>State</th><th>Spark UI</th><th>Driver log</th><th>User</th><th>Current session?</th></tr><tr><td>2310</td><td>application_1732639283265_2270</td><td>pyspark</td><td>idle</td><td><a target=\"_blank\" href=\"http://ip-192-168-1-36.eu-central-1.compute.internal:20888/proxy/application_1732639283265_2270/\">Link</a></td><td><a target=\"_blank\" href=\"http://ip-192-168-1-94.eu-central-1.compute.internal:8042/node/containerlogs/container_1732639283265_2270_01_000001/livy\">Link</a></td><td>None</td><td>✔</td></tr></table>"
      ],
      "text/plain": [
       "<IPython.core.display.HTML object>"
      ]
     },
     "metadata": {},
     "output_type": "display_data"
    },
    {
     "data": {
      "application/vnd.jupyter.widget-view+json": {
       "model_id": "",
       "version_major": 2,
       "version_minor": 0
      },
      "text/plain": [
       "FloatProgress(value=0.0, bar_style='info', description='Progress:', layout=Layout(height='25px', width='50%'),…"
      ]
     },
     "metadata": {},
     "output_type": "display_data"
    },
    {
     "name": "stdout",
     "output_type": "stream",
     "text": [
      "SparkSession available as 'spark'.\n"
     ]
    },
    {
     "data": {
      "application/vnd.jupyter.widget-view+json": {
       "model_id": "",
       "version_major": 2,
       "version_minor": 0
      },
      "text/plain": [
       "FloatProgress(value=0.0, bar_style='info', description='Progress:', layout=Layout(height='25px', width='50%'),…"
      ]
     },
     "metadata": {},
     "output_type": "display_data"
    }
   ],
   "source": [
    "from sedona.spark import *\n",
    "from pyspark import SparkContext\n",
    "from pyspark.sql.functions import col\n",
    "from pyspark.sql import SparkSession\n",
    "from pyspark.sql.functions import min, count, avg\n",
    "import time\n",
    "import logging"
   ]
  },
  {
   "cell_type": "code",
   "execution_count": 2,
   "id": "5f9f3217-0b5e-4e2e-a573-43c52059f73e",
   "metadata": {},
   "outputs": [
    {
     "data": {
      "application/vnd.jupyter.widget-view+json": {
       "model_id": "",
       "version_major": 2,
       "version_minor": 0
      },
      "text/plain": [
       "FloatProgress(value=0.0, bar_style='info', description='Progress:', layout=Layout(height='25px', width='50%'),…"
      ]
     },
     "metadata": {},
     "output_type": "display_data"
    }
   ],
   "source": [
    "def init_spark(app_name, cores, memory, executors):\n",
    "    global spark\n",
    "    spark = SparkSession.builder \\\n",
    "        .appName(app_name) \\\n",
    "        .config(\"spark.master\", \"yarn\") \\\n",
    "        .config(\"spark.executor.instances\", executors) \\\n",
    "        .config(\"spark.executor.cores\", cores) \\\n",
    "        .config(\"spark.executor.memory\", memory) \\\n",
    "        .getOrCreate()\n",
    "    \n",
    "    sedona = SedonaContext.create(spark)\n",
    "    \n",
    "    return spark, sedona"
   ]
  },
  {
   "cell_type": "code",
   "execution_count": 3,
   "id": "779306a7-eedd-45c0-b960-e0d50ab544c1",
   "metadata": {},
   "outputs": [
    {
     "data": {
      "application/vnd.jupyter.widget-view+json": {
       "model_id": "",
       "version_major": 2,
       "version_minor": 0
      },
      "text/plain": [
       "FloatProgress(value=0.0, bar_style='info', description='Progress:', layout=Layout(height='25px', width='50%'),…"
      ]
     },
     "metadata": {},
     "output_type": "display_data"
    }
   ],
   "source": [
    "def load_data(spark):\n",
    "    crime_data_1 = spark.read.csv(\n",
    "        \"s3://initial-notebook-data-bucket-dblab-905418150721/CrimeData/Crime_Data_from_2010_to_2019_20241101.csv\",\n",
    "        header=True,\n",
    "        inferSchema=True,\n",
    "    )\n",
    "    crime_data_2 = spark.read.csv(\n",
    "        \"s3://initial-notebook-data-bucket-dblab-905418150721/CrimeData/Crime_Data_from_2020_to_Present_20241101.csv\",\n",
    "        header=True,\n",
    "        inferSchema=True,\n",
    "    )\n",
    "    police_stations = spark.read.csv(\n",
    "        \"s3://initial-notebook-data-bucket-dblab-905418150721/LA_Police_Stations.csv\",\n",
    "        header=True,\n",
    "        inferSchema=True,\n",
    "    )\n",
    "    \n",
    "    crime_data = crime_data_1.union(crime_data_2)\n",
    "    return crime_data, police_stations\n"
   ]
  },
  {
   "cell_type": "code",
   "execution_count": 4,
   "id": "05cbaa60-5028-4258-a764-c2063e74e8cb",
   "metadata": {},
   "outputs": [
    {
     "data": {
      "application/vnd.jupyter.widget-view+json": {
       "model_id": "",
       "version_major": 2,
       "version_minor": 0
      },
      "text/plain": [
       "FloatProgress(value=0.0, bar_style='info', description='Progress:', layout=Layout(height='25px', width='50%'),…"
      ]
     },
     "metadata": {},
     "output_type": "display_data"
    }
   ],
   "source": [
    "def process_query5(crime_data, police_stations):\n",
    "    # Add geometry columns\n",
    "    police_stations = police_stations.withColumn(\"station_point\", ST_Point(col(\"X\"), col(\"Y\")))\n",
    "    crime_data = crime_data.withColumn(\"crime_point\", ST_Point(col(\"LON\"), col(\"LAT\")))\n",
    "    \n",
    "    # Cross join and calculate distances\n",
    "    crime_distances = crime_data.crossJoin(police_stations) \\\n",
    "        .withColumn(\"distance\", ST_Distance(col(\"crime_point\"), col(\"station_point\")))\n",
    "\n",
    "    # Find closest police station for each crime\n",
    "    closest_station_crimes = crime_distances.groupBy(\"DR_NO\").agg(\n",
    "        min(\"distance\").alias(\"minimum_distance\")\n",
    "    )\n",
    "    \n",
    "    # Filter for closest stations\n",
    "    crime_distances = crime_distances.withColumnRenamed(\"DR_NO\", \"crime_DR_NO\")\n",
    "    closest_station_final = crime_distances.join(\n",
    "        closest_station_crimes,\n",
    "        ((crime_distances[\"crime_DR_NO\"] == closest_station_crimes[\"DR_NO\"]) &\n",
    "         (crime_distances[\"distance\"] == closest_station_crimes[\"minimum_distance\"]))\n",
    "    ).select(\"DR_NO\", \"DIVISION\", \"distance\")\n",
    "    \n",
    "    # Group by police division and calculate metrics\n",
    "    result = closest_station_final.groupBy(\"DIVISION\").agg(\n",
    "        count(\"DR_NO\").alias(\"crime_count\"),\n",
    "        avg(\"distance\").alias(\"average_distance\")\n",
    "    ).orderBy(col(\"crime_count\").desc())\n",
    "    \n",
    "    return result"
   ]
  },
  {
   "cell_type": "code",
   "execution_count": 5,
   "id": "73dd3965-0fc2-4d00-8ecd-07972b481908",
   "metadata": {},
   "outputs": [
    {
     "data": {
      "application/vnd.jupyter.widget-view+json": {
       "model_id": "",
       "version_major": 2,
       "version_minor": 0
      },
      "text/plain": [
       "FloatProgress(value=0.0, bar_style='info', description='Progress:', layout=Layout(height='25px', width='50%'),…"
      ]
     },
     "metadata": {},
     "output_type": "display_data"
    }
   ],
   "source": [
    "def run_query5(config_name, cores, memory, executors):\n",
    "    print(f\"Running Query 5 with configuration: {config_name}\")\n",
    "    spark, sedona = init_spark(f\"Query 5 - {config_name}\", cores, memory, executors)\n",
    "    crime_data, police_stations = load_data(spark)\n",
    "    start_time = time.time()\n",
    "    result = process_query5(crime_data, police_stations)\n",
    "    \n",
    "    result.show(truncate=False)\n",
    "    end_time = time.time()\n",
    "    \n",
    "    print(f\"Execution Time: {end_time - start_time:.2f} seconds\\n\")\n",
    "\n",
    "    return result"
   ]
  },
  {
   "cell_type": "code",
   "execution_count": 15,
   "id": "4a569174-3f43-467f-b184-3ec7cba10763",
   "metadata": {
    "tags": []
   },
   "outputs": [
    {
     "data": {
      "application/vnd.jupyter.widget-view+json": {
       "model_id": "",
       "version_major": 2,
       "version_minor": 0
      },
      "text/plain": [
       "FloatProgress(value=0.0, bar_style='info', description='Progress:', layout=Layout(height='25px', width='50%'),…"
      ]
     },
     "metadata": {},
     "output_type": "display_data"
    },
    {
     "name": "stdout",
     "output_type": "stream",
     "text": [
      "Running Query 5 with configuration: 2 executors ? 4 cores/8GB memory\n",
      "+----------------+-----------+--------------------+\n",
      "|DIVISION        |crime_count|average_distance    |\n",
      "+----------------+-----------+--------------------+\n",
      "|HOLLYWOOD       |213080     |0.020437790725485506|\n",
      "|VAN NUYS        |211457     |0.02865315459062924 |\n",
      "|WILSHIRE        |198150     |0.026312166557481597|\n",
      "|SOUTHWEST       |186742     |0.02157700118424317 |\n",
      "|OLYMPIC         |180463     |0.017291621123313394|\n",
      "|NORTH HOLLYWOOD |171159     |0.02611521422256785 |\n",
      "|77TH STREET     |167323     |0.016584871496068302|\n",
      "|PACIFIC         |157468     |0.03749577708831207 |\n",
      "|CENTRAL         |154474     |0.00986808684923522 |\n",
      "|SOUTHEAST       |151999     |0.024150127195506466|\n",
      "|RAMPART         |149675     |0.014730484635455818|\n",
      "|TOPANGA         |147167     |0.032438903351567704|\n",
      "|WEST VALLEY     |130933     |0.028973607196407444|\n",
      "|HARBOR          |130206     |3.2997622866934644  |\n",
      "|FOOTHILL        |122515     |0.04125740608010442 |\n",
      "|WEST LOS ANGELES|121074     |0.02984260656485961 |\n",
      "|HOLLENBECK      |119329     |0.02640744523588524 |\n",
      "|NEWTON          |109078     |0.01589086682260394 |\n",
      "|MISSION         |109009     |0.035032007153604945|\n",
      "|NORTHEAST       |105687     |0.03907902069344013 |\n",
      "+----------------+-----------+--------------------+\n",
      "only showing top 20 rows\n",
      "\n",
      "Execution Time: 6.22 seconds\n",
      "\n",
      "Running Query 5 with configuration: 4 executors ? 2 cores/4GB memory\n",
      "+----------------+-----------+--------------------+\n",
      "|DIVISION        |crime_count|average_distance    |\n",
      "+----------------+-----------+--------------------+\n",
      "|HOLLYWOOD       |213080     |0.02043779072548551 |\n",
      "|VAN NUYS        |211457     |0.02865315459062926 |\n",
      "|WILSHIRE        |198150     |0.026312166557481587|\n",
      "|SOUTHWEST       |186742     |0.021577001184243168|\n",
      "|OLYMPIC         |180463     |0.017291621123313387|\n",
      "|NORTH HOLLYWOOD |171159     |0.02611521422256784 |\n",
      "|77TH STREET     |167323     |0.0165848714960683  |\n",
      "|PACIFIC         |157468     |0.03749577708831204 |\n",
      "|CENTRAL         |154474     |0.009868086849235222|\n",
      "|SOUTHEAST       |151999     |0.02415012719550647 |\n",
      "|RAMPART         |149675     |0.014730484635455822|\n",
      "|TOPANGA         |147167     |0.0324389033515677  |\n",
      "|WEST VALLEY     |130933     |0.028973607196407448|\n",
      "|HARBOR          |130206     |3.2997622866934644  |\n",
      "|FOOTHILL        |122515     |0.0412574060801044  |\n",
      "|WEST LOS ANGELES|121074     |0.029842606564859615|\n",
      "|HOLLENBECK      |119329     |0.026407445235885257|\n",
      "|NEWTON          |109078     |0.015890866822603943|\n",
      "|MISSION         |109009     |0.035032007153604966|\n",
      "|NORTHEAST       |105687     |0.03907902069344013 |\n",
      "+----------------+-----------+--------------------+\n",
      "only showing top 20 rows\n",
      "\n",
      "Execution Time: 6.11 seconds\n",
      "\n",
      "Running Query 5 with configuration: 8 executors ? 1 core/2GB memory\n",
      "+----------------+-----------+--------------------+\n",
      "|DIVISION        |crime_count|average_distance    |\n",
      "+----------------+-----------+--------------------+\n",
      "|HOLLYWOOD       |213080     |0.02043779072548551 |\n",
      "|VAN NUYS        |211457     |0.028653154590629237|\n",
      "|WILSHIRE        |198150     |0.026312166557481597|\n",
      "|SOUTHWEST       |186742     |0.021577001184243175|\n",
      "|OLYMPIC         |180463     |0.017291621123313387|\n",
      "|NORTH HOLLYWOOD |171159     |0.02611521422256785 |\n",
      "|77TH STREET     |167323     |0.016584871496068306|\n",
      "|PACIFIC         |157468     |0.037495777088312025|\n",
      "|CENTRAL         |154474     |0.009868086849235224|\n",
      "|SOUTHEAST       |151999     |0.024150127195506473|\n",
      "|RAMPART         |149675     |0.014730484635455815|\n",
      "|TOPANGA         |147167     |0.03243890335156771 |\n",
      "|WEST VALLEY     |130933     |0.028973607196407437|\n",
      "|HARBOR          |130206     |3.299762286693465   |\n",
      "|FOOTHILL        |122515     |0.04125740608010441 |\n",
      "|WEST LOS ANGELES|121074     |0.029842606564859615|\n",
      "|HOLLENBECK      |119329     |0.026407445235885264|\n",
      "|NEWTON          |109078     |0.015890866822603947|\n",
      "|MISSION         |109009     |0.03503200715360497 |\n",
      "|NORTHEAST       |105687     |0.039079020693440124|\n",
      "+----------------+-----------+--------------------+\n",
      "only showing top 20 rows\n",
      "\n",
      "Execution Time: 6.05 seconds"
     ]
    }
   ],
   "source": [
    "configs = [\n",
    "    {\"name\": \"2 executors × 4 cores/8GB memory\", \"cores\": 4, \"memory\": \"8g\", \"executors\": 2},\n",
    "    {\"name\": \"4 executors × 2 cores/4GB memory\", \"cores\": 2, \"memory\": \"4g\", \"executors\": 4},\n",
    "    {\"name\": \"8 executors × 1 core/2GB memory\", \"cores\": 1, \"memory\": \"2g\", \"executors\": 8},\n",
    "]\n",
    "\n",
    "# Execute Query 5 for all configurations\n",
    "results = {}\n",
    "for config in configs:\n",
    "    results[config[\"name\"]] = run_query5(config[\"name\"], config[\"cores\"], \n",
    "                                         config[\"memory\"], config[\"executors\"])"
   ]
  }
 ],
 "metadata": {
  "kernelspec": {
   "display_name": "Sparkmagic (PySpark)",
   "language": "python",
   "name": "pysparkkernel"
  },
  "language_info": {
   "codemirror_mode": {
    "name": "python",
    "version": 3
   },
   "file_extension": ".py",
   "mimetype": "text/x-python",
   "name": "pyspark",
   "pygments_lexer": "python3"
  }
 },
 "nbformat": 4,
 "nbformat_minor": 5
}
