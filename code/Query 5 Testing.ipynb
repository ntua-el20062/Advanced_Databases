{
 "cells": [
  {
   "cell_type": "markdown",
   "id": "994a0a62-d339-4f6e-a6ab-2cd9af8c9571",
   "metadata": {},
   "source": [
    "# Query 5"
   ]
  },
  {
   "cell_type": "code",
   "execution_count": 7,
   "id": "27e32458-249f-4d5d-8e65-d48738f5211c",
   "metadata": {
    "tags": []
   },
   "outputs": [
    {
     "data": {
      "application/vnd.jupyter.widget-view+json": {
       "model_id": "",
       "version_major": 2,
       "version_minor": 0
      },
      "text/plain": [
       "FloatProgress(value=0.0, bar_style='info', description='Progress:', layout=Layout(height='25px', width='50%'),…"
      ]
     },
     "metadata": {},
     "output_type": "display_data"
    }
   ],
   "source": [
    "from sedona.spark import *\n",
    "from pyspark import SparkContext\n",
    "from pyspark.sql.functions import col\n",
    "from pyspark.sql import SparkSession\n",
    "from pyspark.sql.functions import min, count, avg\n",
    "import time\n",
    "import logging"
   ]
  },
  {
   "cell_type": "code",
   "execution_count": 8,
   "id": "5f9f3217-0b5e-4e2e-a573-43c52059f73e",
   "metadata": {},
   "outputs": [
    {
     "data": {
      "application/vnd.jupyter.widget-view+json": {
       "model_id": "",
       "version_major": 2,
       "version_minor": 0
      },
      "text/plain": [
       "FloatProgress(value=0.0, bar_style='info', description='Progress:', layout=Layout(height='25px', width='50%'),…"
      ]
     },
     "metadata": {},
     "output_type": "display_data"
    }
   ],
   "source": [
    "def init_spark(app_name, cores, memory, executors):\n",
    "    global spark\n",
    "    spark = SparkSession.builder \\\n",
    "        .appName(app_name) \\\n",
    "        .config(\"spark.master\", \"yarn\") \\\n",
    "        .config(\"spark.executor.instances\", executors) \\\n",
    "        .config(\"spark.executor.cores\", cores) \\\n",
    "        .config(\"spark.executor.memory\", memory) \\\n",
    "        .getOrCreate()\n",
    "    \n",
    "    sedona = SedonaContext.create(spark)\n",
    "    \n",
    "    return spark, sedona"
   ]
  },
  {
   "cell_type": "code",
   "execution_count": 3,
   "id": "779306a7-eedd-45c0-b960-e0d50ab544c1",
   "metadata": {},
   "outputs": [
    {
     "data": {
      "application/vnd.jupyter.widget-view+json": {
       "model_id": "",
       "version_major": 2,
       "version_minor": 0
      },
      "text/plain": [
       "FloatProgress(value=0.0, bar_style='info', description='Progress:', layout=Layout(height='25px', width='50%'),…"
      ]
     },
     "metadata": {},
     "output_type": "display_data"
    }
   ],
   "source": [
    "def load_data(spark):\n",
    "    crime_data = spark.read.csv(\n",
    "        \"s3://initial-notebook-data-bucket-dblab-905418150721/CrimeData/Crime_Data_from_2010_to_2019_20241101.csv\",\n",
    "        header=True,\n",
    "        inferSchema=True,\n",
    "    )\n",
    "    police_stations = spark.read.csv(\n",
    "        \"s3://initial-notebook-data-bucket-dblab-905418150721/LA_Police_Stations.csv\",\n",
    "        header=True,\n",
    "        inferSchema=True,\n",
    "    )\n",
    "    return crime_data, police_stations\n"
   ]
  },
  {
   "cell_type": "code",
   "execution_count": 4,
   "id": "05cbaa60-5028-4258-a764-c2063e74e8cb",
   "metadata": {},
   "outputs": [
    {
     "data": {
      "application/vnd.jupyter.widget-view+json": {
       "model_id": "",
       "version_major": 2,
       "version_minor": 0
      },
      "text/plain": [
       "FloatProgress(value=0.0, bar_style='info', description='Progress:', layout=Layout(height='25px', width='50%'),…"
      ]
     },
     "metadata": {},
     "output_type": "display_data"
    }
   ],
   "source": [
    "def process_query5(crime_data, police_stations):\n",
    "    # Add geometry columns\n",
    "    police_stations = police_stations.withColumn(\"station_point\", ST_Point(col(\"X\"), col(\"Y\")))\n",
    "    crime_data = crime_data.withColumn(\"crime_point\", ST_Point(col(\"LON\"), col(\"LAT\")))\n",
    "    \n",
    "    # Cross join and calculate distances\n",
    "    crime_distances = crime_data.crossJoin(police_stations) \\\n",
    "        .withColumn(\"distance\", ST_Distance(col(\"crime_point\"), col(\"station_point\")))\n",
    "\n",
    "    # Find closest police station for each crime\n",
    "    closest_station_crimes = crime_distances.groupBy(\"DR_NO\").agg(\n",
    "        min(\"distance\").alias(\"minimum_distance\")\n",
    "    )\n",
    "    \n",
    "    # Filter for closest stations\n",
    "    crime_distances = crime_distances.withColumnRenamed(\"DR_NO\", \"crime_DR_NO\")\n",
    "    closest_station_final = crime_distances.join(\n",
    "        closest_station_crimes,\n",
    "        ((crime_distances[\"crime_DR_NO\"] == closest_station_crimes[\"DR_NO\"]) &\n",
    "         (crime_distances[\"distance\"] == closest_station_crimes[\"minimum_distance\"]))\n",
    "    ).select(\"DR_NO\", \"DIVISION\", \"distance\")\n",
    "    \n",
    "    # Group by police division and calculate metrics\n",
    "    result = closest_station_final.groupBy(\"DIVISION\").agg(\n",
    "        count(\"DR_NO\").alias(\"crime_count\"),\n",
    "        avg(\"distance\").alias(\"average_distance\")\n",
    "    ).orderBy(col(\"crime_count\").desc())\n",
    "    \n",
    "    return result"
   ]
  },
  {
   "cell_type": "code",
   "execution_count": 11,
   "id": "73dd3965-0fc2-4d00-8ecd-07972b481908",
   "metadata": {},
   "outputs": [
    {
     "data": {
      "application/vnd.jupyter.widget-view+json": {
       "model_id": "",
       "version_major": 2,
       "version_minor": 0
      },
      "text/plain": [
       "FloatProgress(value=0.0, bar_style='info', description='Progress:', layout=Layout(height='25px', width='50%'),…"
      ]
     },
     "metadata": {},
     "output_type": "display_data"
    }
   ],
   "source": [
    "def run_query5(config_name, cores, memory, executors):\n",
    "    print(f\"Running Query 5 with configuration: {config_name}\")\n",
    "    spark, sedona = init_spark(f\"Query 5 - {config_name}\", cores, memory, executors)\n",
    "    crime_data, police_stations = load_data(spark)\n",
    "    start_time = time.time()\n",
    "    result = process_query5(crime_data, police_stations)\n",
    "    \n",
    "    result.show(truncate=False)\n",
    "    end_time = time.time()\n",
    "    \n",
    "    print(f\"Execution Time: {end_time - start_time:.2f} seconds\\n\")\n",
    "\n",
    "    return result"
   ]
  },
  {
   "cell_type": "code",
   "execution_count": 12,
   "id": "4a569174-3f43-467f-b184-3ec7cba10763",
   "metadata": {
    "tags": []
   },
   "outputs": [
    {
     "data": {
      "application/vnd.jupyter.widget-view+json": {
       "model_id": "",
       "version_major": 2,
       "version_minor": 0
      },
      "text/plain": [
       "FloatProgress(value=0.0, bar_style='info', description='Progress:', layout=Layout(height='25px', width='50%'),…"
      ]
     },
     "metadata": {},
     "output_type": "display_data"
    },
    {
     "name": "stdout",
     "output_type": "stream",
     "text": [
      "Running Query 5 with configuration: 2 executors ? 4 cores/8GB memory\n",
      "+----------------+-----------+--------------------+\n",
      "|DIVISION        |crime_count|average_distance    |\n",
      "+----------------+-----------+--------------------+\n",
      "|VAN NUYS        |148946     |0.028563399035369776|\n",
      "|HOLLYWOOD       |140927     |0.02044406038065546 |\n",
      "|SOUTHWEST       |133420     |0.021628874258637708|\n",
      "|WILSHIRE        |132967     |0.02632706717398013 |\n",
      "|OLYMPIC         |119636     |0.017338152570481335|\n",
      "|NORTH HOLLYWOOD |118938     |0.02630801200455022 |\n",
      "|77TH STREET     |116946     |0.016632946064630547|\n",
      "|SOUTHEAST       |105162     |0.024035833114151407|\n",
      "|PACIFIC         |104090     |0.037408008860875315|\n",
      "|TOPANGA         |103828     |0.03233359516748021 |\n",
      "|RAMPART         |95479      |0.014934307019218182|\n",
      "|CENTRAL         |93531      |0.00949548266780149 |\n",
      "|WEST VALLEY     |90132      |0.02898937155246247 |\n",
      "|HARBOR          |89176      |1.2869668064902091  |\n",
      "|FOOTHILL        |87497      |0.04125249859939292 |\n",
      "|HOLLENBECK      |81541      |0.026781603358714164|\n",
      "|WEST LOS ANGELES|79670      |0.03034315355529467 |\n",
      "|MISSION         |78753      |0.03510418043747407 |\n",
      "|NORTHEAST       |75180      |0.039246760712408416|\n",
      "|NEWTON          |73844      |0.015840701228143832|\n",
      "+----------------+-----------+--------------------+\n",
      "only showing top 20 rows\n",
      "\n",
      "Execution Time: 7.30 seconds\n",
      "\n",
      "Running Query 5 with configuration: 4 executors ? 2 cores/4GB memory\n",
      "+----------------+-----------+--------------------+\n",
      "|DIVISION        |crime_count|average_distance    |\n",
      "+----------------+-----------+--------------------+\n",
      "|VAN NUYS        |148946     |0.028563399035369794|\n",
      "|HOLLYWOOD       |140927     |0.020444060380655455|\n",
      "|SOUTHWEST       |133420     |0.021628874258637704|\n",
      "|WILSHIRE        |132967     |0.026327067173980135|\n",
      "|OLYMPIC         |119636     |0.01733815257048133 |\n",
      "|NORTH HOLLYWOOD |118938     |0.026308012004550223|\n",
      "|77TH STREET     |116946     |0.016632946064630543|\n",
      "|SOUTHEAST       |105162     |0.024035833114151407|\n",
      "|PACIFIC         |104090     |0.037408008860875294|\n",
      "|TOPANGA         |103828     |0.0323335951674802  |\n",
      "|RAMPART         |95479      |0.014934307019218173|\n",
      "|CENTRAL         |93531      |0.009495482667801486|\n",
      "|WEST VALLEY     |90132      |0.02898937155246247 |\n",
      "|HARBOR          |89176      |1.2869668064902091  |\n",
      "|FOOTHILL        |87497      |0.04125249859939291 |\n",
      "|HOLLENBECK      |81541      |0.02678160335871417 |\n",
      "|WEST LOS ANGELES|79670      |0.030343153555294683|\n",
      "|MISSION         |78753      |0.03510418043747406 |\n",
      "|NORTHEAST       |75180      |0.03924676071240839 |\n",
      "|NEWTON          |73844      |0.01584070122814383 |\n",
      "+----------------+-----------+--------------------+\n",
      "only showing top 20 rows\n",
      "\n",
      "Execution Time: 6.54 seconds\n",
      "\n",
      "Running Query 5 with configuration: 8 executors ? 1 core/2GB memory\n",
      "+----------------+-----------+--------------------+\n",
      "|DIVISION        |crime_count|average_distance    |\n",
      "+----------------+-----------+--------------------+\n",
      "|VAN NUYS        |148946     |0.028563399035369787|\n",
      "|HOLLYWOOD       |140927     |0.020444060380655465|\n",
      "|SOUTHWEST       |133420     |0.021628874258637694|\n",
      "|WILSHIRE        |132967     |0.02632706717398014 |\n",
      "|OLYMPIC         |119636     |0.017338152570481335|\n",
      "|NORTH HOLLYWOOD |118938     |0.026308012004550223|\n",
      "|77TH STREET     |116946     |0.016632946064630547|\n",
      "|SOUTHEAST       |105162     |0.024035833114151403|\n",
      "|PACIFIC         |104090     |0.0374080088608753  |\n",
      "|TOPANGA         |103828     |0.03233359516748022 |\n",
      "|RAMPART         |95479      |0.014934307019218182|\n",
      "|CENTRAL         |93531      |0.009495482667801489|\n",
      "|WEST VALLEY     |90132      |0.028989371552462465|\n",
      "|HARBOR          |89176      |1.286966806490209   |\n",
      "|FOOTHILL        |87497      |0.04125249859939293 |\n",
      "|HOLLENBECK      |81541      |0.02678160335871417 |\n",
      "|WEST LOS ANGELES|79670      |0.03034315355529468 |\n",
      "|MISSION         |78753      |0.03510418043747408 |\n",
      "|NORTHEAST       |75180      |0.03924676071240841 |\n",
      "|NEWTON          |73844      |0.015840701228143825|\n",
      "+----------------+-----------+--------------------+\n",
      "only showing top 20 rows\n",
      "\n",
      "Execution Time: 6.03 seconds"
     ]
    }
   ],
   "source": [
    "configs = [\n",
    "    {\"name\": \"2 executors × 4 cores/8GB memory\", \"cores\": 4, \"memory\": \"8g\", \"executors\": 2},\n",
    "    {\"name\": \"4 executors × 2 cores/4GB memory\", \"cores\": 2, \"memory\": \"4g\", \"executors\": 4},\n",
    "    {\"name\": \"8 executors × 1 core/2GB memory\", \"cores\": 1, \"memory\": \"2g\", \"executors\": 8},\n",
    "]\n",
    "\n",
    "# Execute Query 5 for all configurations\n",
    "results = {}\n",
    "for config in configs:\n",
    "    results[config[\"name\"]] = run_query5(config[\"name\"], config[\"cores\"], config[\"memory\"], config[\"executors\"])"
   ]
  }
 ],
 "metadata": {
  "kernelspec": {
   "display_name": "Sparkmagic (PySpark)",
   "language": "python",
   "name": "pysparkkernel"
  },
  "language_info": {
   "codemirror_mode": {
    "name": "python",
    "version": 3
   },
   "file_extension": ".py",
   "mimetype": "text/x-python",
   "name": "pyspark",
   "pygments_lexer": "python3"
  }
 },
 "nbformat": 4,
 "nbformat_minor": 5
}
