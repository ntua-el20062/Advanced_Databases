{
 "cells": [
  {
   "cell_type": "markdown",
   "id": "2361a263-315a-4331-9662-2f00903c384b",
   "metadata": {},
   "source": [
    "# Query 5"
   ]
  },
  {
   "cell_type": "code",
   "execution_count": 1,
   "id": "a3cf1be0-752d-44aa-b39e-1d077299caa4",
   "metadata": {
    "tags": []
   },
   "outputs": [
    {
     "name": "stdout",
     "output_type": "stream",
     "text": [
      "Starting Spark application\n"
     ]
    },
    {
     "data": {
      "text/html": [
       "<table>\n",
       "<tr><th>ID</th><th>YARN Application ID</th><th>Kind</th><th>State</th><th>Spark UI</th><th>Driver log</th><th>User</th><th>Current session?</th></tr><tr><td>378</td><td>application_1732639283265_0347</td><td>pyspark</td><td>idle</td><td><a target=\"_blank\" href=\"http://ip-192-168-1-36.eu-central-1.compute.internal:20888/proxy/application_1732639283265_0347/\">Link</a></td><td><a target=\"_blank\" href=\"http://ip-192-168-1-91.eu-central-1.compute.internal:8042/node/containerlogs/container_1732639283265_0347_01_000001/livy\">Link</a></td><td>None</td><td>✔</td></tr></table>"
      ],
      "text/plain": [
       "<IPython.core.display.HTML object>"
      ]
     },
     "metadata": {},
     "output_type": "display_data"
    },
    {
     "data": {
      "application/vnd.jupyter.widget-view+json": {
       "model_id": "",
       "version_major": 2,
       "version_minor": 0
      },
      "text/plain": [
       "FloatProgress(value=0.0, bar_style='info', description='Progress:', layout=Layout(height='25px', width='50%'),…"
      ]
     },
     "metadata": {},
     "output_type": "display_data"
    },
    {
     "name": "stdout",
     "output_type": "stream",
     "text": [
      "SparkSession available as 'spark'.\n"
     ]
    },
    {
     "data": {
      "application/vnd.jupyter.widget-view+json": {
       "model_id": "",
       "version_major": 2,
       "version_minor": 0
      },
      "text/plain": [
       "FloatProgress(value=0.0, bar_style='info', description='Progress:', layout=Layout(height='25px', width='50%'),…"
      ]
     },
     "metadata": {},
     "output_type": "display_data"
    }
   ],
   "source": [
    "from pyspark.sql import SparkSession\n",
    "from sedona.spark import *\n",
    "from pyspark.sql.functions import col\n",
    "from pyspark.sql import SparkSession\n",
    "from pyspark.sql.functions import min, count, avg\n",
    "\n",
    "# Initialize Spark session with specified configurations\n",
    "# 2 executor x 4 cores/8GB memory\n",
    "spark = SparkSession.builder \\\n",
    "    .appName(\"Query 5 Resource Experiment\") \\\n",
    "    .config(\"spark.executor.instances\", 2) \\\n",
    "    .config(\"spark.executor.cores\", 4) \\\n",
    "    .config(\"spark.executor.memory\", \"8g\") \\\n",
    "    .config(\"spark.driver.memory\", \"16g\") \\\n",
    "    .getOrCreate()\n",
    "\n",
    "# 4 executors × 2 cores/4GB memory\n",
    "spark = SparkSession.builder \\\n",
    "    .config(\"spark.executor.instances\", 4) \\\n",
    "    .config(\"spark.executor.cores\", 2) \\\n",
    "    .config(\"spark.executor.memory\", \"4g\") \\\n",
    "    .getOrCreate()\n",
    "\n",
    "# 8 executors × 1 core/2GB memory\n",
    "spark = SparkSession.builder \\\n",
    "    .config(\"spark.executor.instances\", 8) \\\n",
    "    .config(\"spark.executor.cores\", 1) \\\n",
    "    .config(\"spark.executor.memory\", \"2g\") \\\n",
    "    .getOrCreate()\n",
    "\n",
    "# Create sedona context\n",
    "sedona = SedonaContext.create(spark)\n",
    "\n",
    "# Load the crime data, LA income and RE codes csv \n",
    "crime_data = spark.read.csv(\"s3://initial-notebook-data-bucket-dblab-905418150721/CrimeData/Crime_Data_from_2010_to_2019_20241101.csv\", header=True, inferSchema=True)\n",
    "police_stations = spark.read.csv(\"s3://initial-notebook-data-bucket-dblab-905418150721/LA_Police_Stations.csv\", header=True, inferSchema=True)"
   ]
  },
  {
   "cell_type": "markdown",
   "id": "f29464a9-b080-42e4-a5ef-7e8d0b2c3033",
   "metadata": {},
   "source": [
    "## Geometry\n",
    "Calculate the location point of the police stations and the crime scenes"
   ]
  },
  {
   "cell_type": "code",
   "execution_count": 2,
   "id": "8dbfdf8b-6cf4-4d5e-b5d7-80a7ba6b5d97",
   "metadata": {
    "tags": []
   },
   "outputs": [
    {
     "data": {
      "application/vnd.jupyter.widget-view+json": {
       "model_id": "",
       "version_major": 2,
       "version_minor": 0
      },
      "text/plain": [
       "FloatProgress(value=0.0, bar_style='info', description='Progress:', layout=Layout(height='25px', width='50%'),…"
      ]
     },
     "metadata": {},
     "output_type": "display_data"
    },
    {
     "name": "stdout",
     "output_type": "stream",
     "text": [
      "DataFrame[X: double, Y: double, FID: int, DIVISION: string, LOCATION: string, PREC: int]"
     ]
    }
   ],
   "source": [
    "print(police_stations)"
   ]
  },
  {
   "cell_type": "code",
   "execution_count": 3,
   "id": "b2ed9734-5025-4df2-bdfb-3eb5d2756d4d",
   "metadata": {
    "tags": []
   },
   "outputs": [
    {
     "data": {
      "application/vnd.jupyter.widget-view+json": {
       "model_id": "",
       "version_major": 2,
       "version_minor": 0
      },
      "text/plain": [
       "FloatProgress(value=0.0, bar_style='info', description='Progress:', layout=Layout(height='25px', width='50%'),…"
      ]
     },
     "metadata": {},
     "output_type": "display_data"
    }
   ],
   "source": [
    "# Add a column containing the police station location points \n",
    "police_stations = police_stations.withColumn(\"station_point\", ST_Point(col(\"X\"), col(\"Y\")))\n",
    "crime_data = crime_data.withColumn(\"crime_point\", ST_Point(col(\"LON\"), col(\"LAT\")))"
   ]
  },
  {
   "cell_type": "code",
   "execution_count": 4,
   "id": "61a1c07d-e48f-4c36-b1da-61e46f7b4320",
   "metadata": {
    "tags": []
   },
   "outputs": [
    {
     "data": {
      "application/vnd.jupyter.widget-view+json": {
       "model_id": "",
       "version_major": 2,
       "version_minor": 0
      },
      "text/plain": [
       "FloatProgress(value=0.0, bar_style='info', description='Progress:', layout=Layout(height='25px', width='50%'),…"
      ]
     },
     "metadata": {},
     "output_type": "display_data"
    },
    {
     "name": "stdout",
     "output_type": "stream",
     "text": [
      "DataFrame[DR_NO: int, Date Rptd: string, DATE OCC: string, TIME OCC: int, AREA : int, AREA NAME: string, Rpt Dist No: int, Part 1-2: int, Crm Cd: int, Crm Cd Desc: string, Mocodes: string, Vict Age: int, Vict Sex: string, Vict Descent: string, Premis Cd: int, Premis Desc: string, Weapon Used Cd: int, Weapon Desc: string, Status: string, Status Desc: string, Crm Cd 1: int, Crm Cd 2: int, Crm Cd 3: int, Crm Cd 4: int, LOCATION: string, Cross Street: string, LAT: double, LON: double, crime_point: udt, X: double, Y: double, FID: int, DIVISION: string, LOCATION: string, PREC: int, station_point: udt, distance: double]"
     ]
    }
   ],
   "source": [
    "# Cross join crimes with police stations to calculate distances\n",
    "crime_distances = crime_data.crossJoin(police_stations)\n",
    "crime_distances = crime_distances.withColumn(\"distance\", ST_Distance(col(\"crime_point\"), col(\"station_point\")))\n",
    "print(crime_distances)"
   ]
  },
  {
   "cell_type": "code",
   "execution_count": 5,
   "id": "e8a489ba-abe9-489f-962e-ebda807979f8",
   "metadata": {
    "tags": []
   },
   "outputs": [
    {
     "data": {
      "application/vnd.jupyter.widget-view+json": {
       "model_id": "",
       "version_major": 2,
       "version_minor": 0
      },
      "text/plain": [
       "FloatProgress(value=0.0, bar_style='info', description='Progress:', layout=Layout(height='25px', width='50%'),…"
      ]
     },
     "metadata": {},
     "output_type": "display_data"
    },
    {
     "name": "stdout",
     "output_type": "stream",
     "text": [
      "DataFrame[DR_NO: int, minimum_distance: double]\n",
      "DataFrame[DR_NO: int, Date Rptd: string, DATE OCC: string, TIME OCC: int, AREA : int, AREA NAME: string, Rpt Dist No: int, Part 1-2: int, Crm Cd: int, Crm Cd Desc: string, Mocodes: string, Vict Age: int, Vict Sex: string, Vict Descent: string, Premis Cd: int, Premis Desc: string, Weapon Used Cd: int, Weapon Desc: string, Status: string, Status Desc: string, Crm Cd 1: int, Crm Cd 2: int, Crm Cd 3: int, Crm Cd 4: int, LOCATION: string, Cross Street: string, LAT: double, LON: double, crime_point: udt, X: double, Y: double, FID: int, DIVISION: string, LOCATION: string, PREC: int, station_point: udt, distance: double]\n",
      "+---------+--------------------+\n",
      "|    DR_NO|    minimum_distance|\n",
      "+---------+--------------------+\n",
      "|130208730|0.009986557225297343|\n",
      "|130208787| 0.02931662261625151|\n",
      "|130208832|0.001899079096345...|\n",
      "|130209074|0.016979636963838463|\n",
      "|130209107|0.014425854158906992|\n",
      "|130209166|0.027496466082455765|\n",
      "|130209167|0.010310265448288187|\n",
      "|130209237|0.010083447982419474|\n",
      "|130209324|0.002527315535137799|\n",
      "|130209518|0.012876981735405447|\n",
      "|130209789|0.013112457070429703|\n",
      "|130209894|0.009091241863142294|\n",
      "|130209967|0.011215611272428979|\n",
      "|130209974| 0.01831851283329617|\n",
      "|130210077| 0.00565222667753393|\n",
      "|130210174| 0.01608279760533045|\n",
      "|130210177|0.014857403784449072|\n",
      "|130210179|0.011270511728140312|\n",
      "|130210220|0.022240973535664593|\n",
      "|130210240|0.011864785165509728|\n",
      "+---------+--------------------+\n",
      "only showing top 20 rows"
     ]
    }
   ],
   "source": [
    "# Find the closest police station for each crime\n",
    "closest_station_crimes = crime_distances.groupBy(\"DR_NO\").agg(\n",
    "    min(\"distance\").alias(\"minimum_distance\")\n",
    ")\n",
    "print(closest_station_crimes)\n",
    "print(crime_distances)\n",
    "closest_station_crimes.show()"
   ]
  },
  {
   "cell_type": "code",
   "execution_count": 7,
   "id": "5d2fb123-f2aa-45b4-bf0c-303e1a92b5c0",
   "metadata": {
    "tags": []
   },
   "outputs": [
    {
     "data": {
      "application/vnd.jupyter.widget-view+json": {
       "model_id": "",
       "version_major": 2,
       "version_minor": 0
      },
      "text/plain": [
       "FloatProgress(value=0.0, bar_style='info', description='Progress:', layout=Layout(height='25px', width='50%'),…"
      ]
     },
     "metadata": {},
     "output_type": "display_data"
    },
    {
     "name": "stdout",
     "output_type": "stream",
     "text": [
      "DataFrame[DR_NO: int, division: string, distance: double]"
     ]
    }
   ],
   "source": [
    "# Rename DR_NO in one DataFrame to avoid ambiguity\n",
    "crime_distances = crime_distances.withColumnRenamed(\"DR_NO\", \"crime_DR_NO\")\n",
    "\n",
    "# Filter the rows of the joint crimes and distances to only keep\n",
    "# the closest station for each crime \n",
    "closest_station_final = crime_distances.join(closest_station_crimes, \n",
    "    ((crime_distances[\"crime_DR_NO\"] == closest_station_crimes[\"DR_NO\"]) &\n",
    "     (crime_distances[\"distance\"] == closest_station_crimes[\"minimum_distance\"])))\n",
    "\n",
    "# Only keep the columns we need for the final group and count \n",
    "closest_station_final = closest_station_final.select(\"DR_NO\", \"division\", \"distance\")\n",
    "\n",
    "print(closest_station_final)"
   ]
  },
  {
   "cell_type": "code",
   "execution_count": 8,
   "id": "c8547bf0-a4dc-4114-a66d-82146eef84f0",
   "metadata": {
    "tags": []
   },
   "outputs": [
    {
     "data": {
      "application/vnd.jupyter.widget-view+json": {
       "model_id": "",
       "version_major": 2,
       "version_minor": 0
      },
      "text/plain": [
       "FloatProgress(value=0.0, bar_style='info', description='Progress:', layout=Layout(height='25px', width='50%'),…"
      ]
     },
     "metadata": {},
     "output_type": "display_data"
    }
   ],
   "source": [
    "from pyspark.sql.functions import min, count\n",
    "\n",
    "# Group the closest_station_final by police station and calculate the count of \n",
    "# crimes commited closest to them and the average distance \n",
    "\n",
    "result = closest_station_final.groupBy(\"division\").agg(\n",
    "    count(\"DR_NO\").alias(\"#\"), \n",
    "    avg(\"distance\").alias(\"average distance\")\n",
    ").orderBy(col(\"#\").desc())"
   ]
  },
  {
   "cell_type": "code",
   "execution_count": 9,
   "id": "cc62f0bb-97e6-44d6-b12e-b69f8513136f",
   "metadata": {
    "tags": []
   },
   "outputs": [
    {
     "data": {
      "application/vnd.jupyter.widget-view+json": {
       "model_id": "",
       "version_major": 2,
       "version_minor": 0
      },
      "text/plain": [
       "FloatProgress(value=0.0, bar_style='info', description='Progress:', layout=Layout(height='25px', width='50%'),…"
      ]
     },
     "metadata": {},
     "output_type": "display_data"
    },
    {
     "name": "stdout",
     "output_type": "stream",
     "text": [
      "+----------------+------+--------------------+\n",
      "|        division|     #|    average distance|\n",
      "+----------------+------+--------------------+\n",
      "|        VAN NUYS|148946|0.028563399035369762|\n",
      "|       HOLLYWOOD|140927|0.020444060380655465|\n",
      "|       SOUTHWEST|133420|0.021628874258637697|\n",
      "|        WILSHIRE|132967| 0.02632706717398014|\n",
      "|         OLYMPIC|119636|0.017338152570481328|\n",
      "| NORTH HOLLYWOOD|118938|0.026308012004550223|\n",
      "|     77TH STREET|116946| 0.01663294606463055|\n",
      "|       SOUTHEAST|105162| 0.02403583311415142|\n",
      "|         PACIFIC|104090| 0.03740800886087529|\n",
      "|         TOPANGA|103828|  0.0323335951674802|\n",
      "|         RAMPART| 95479|0.014934307019218166|\n",
      "|         CENTRAL| 93531| 0.00949548266780149|\n",
      "|     WEST VALLEY| 90132|0.028989371552462475|\n",
      "|          HARBOR| 89176|  1.2869668064902087|\n",
      "|        FOOTHILL| 87497| 0.04125249859939292|\n",
      "|      HOLLENBECK| 81541|0.026781603358714164|\n",
      "|WEST LOS ANGELES| 79670|0.030343153555294683|\n",
      "|         MISSION| 78753|0.035104180437474077|\n",
      "|       NORTHEAST| 75180|0.039246760712408416|\n",
      "|          NEWTON| 73844|0.015840701228143822|\n",
      "+----------------+------+--------------------+\n",
      "only showing top 20 rows"
     ]
    }
   ],
   "source": [
    "result.show()"
   ]
  }
 ],
 "metadata": {
  "kernelspec": {
   "display_name": "Sparkmagic (PySpark)",
   "language": "python",
   "name": "pysparkkernel"
  },
  "language_info": {
   "codemirror_mode": {
    "name": "python",
    "version": 3
   },
   "file_extension": ".py",
   "mimetype": "text/x-python",
   "name": "pyspark",
   "pygments_lexer": "python3"
  }
 },
 "nbformat": 4,
 "nbformat_minor": 5
}
