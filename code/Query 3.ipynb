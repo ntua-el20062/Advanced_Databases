{
 "cells": [
  {
   "cell_type": "markdown",
   "id": "8dcc431c-77dc-40e0-8522-e726e876ae3a",
   "metadata": {},
   "source": [
    "# Query 3"
   ]
  },
  {
   "cell_type": "code",
   "execution_count": 1,
   "id": "cd3ddaa4-b67a-46ae-b8a8-d43886aecde5",
   "metadata": {
    "tags": []
   },
   "outputs": [
    {
     "name": "stdout",
     "output_type": "stream",
     "text": [
      "Starting Spark application\n"
     ]
    },
    {
     "data": {
      "text/html": [
       "<table>\n",
       "<tr><th>ID</th><th>YARN Application ID</th><th>Kind</th><th>State</th><th>Spark UI</th><th>Driver log</th><th>User</th><th>Current session?</th></tr><tr><td>1599</td><td>application_1732639283265_1560</td><td>pyspark</td><td>idle</td><td><a target=\"_blank\" href=\"http://ip-192-168-1-36.eu-central-1.compute.internal:20888/proxy/application_1732639283265_1560/\">Link</a></td><td><a target=\"_blank\" href=\"http://ip-192-168-1-203.eu-central-1.compute.internal:8042/node/containerlogs/container_1732639283265_1560_01_000001/livy\">Link</a></td><td>None</td><td>✔</td></tr></table>"
      ],
      "text/plain": [
       "<IPython.core.display.HTML object>"
      ]
     },
     "metadata": {},
     "output_type": "display_data"
    },
    {
     "data": {
      "application/vnd.jupyter.widget-view+json": {
       "model_id": "",
       "version_major": 2,
       "version_minor": 0
      },
      "text/plain": [
       "FloatProgress(value=0.0, bar_style='info', description='Progress:', layout=Layout(height='25px', width='50%'),…"
      ]
     },
     "metadata": {},
     "output_type": "display_data"
    },
    {
     "name": "stdout",
     "output_type": "stream",
     "text": [
      "SparkSession available as 'spark'.\n"
     ]
    },
    {
     "data": {
      "application/vnd.jupyter.widget-view+json": {
       "model_id": "",
       "version_major": 2,
       "version_minor": 0
      },
      "text/plain": [
       "FloatProgress(value=0.0, bar_style='info', description='Progress:', layout=Layout(height='25px', width='50%'),…"
      ]
     },
     "metadata": {},
     "output_type": "display_data"
    }
   ],
   "source": [
    "from sedona.spark import *\n",
    "from pyspark.sql.functions import col, sum, collect_list, regexp_replace\n",
    "from pyspark.sql import SparkSession\n",
    "from pyspark.sql.functions import min, count, avg\n",
    "import time"
   ]
  },
  {
   "cell_type": "code",
   "execution_count": 2,
   "id": "2339d0e5-779b-4263-9055-e48d829bb863",
   "metadata": {
    "tags": []
   },
   "outputs": [
    {
     "data": {
      "application/vnd.jupyter.widget-view+json": {
       "model_id": "",
       "version_major": 2,
       "version_minor": 0
      },
      "text/plain": [
       "FloatProgress(value=0.0, bar_style='info', description='Progress:', layout=Layout(height='25px', width='50%'),…"
      ]
     },
     "metadata": {},
     "output_type": "display_data"
    }
   ],
   "source": [
    "def measure_join_performance(df, description):\n",
    "    start_time = time.time()\n",
    "    df.count()  # Trigger the join\n",
    "    end_time = time.time()\n",
    "    print(f\"{description} took {end_time - start_time:.2f} seconds\")"
   ]
  },
  {
   "cell_type": "code",
   "execution_count": 3,
   "id": "bcd59506-d567-449b-97d5-a2943d3bca03",
   "metadata": {},
   "outputs": [
    {
     "data": {
      "application/vnd.jupyter.widget-view+json": {
       "model_id": "",
       "version_major": 2,
       "version_minor": 0
      },
      "text/plain": [
       "FloatProgress(value=0.0, bar_style='info', description='Progress:', layout=Layout(height='25px', width='50%'),…"
      ]
     },
     "metadata": {},
     "output_type": "display_data"
    }
   ],
   "source": [
    "# Initialize Spark session\n",
    "spark = SparkSession.builder \\\n",
    "    .appName(\"Query 3\") \\\n",
    "    .getOrCreate()\n",
    "\n",
    "# Create sedona context\n",
    "sedona = SedonaContext.create(spark)\n",
    "\n",
    "# Load the crime data, LA income and RE codes csv \n",
    "crime_data = spark.read.csv(\"s3://initial-notebook-data-bucket-dblab-905418150721/CrimeData/Crime_Data_from_2010_to_2019_20241101.csv\", header=True, inferSchema=True)\n",
    "la_income = spark.read.csv(\"s3://initial-notebook-data-bucket-dblab-905418150721/LA_income_2015.csv\", header=True, inferSchema=True)\n",
    "police_stations = spark.read.csv(\"s3://initial-notebook-data-bucket-dblab-905418150721/LA_Police_Stations.csv\", header=True, inferSchema=True)\n",
    "explanation = spark.read.csv(\"s3://initial-notebook-data-bucket-dblab-905418150721/2010_Census_Blocks_fields.csv\", header=True, inferSchema=True)\n",
    "\n",
    "\n",
    "geojson_path = \"s3://initial-notebook-data-bucket-dblab-905418150721/2010_Census_Blocks.geojson\"\n",
    "blocks_df = sedona.read.format(\"geojson\") \\\n",
    "            .option(\"multiLine\", \"true\").load(geojson_path) \\\n",
    "            .selectExpr(\"explode(features) as features\") \\\n",
    "            .select(\"features.*\")\n",
    "\n",
    "# Formatting magic\n",
    "flattened_blocks_df = blocks_df.select( \\\n",
    "                [col(f\"properties.{col_name}\").alias(col_name) for col_name in \\\n",
    "                blocks_df.schema[\"properties\"].dataType.fieldNames()] + [\"geometry\"]) \\\n",
    "            .drop(\"properties\") \\\n",
    "            .drop(\"type\")"
   ]
  },
  {
   "cell_type": "code",
   "execution_count": 4,
   "id": "2f2cb3d7-6181-4cec-852c-24b630bfb9d6",
   "metadata": {
    "tags": []
   },
   "outputs": [
    {
     "data": {
      "application/vnd.jupyter.widget-view+json": {
       "model_id": "",
       "version_major": 2,
       "version_minor": 0
      },
      "text/plain": [
       "FloatProgress(value=0.0, bar_style='info', description='Progress:', layout=Layout(height='25px', width='50%'),…"
      ]
     },
     "metadata": {},
     "output_type": "display_data"
    },
    {
     "name": "stdout",
     "output_type": "stream",
     "text": [
      "DataFrame[BG10: string, BG10FIP10: string, BG12: string, CB10: string, CEN_FIP13: string, CITY: string, CITYCOM: string, COMM: string, CT10: string, CT12: string, CTCB10: string, HD_2012: bigint, HD_NAME: string, HOUSING10: bigint, LA_FIP10: string, OBJECTID: bigint, POP_2010: bigint, PUMA10: string, SPA_2012: bigint, SPA_NAME: string, SUP_DIST: string, SUP_LABEL: string, ShapeSTArea: double, ShapeSTLength: double, ZCTA10: string, geometry: udt]\n",
      "DataFrame[DR_NO: int, Date Rptd: string, DATE OCC: string, TIME OCC: int, AREA : int, AREA NAME: string, Rpt Dist No: int, Part 1-2: int, Crm Cd: int, Crm Cd Desc: string, Mocodes: string, Vict Age: int, Vict Sex: string, Vict Descent: string, Premis Cd: int, Premis Desc: string, Weapon Used Cd: int, Weapon Desc: string, Status: string, Status Desc: string, Crm Cd 1: int, Crm Cd 2: int, Crm Cd 3: int, Crm Cd 4: int, LOCATION: string, Cross Street: string, LAT: double, LON: double]\n",
      "DataFrame[Zip Code: int, Community: string, Estimated Median Income: string]"
     ]
    }
   ],
   "source": [
    "print(flattened_blocks_df)\n",
    "print(crime_data)\n",
    "print(la_income)"
   ]
  },
  {
   "cell_type": "code",
   "execution_count": 5,
   "id": "9b6e5c37-3c60-4a54-a2c3-cf9ab81b922e",
   "metadata": {
    "tags": []
   },
   "outputs": [
    {
     "data": {
      "application/vnd.jupyter.widget-view+json": {
       "model_id": "",
       "version_major": 2,
       "version_minor": 0
      },
      "text/plain": [
       "FloatProgress(value=0.0, bar_style='info', description='Progress:', layout=Layout(height='25px', width='50%'),…"
      ]
     },
     "metadata": {},
     "output_type": "display_data"
    },
    {
     "name": "stdout",
     "output_type": "stream",
     "text": [
      "+---------+------+-------------------------------------------------------------------------+\n",
      "|field    |type  |meaning                                                                  |\n",
      "+---------+------+-------------------------------------------------------------------------+\n",
      "|BG10     |string|7-digit block group number (2010)                                        |\n",
      "|BG10FIP10|string|Combination of BG10 and LA_FIP10 (Los Angeles County FIP code)           |\n",
      "|BG12     |string|7-digit block group number (2012)                                        |\n",
      "|CB10     |string|4-digit census block number                                              |\n",
      "|CEN_FIP13|string|-                                                                        |\n",
      "|CITY     |string|Incorporated city name                                                   |\n",
      "|CITYCOM  |string|City/Community name label                                                |\n",
      "|COMM     |string|Unincorporated area community name and LA City neighborhood              |\n",
      "|CT10     |string|6-digit census tract number (2010)                                       |\n",
      "|CT12     |string|6-digit census tract number (2012)                                       |\n",
      "|CTCB10   |string|Combination of CT10 and CB10 (4-digit census block number)               |\n",
      "|HD_2012  |long  |Health District number                                                   |\n",
      "|HD_NAME  |string|Health District name                                                     |\n",
      "|HOUSING10|long  |2010 housing (PL 94-171 Redistricting Data Summary File - Total Housing) |\n",
      "|LA_FIP10 |string|Los Angeles County FIP code                                              |\n",
      "|OBJECTID |long  |-                                                                        |\n",
      "|POP_2010 |long  |Population (PL 94-171 Redistricting Data Summary File - Total Population)|\n",
      "|PUMA10   |string|-                                                                        |\n",
      "|SPA_2012 |long  |Service Planning Area number (2012)                                      |\n",
      "|SPA_NAME |string|Service Planning Area name                                               |\n",
      "+---------+------+-------------------------------------------------------------------------+\n",
      "only showing top 20 rows"
     ]
    }
   ],
   "source": [
    "explanation.show(truncate=False)"
   ]
  },
  {
   "cell_type": "markdown",
   "id": "15fa6276-e1f4-41c9-b7fc-62d490eb98e8",
   "metadata": {},
   "source": [
    "## Calculate population\n",
    "The requested population per region is the total population of each region, etc Community. Below, we sum the total population of each region, and place it \n",
    "in the column \"total_population\""
   ]
  },
  {
   "cell_type": "code",
   "execution_count": 9,
   "id": "ca20f233-3cb1-4276-97dd-8a916bb6a868",
   "metadata": {
    "tags": []
   },
   "outputs": [
    {
     "data": {
      "application/vnd.jupyter.widget-view+json": {
       "model_id": "",
       "version_major": 2,
       "version_minor": 0
      },
      "text/plain": [
       "FloatProgress(value=0.0, bar_style='info', description='Progress:', layout=Layout(height='25px', width='50%'),…"
      ]
     },
     "metadata": {},
     "output_type": "display_data"
    },
    {
     "name": "stdout",
     "output_type": "stream",
     "text": [
      "+--------------------+------+--------+---------+\n",
      "|                COMM|ZCTA10|POP_2010|HOUSING10|\n",
      "+--------------------+------+--------+---------+\n",
      "|West Antelope Valley| 93243|       0|        0|\n",
      "|West Antelope Valley| 93243|       0|        0|\n",
      "|West Antelope Valley| 93243|       0|        0|\n",
      "|       South Edwards|      |       0|        0|\n",
      "|       South Edwards|      |       0|        0|\n",
      "|West Antelope Valley| 93243|       5|        5|\n",
      "|       South Edwards|      |       0|        0|\n",
      "|           San Pedro| 90732|      69|       26|\n",
      "|         Diamond Bar| 91789|      79|       26|\n",
      "| Rancho Palos Verdes| 90275|       0|        0|\n",
      "|           San Pedro| 90731|     120|       70|\n",
      "|           San Pedro| 90731|     240|       86|\n",
      "|           San Pedro| 90731|       0|        0|\n",
      "|           San Pedro| 90731|       0|        0|\n",
      "|           San Pedro| 90732|      75|       29|\n",
      "|           San Pedro| 90731|     246|       80|\n",
      "|           San Pedro| 90731|     180|       87|\n",
      "|           San Pedro| 90731|     103|        2|\n",
      "|           San Pedro| 90731|       0|        0|\n",
      "|           San Pedro| 90731|     111|       43|\n",
      "+--------------------+------+--------+---------+\n",
      "only showing top 20 rows\n",
      "\n",
      "+--------------------+------+--------+---------+\n",
      "|                COMM|ZCTA10|POP_2010|HOUSING10|\n",
      "+--------------------+------+--------+---------+\n",
      "|West Antelope Valley| 93243|       5|        5|\n",
      "|           San Pedro| 90732|      69|       26|\n",
      "|         Diamond Bar| 91789|      79|       26|\n",
      "|           San Pedro| 90731|     120|       70|\n",
      "|           San Pedro| 90731|     240|       86|\n",
      "|           San Pedro| 90732|      75|       29|\n",
      "|           San Pedro| 90731|     246|       80|\n",
      "|           San Pedro| 90731|     180|       87|\n",
      "|           San Pedro| 90731|     103|        2|\n",
      "|           San Pedro| 90731|     111|       43|\n",
      "|          Long Beach| 90803|     140|       99|\n",
      "|           San Pedro| 90731|       3|        1|\n",
      "|          Long Beach| 90803|      31|       16|\n",
      "|          Long Beach| 90803|      57|       29|\n",
      "|          Long Beach| 90802|      60|       40|\n",
      "|          Long Beach| 90803|      30|       11|\n",
      "|         Harbor City| 90731|     150|       53|\n",
      "|Rolling Hills Est...| 90274|     248|       92|\n",
      "|          Long Beach| 90814|     214|      139|\n",
      "|          Long Beach| 90803|     244|      157|\n",
      "+--------------------+------+--------+---------+\n",
      "only showing top 20 rows"
     ]
    }
   ],
   "source": [
    "flattened_blocks_df.select(\"COMM\", \"ZCTA10\", \"POP_2010\", \"HOUSING10\").show()\n",
    "populated_blocks = flattened_blocks_df.filter((flattened_blocks_df.POP_2010 !=0) & (flattened_blocks_df.HOUSING10 != 0))\n",
    "\n",
    "populated_blocks.select(\"COMM\", \"ZCTA10\", \"POP_2010\", \"HOUSING10\").show()"
   ]
  },
  {
   "cell_type": "code",
   "execution_count": 6,
   "id": "44b204cb-3ad7-4183-80e1-55c61745ad36",
   "metadata": {
    "tags": []
   },
   "outputs": [
    {
     "data": {
      "application/vnd.jupyter.widget-view+json": {
       "model_id": "",
       "version_major": 2,
       "version_minor": 0
      },
      "text/plain": [
       "FloatProgress(value=0.0, bar_style='info', description='Progress:', layout=Layout(height='25px', width='50%'),…"
      ]
     },
     "metadata": {},
     "output_type": "display_data"
    },
    {
     "name": "stdout",
     "output_type": "stream",
     "text": [
      "+--------------------+------+----------------+----------------+\n",
      "|                COMM|ZCTA10|total_population|total_households|\n",
      "+--------------------+------+----------------+----------------+\n",
      "|         West Vernon| 90037|           30161|            8556|\n",
      "|            Glendale| 91204|           16032|            5969|\n",
      "|                    | 91768|               0|               0|\n",
      "|               Palms| 90232|            1533|             918|\n",
      "|     Huntington Park| 90255|           57913|           15093|\n",
      "|          Silverlake| 90039|           10522|            4757|\n",
      "|          San Marino| 91108|           13147|            4477|\n",
      "|            Westwood| 90025|            2443|            1317|\n",
      "|Palos Verdes Estates| 90274|           13438|            5283|\n",
      "|       South Carthay| 90035|            9428|            5250|\n",
      "|                    | 90291|               0|               0|\n",
      "|    Hawaiian Gardens| 90716|           14184|            3652|\n",
      "|        Santa Monica| 90404|           21360|           10865|\n",
      "| Palisades Highlands| 90272|            3828|            1542|\n",
      "|      West Hollywood| 90038|               4|               0|\n",
      "|        Reseda Ranch| 91324|             265|              96|\n",
      "|             Norwalk| 90703|               0|               0|\n",
      "|            Van Nuys| 91405|           49210|           16818|\n",
      "|   Manchester Square| 90047|            8247|            3064|\n",
      "|    Santa Fe Springs| 90670|           14866|            4616|\n",
      "+--------------------+------+----------------+----------------+\n",
      "only showing top 20 rows"
     ]
    }
   ],
   "source": [
    "# Calculate total population per region (e.g., \"Community\", \"COMM\")\n",
    "comm_pop = flattened_blocks_df.groupBy(\"COMM\", \"ZCTA10\").agg(\n",
    "    sum(\"POP_2010\").alias(\"total_population\"),\n",
    "    sum(\"HOUSING10\").alias(\"total_households\")\n",
    ")\n",
    "comm_pop.select(\"COMM\", \"ZCTA10\", \"total_population\", \"total_households\").show()"
   ]
  },
  {
   "cell_type": "markdown",
   "id": "30ca2a6c-1298-49c4-ae6a-bb9806e52674",
   "metadata": {},
   "source": [
    "## Find the duplicates\n",
    "Below is a code cell used to figure out the number of duplicate entries under the name \"Community\" in the la_income and the comm_pop data frames, with different zip codes and median incomes, as well as all the distinct \"COMM\" entries in the above community population data frame.\n",
    "It is immediately evident, that the la_income contains several duplicates, whereas the comm_pop does not."
   ]
  },
  {
   "cell_type": "code",
   "execution_count": 8,
   "id": "21ef2b82-f0a2-4ba1-a2f0-f382b1331301",
   "metadata": {
    "tags": []
   },
   "outputs": [
    {
     "data": {
      "application/vnd.jupyter.widget-view+json": {
       "model_id": "",
       "version_major": 2,
       "version_minor": 0
      },
      "text/plain": [
       "FloatProgress(value=0.0, bar_style='info', description='Progress:', layout=Layout(height='25px', width='50%'),…"
      ]
     },
     "metadata": {},
     "output_type": "display_data"
    },
    {
     "name": "stdout",
     "output_type": "stream",
     "text": [
      "+--------------------------+------------------------------------------+-----+-------------------------------------------------------+\n",
      "|Community                 |zip                                       |count|median_incomes                                         |\n",
      "+--------------------------+------------------------------------------+-----+-------------------------------------------------------+\n",
      "|Alhambra                  |[91801, 91803]                            |2    |[$51,793, $56,928]                                     |\n",
      "|Arcadia                   |[91006, 91007]                            |2    |[$83,986, $71,557]                                     |\n",
      "|Beverly Hills             |[90210, 90211, 90212]                     |3    |[$145,227, $69,638, $92,476]                           |\n",
      "|Burbank                   |[91501, 91502, 91505, 91506]              |4    |[$60,158, $40,057, $76,357, $71,495]                   |\n",
      "|Carson                    |[90745, 90746]                            |2    |[$71,443, $77,260]                                     |\n",
      "|Covina                    |[91722, 91723]                            |2    |[$66,512, $60,911]                                     |\n",
      "|Culver City               |[90230, 90232]                            |2    |[$74,823, $77,004]                                     |\n",
      "|Downey                    |[90240, 90241, 90242]                     |3    |[$76,907, $57,372, $58,669]                            |\n",
      "|El Monte                  |[91731, 91732]                            |2    |[$35,120, $41,020]                                     |\n",
      "|Gardena                   |[90247, 90248, 90249]                     |3    |[$42,926, $53,306, $51,181]                            |\n",
      "|Glendale                  |[91201, 91202, 91203, 91206, 91207, 91208]|6    |[$49,215, $63,037, $41,400, $52,277, $89,333, $103,860]|\n",
      "|Glendale (Tropico)        |[91204, 91205]                            |2    |[$42,277, $36,971]                                     |\n",
      "|Glendora                  |[91740, 91741]                            |2    |[$67,063, $84,957]                                     |\n",
      "|Inglewood                 |[90301, 90302, 90303, 90305]              |4    |[$37,424, $41,426, $39,671, $65,633]                   |\n",
      "|Lake Los Angeles, Palmdale|[93550, 93591]                            |2    |[$37,669, $40,805]                                     |\n",
      "|Lakewood                  |[90712, 90713, 90715]                     |3    |[$80,150, $86,543, $63,604]                            |\n",
      "|Long Beach                |[90802, 90806, 90808, 90813, 90814, 90815]|6    |[$42,829, $44,144, $96,360, $30,936, $55,116, $78,137] |\n",
      "|Los Angeles (Encino)      |[91316, 91436]                            |2    |[$61,539, $135,585]                                    |\n",
      "|Los Angeles (Hollywood)   |[90028, 90038, 90068]                     |3    |[$33,582, $33,800, $73,693]                            |\n",
      "|Los Angeles (Northridge)  |[91324, 91325]                            |2    |[$61,958, $60,774]                                     |\n",
      "+--------------------------+------------------------------------------+-----+-------------------------------------------------------+\n",
      "only showing top 20 rows\n",
      "\n",
      "+----+-----+\n",
      "|COMM|count|\n",
      "+----+-----+\n",
      "+----+-----+\n",
      "\n",
      "+--------------------+\n",
      "|                COMM|\n",
      "+--------------------+\n",
      "|         Culver City|\n",
      "|     North Lancaster|\n",
      "|Rosewood/East Gar...|\n",
      "|East Rancho Domin...|\n",
      "|      Toluca Terrace|\n",
      "|        Elysian Park|\n",
      "|            Longwood|\n",
      "|         Pico Rivera|\n",
      "|              Malibu|\n",
      "|       Green Meadows|\n",
      "|    Hacienda Heights|\n",
      "|    Cadillac-Corning|\n",
      "|  West Puente Valley|\n",
      "|          Montebello|\n",
      "|            Mid-city|\n",
      "|          Lake Manor|\n",
      "|    Hawaiian Gardens|\n",
      "|     Lincoln Heights|\n",
      "|    Westlake Village|\n",
      "|            Van Nuys|\n",
      "+--------------------+\n",
      "only showing top 20 rows"
     ]
    }
   ],
   "source": [
    "# Group by 'Community', count duplicates, and collect 'Estimated Median Income'\n",
    "la_income.groupBy(\"Community\").agg(\n",
    "    collect_list(\"Zip Code\").alias(\"zip\"),\n",
    "    count(\"*\").alias(\"count\"),\n",
    "    collect_list(\"Estimated Median Income\").alias(\"median_incomes\")\n",
    ").filter(\"count > 1\").show(truncate=False)\n",
    "\n",
    "comm_pop.groupBy(\"COMM\").agg(\n",
    "    count(\"*\").alias(\"count\")\n",
    ").filter(\"count > 1\").show(truncate=False)\n",
    "\n",
    "comm_pop.select(\"COMM\").distinct().show()"
   ]
  },
  {
   "cell_type": "markdown",
   "id": "73c8036e-7891-4d97-b5d6-38ac9f35d58f",
   "metadata": {},
   "source": [
    "## Average median income per Community \n",
    "In order to calculate the average median income out of all the Community entries in the la income data frame, we first clean the column from the $ characters. \n",
    "Then, we group the data frame by \"Community\" column, and calculate the average out of all the entries' \"Estimated Median Income\" columns"
   ]
  },
  {
   "cell_type": "code",
   "execution_count": 22,
   "id": "d22b5a65-3d60-4cfd-b61b-f244fcacc89d",
   "metadata": {
    "tags": []
   },
   "outputs": [
    {
     "data": {
      "application/vnd.jupyter.widget-view+json": {
       "model_id": "",
       "version_major": 2,
       "version_minor": 0
      },
      "text/plain": [
       "FloatProgress(value=0.0, bar_style='info', description='Progress:', layout=Layout(height='25px', width='50%'),…"
      ]
     },
     "metadata": {},
     "output_type": "display_data"
    }
   ],
   "source": [
    "# Clean the 'Estimated Median Income' column from $ characters\n",
    "la_income_clean = la_income.withColumn(\n",
    "    \"Estimated Median Income\",\n",
    "    regexp_replace(col(\"Estimated Median Income\"), \"[^0-9]\", \"\").cast(\"double\")\n",
    ")\n",
    "\n",
    "# Calculate average median income for each household in each community in the la_income csv\n",
    "#avg_comm_income = la_income_clean.groupBy(\"Community\").agg(\n",
    "#    avg(\"Estimated Median Income\").alias(\"average_median_income\")\n",
    "#)"
   ]
  },
  {
   "cell_type": "code",
   "execution_count": 10,
   "id": "ff2bb8c1-9459-4059-a83b-32813bb432cd",
   "metadata": {
    "tags": []
   },
   "outputs": [
    {
     "data": {
      "application/vnd.jupyter.widget-view+json": {
       "model_id": "",
       "version_major": 2,
       "version_minor": 0
      },
      "text/plain": [
       "FloatProgress(value=0.0, bar_style='info', description='Progress:', layout=Layout(height='25px', width='50%'),…"
      ]
     },
     "metadata": {},
     "output_type": "display_data"
    },
    {
     "name": "stdout",
     "output_type": "stream",
     "text": [
      "+--------------------+---------------------+\n",
      "|           Community|average_median_income|\n",
      "+--------------------+---------------------+\n",
      "|Hawthorne (Holly ...|              46172.0|\n",
      "|         Culver City|              75913.5|\n",
      "|Los Angeles (Down...|              22754.0|\n",
      "|Los Angeles (Holl...|              57941.0|\n",
      "| Los Angeles (Palms)|              58004.0|\n",
      "|         Pico Rivera|              55758.0|\n",
      "|Los Angeles (Hanc...|              40612.0|\n",
      "|              Malibu|             123681.0|\n",
      "|    Hacienda Heights|              78000.0|\n",
      "|          Montebello|              45898.0|\n",
      "|  Burbank (Glenoaks)|              70608.0|\n",
      "|    Hawaiian Gardens|              37543.0|\n",
      "|    Westlake Village|             104382.5|\n",
      "|Los Angeles (Bald...|              36564.0|\n",
      "|Glendale, La Cres...|              87612.0|\n",
      "|              Carson|              74351.5|\n",
      "|Los Angeles (Nort...|              42254.0|\n",
      "|Los Angeles (Play...|              82055.0|\n",
      "|Los Angeles (Sout...|              17018.0|\n",
      "|            Glendale|    66520.33333333333|\n",
      "+--------------------+---------------------+\n",
      "only showing top 20 rows"
     ]
    }
   ],
   "source": [
    "avg_comm_income.show()\n"
   ]
  },
  {
   "cell_type": "markdown",
   "id": "998d55ce-e709-4b72-a2f7-0ecd8d001f50",
   "metadata": {},
   "source": [
    "## Join the avg_income and comm_pop data frames\n",
    "Join the data frames on the \"Community\" (\"COMM\") column, in order to maintain a dataframe containing both the total population and the average income of the Community.\n",
    "After using the explain() function, we notice that the join technique used by the catalyst optimizer is \"BroadcastHashJoin\"."
   ]
  },
  {
   "cell_type": "code",
   "execution_count": 11,
   "id": "f60ac69d-ab40-473a-93f0-54839cffc75d",
   "metadata": {
    "tags": []
   },
   "outputs": [
    {
     "data": {
      "application/vnd.jupyter.widget-view+json": {
       "model_id": "",
       "version_major": 2,
       "version_minor": 0
      },
      "text/plain": [
       "FloatProgress(value=0.0, bar_style='info', description='Progress:', layout=Layout(height='25px', width='50%'),…"
      ]
     },
     "metadata": {},
     "output_type": "display_data"
    },
    {
     "name": "stdout",
     "output_type": "stream",
     "text": [
      "== Parsed Logical Plan ==\n",
      "Join Inner, (COMM#201 = Community#117)\n",
      ":- Aggregate [COMM#201], [COMM#201, sum(POP_2010#210L) AS total_population#387L, sum(HOUSING10#207L) AS total_households#389L]\n",
      ":  +- Project [properties#189.BG10 AS BG10#194, properties#189.BG10FIP10 AS BG10FIP10#195, properties#189.BG12 AS BG12#196, properties#189.CB10 AS CB10#197, properties#189.CEN_FIP13 AS CEN_FIP13#198, properties#189.CITY AS CITY#199, properties#189.CITYCOM AS CITYCOM#200, properties#189.COMM AS COMM#201, properties#189.CT10 AS CT10#202, properties#189.CT12 AS CT12#203, properties#189.CTCB10 AS CTCB10#204, properties#189.HD_2012 AS HD_2012#205L, properties#189.HD_NAME AS HD_NAME#206, properties#189.HOUSING10 AS HOUSING10#207L, properties#189.LA_FIP10 AS LA_FIP10#208, properties#189.OBJECTID AS OBJECTID#209L, properties#189.POP_2010 AS POP_2010#210L, properties#189.PUMA10 AS PUMA10#211, properties#189.SPA_2012 AS SPA_2012#212L, properties#189.SPA_NAME AS SPA_NAME#213, properties#189.SUP_DIST AS SUP_DIST#214, properties#189.SUP_LABEL AS SUP_LABEL#215, properties#189.ShapeSTArea AS ShapeSTArea#216, properties#189.ShapeSTLength AS ShapeSTLength#217, ... 2 more fields]\n",
      ":     +- Project [features#185.geometry AS geometry#188, features#185.properties AS properties#189, features#185.type AS type#190]\n",
      ":        +- Project [features#185]\n",
      ":           +- Generate explode(features#177), false, [features#185]\n",
      ":              +- Relation [crs#176,features#177,name#178,type#179] geojson\n",
      "+- Aggregate [Community#117], [Community#117, avg(Estimated Median Income#510) AS average_median_income#518]\n",
      "   +- Project [Zip Code#116, Community#117, cast(regexp_replace(Estimated Median Income#118, [^0-9], , 1) as double) AS Estimated Median Income#510]\n",
      "      +- Relation [Zip Code#116,Community#117,Estimated Median Income#118] csv\n",
      "\n",
      "== Analyzed Logical Plan ==\n",
      "COMM: string, total_population: bigint, total_households: bigint, Community: string, average_median_income: double\n",
      "Join Inner, (COMM#201 = Community#117)\n",
      ":- Aggregate [COMM#201], [COMM#201, sum(POP_2010#210L) AS total_population#387L, sum(HOUSING10#207L) AS total_households#389L]\n",
      ":  +- Project [properties#189.BG10 AS BG10#194, properties#189.BG10FIP10 AS BG10FIP10#195, properties#189.BG12 AS BG12#196, properties#189.CB10 AS CB10#197, properties#189.CEN_FIP13 AS CEN_FIP13#198, properties#189.CITY AS CITY#199, properties#189.CITYCOM AS CITYCOM#200, properties#189.COMM AS COMM#201, properties#189.CT10 AS CT10#202, properties#189.CT12 AS CT12#203, properties#189.CTCB10 AS CTCB10#204, properties#189.HD_2012 AS HD_2012#205L, properties#189.HD_NAME AS HD_NAME#206, properties#189.HOUSING10 AS HOUSING10#207L, properties#189.LA_FIP10 AS LA_FIP10#208, properties#189.OBJECTID AS OBJECTID#209L, properties#189.POP_2010 AS POP_2010#210L, properties#189.PUMA10 AS PUMA10#211, properties#189.SPA_2012 AS SPA_2012#212L, properties#189.SPA_NAME AS SPA_NAME#213, properties#189.SUP_DIST AS SUP_DIST#214, properties#189.SUP_LABEL AS SUP_LABEL#215, properties#189.ShapeSTArea AS ShapeSTArea#216, properties#189.ShapeSTLength AS ShapeSTLength#217, ... 2 more fields]\n",
      ":     +- Project [features#185.geometry AS geometry#188, features#185.properties AS properties#189, features#185.type AS type#190]\n",
      ":        +- Project [features#185]\n",
      ":           +- Generate explode(features#177), false, [features#185]\n",
      ":              +- Relation [crs#176,features#177,name#178,type#179] geojson\n",
      "+- Aggregate [Community#117], [Community#117, avg(Estimated Median Income#510) AS average_median_income#518]\n",
      "   +- Project [Zip Code#116, Community#117, cast(regexp_replace(Estimated Median Income#118, [^0-9], , 1) as double) AS Estimated Median Income#510]\n",
      "      +- Relation [Zip Code#116,Community#117,Estimated Median Income#118] csv\n",
      "\n",
      "== Optimized Logical Plan ==\n",
      "Join Inner, (COMM#201 = Community#117)\n",
      ":- Aggregate [COMM#201], [COMM#201, sum(POP_2010#210L) AS total_population#387L, sum(HOUSING10#207L) AS total_households#389L]\n",
      ":  +- Project [features#185.properties.COMM AS COMM#201, features#185.properties.HOUSING10 AS HOUSING10#207L, features#185.properties.POP_2010 AS POP_2010#210L]\n",
      ":     +- Filter isnotnull(features#185.properties.COMM)\n",
      ":        +- Generate explode(features#177), [0], false, [features#185]\n",
      ":           +- Project [features#177]\n",
      ":              +- Filter ((size(features#177, true) > 0) AND isnotnull(features#177))\n",
      ":                 +- Relation [crs#176,features#177,name#178,type#179] geojson\n",
      "+- Aggregate [Community#117], [Community#117, avg(Estimated Median Income#510) AS average_median_income#518]\n",
      "   +- Project [Community#117, cast(regexp_replace(Estimated Median Income#118, [^0-9], , 1) as double) AS Estimated Median Income#510]\n",
      "      +- Filter isnotnull(Community#117)\n",
      "         +- Relation [Zip Code#116,Community#117,Estimated Median Income#118] csv\n",
      "\n",
      "== Physical Plan ==\n",
      "AdaptiveSparkPlan isFinalPlan=false\n",
      "+- BroadcastHashJoin [COMM#201], [Community#117], Inner, BuildRight, false\n",
      "   :- HashAggregate(keys=[COMM#201], functions=[sum(POP_2010#210L), sum(HOUSING10#207L)], output=[COMM#201, total_population#387L, total_households#389L], schema specialized)\n",
      "   :  +- Exchange hashpartitioning(COMM#201, 1000), ENSURE_REQUIREMENTS, [plan_id=664]\n",
      "   :     +- HashAggregate(keys=[COMM#201], functions=[partial_sum(POP_2010#210L), partial_sum(HOUSING10#207L)], output=[COMM#201, sum#406L, sum#408L], schema specialized)\n",
      "   :        +- Project [features#185.properties.COMM AS COMM#201, features#185.properties.HOUSING10 AS HOUSING10#207L, features#185.properties.POP_2010 AS POP_2010#210L]\n",
      "   :           +- Filter isnotnull(features#185.properties.COMM)\n",
      "   :              +- Generate explode(features#177), false, [features#185]\n",
      "   :                 +- Filter ((size(features#177, true) > 0) AND isnotnull(features#177))\n",
      "   :                    +- FileScan geojson [features#177] Batched: false, DataFilters: [(size(features#177, true) > 0), isnotnull(features#177)], Format: GEOJSON, Location: InMemoryFileIndex(1 paths)[s3://initial-notebook-data-bucket-dblab-905418150721/2010_Census_Block..., PartitionFilters: [], PushedFilters: [IsNotNull(features)], ReadSchema: struct<features:array<struct<geometry:binary,properties:struct<BG10:string,BG10FIP10:string,BG12:...\n",
      "   +- BroadcastExchange HashedRelationBroadcastMode(List(input[0, string, false]),false), [plan_id=669]\n",
      "      +- HashAggregate(keys=[Community#117], functions=[avg(Estimated Median Income#510)], output=[Community#117, average_median_income#518], schema specialized)\n",
      "         +- Exchange hashpartitioning(Community#117, 1000), ENSURE_REQUIREMENTS, [plan_id=666]\n",
      "            +- HashAggregate(keys=[Community#117], functions=[partial_avg(Estimated Median Income#510)], output=[Community#117, sum#529, count#530L], schema specialized)\n",
      "               +- Project [Community#117, cast(regexp_replace(Estimated Median Income#118, [^0-9], , 1) as double) AS Estimated Median Income#510]\n",
      "                  +- Filter isnotnull(Community#117)\n",
      "                     +- FileScan csv [Community#117,Estimated Median Income#118] Batched: false, DataFilters: [isnotnull(Community#117)], Format: CSV, Location: InMemoryFileIndex(1 paths)[s3://initial-notebook-data-bucket-dblab-905418150721/LA_income_2015.csv], PartitionFilters: [], PushedFilters: [IsNotNull(Community)], ReadSchema: struct<Community:string,Estimated Median Income:string>"
     ]
    }
   ],
   "source": [
    "comm_income = populated_blocks.join(\n",
    "    la_income_clean, \n",
    "    ((populated_blocks[\"COMM\"] == la_income_clean[\"Community\"]) && [\"Zip Code\"] == la_income_clean[\"\"), \"inner\"\n",
    ")\n",
    "comm_income.explain(True)  # Replace df with your DataFrame containing the join"
   ]
  },
  {
   "cell_type": "markdown",
   "id": "933648aa-65b3-4a99-92e2-5b55cacf023a",
   "metadata": {},
   "source": [
    "## Experiment with join strategies \n",
    "Force different join strategies using the hint() function, in order to test their efficiency. Apply a function that tests the time it takes for each join to complete and compare. "
   ]
  },
  {
   "cell_type": "code",
   "execution_count": 23,
   "id": "47eb63e4-8a66-418f-8697-2a5e7cda2712",
   "metadata": {
    "tags": []
   },
   "outputs": [
    {
     "data": {
      "application/vnd.jupyter.widget-view+json": {
       "model_id": "",
       "version_major": 2,
       "version_minor": 0
      },
      "text/plain": [
       "FloatProgress(value=0.0, bar_style='info', description='Progress:', layout=Layout(height='25px', width='50%'),…"
      ]
     },
     "metadata": {},
     "output_type": "display_data"
    }
   ],
   "source": [
    "comm_income_broadcast = comm_pop.join(\n",
    "    avg_comm_income.hint(\"broadcast\"),\n",
    "    comm_pop[\"COMM\"] == avg_comm_income[\"Community\"]\n",
    ")\n",
    "\n",
    "comm_income_merge = comm_pop.join(\n",
    "    avg_comm_income.hint(\"merge\"),\n",
    "    comm_pop[\"COMM\"] == avg_comm_income[\"Community\"]\n",
    ")\n",
    "\n",
    "comm_income_shuffle_hash = comm_pop.join(\n",
    "    avg_comm_income.hint(\"shuffle_hash\"),\n",
    "    comm_pop[\"COMM\"] == avg_comm_income[\"Community\"]\n",
    ").hint(\"shuffle_replicate_nl\")\n",
    "\n",
    "comm_income_shuffle_replicate_nl = comm_pop.join(\n",
    "    avg_comm_income.hint(\"shuffle_replicate_nl\"),\n",
    "    comm_pop[\"COMM\"] == avg_comm_income[\"Community\"]\n",
    ")\n"
   ]
  },
  {
   "cell_type": "code",
   "execution_count": 24,
   "id": "fee7bf3c-0ae2-4b32-8a34-5dde75141d00",
   "metadata": {
    "tags": []
   },
   "outputs": [
    {
     "data": {
      "application/vnd.jupyter.widget-view+json": {
       "model_id": "",
       "version_major": 2,
       "version_minor": 0
      },
      "text/plain": [
       "FloatProgress(value=0.0, bar_style='info', description='Progress:', layout=Layout(height='25px', width='50%'),…"
      ]
     },
     "metadata": {},
     "output_type": "display_data"
    },
    {
     "name": "stdout",
     "output_type": "stream",
     "text": [
      "Broadcast Join took 20.43 seconds\n",
      "Sort-Merge Join took 11.34 seconds\n",
      "Shuffle Hash Join took 10.69 seconds\n",
      "Replicated Nested Loop Join took 11.04 seconds"
     ]
    }
   ],
   "source": [
    "measure_join_performance(comm_income_broadcast, \"Broadcast Join\")\n",
    "measure_join_performance(comm_income_merge, \"Sort-Merge Join\")\n",
    "measure_join_performance(comm_income_shuffle_hash, \"Shuffle Hash Join\")\n",
    "measure_join_performance(comm_income_shuffle_replicate_nl, \"Replicated Nested Loop Join\")"
   ]
  },
  {
   "cell_type": "markdown",
   "id": "4d8342c2-7476-46a6-ba17-5ece875c9fed",
   "metadata": {},
   "source": [
    "## Clean the dataframe\n",
    "For a clean dataframe, keep only the columns of interest (etc \"region\", \"total_population\", \"median_income\")."
   ]
  },
  {
   "cell_type": "code",
   "execution_count": 12,
   "id": "c2be4145-f692-4e48-be36-0127ca2b81b0",
   "metadata": {
    "tags": []
   },
   "outputs": [
    {
     "data": {
      "application/vnd.jupyter.widget-view+json": {
       "model_id": "",
       "version_major": 2,
       "version_minor": 0
      },
      "text/plain": [
       "FloatProgress(value=0.0, bar_style='info', description='Progress:', layout=Layout(height='25px', width='50%'),…"
      ]
     },
     "metadata": {},
     "output_type": "display_data"
    }
   ],
   "source": [
    "comm_income = comm_income.select(\n",
    "    comm_pop[\"COMM\"].alias(\"region\"), \n",
    "    \"total_population\", \n",
    "    col(\"average_median_income\").alias(\"median_income\"),\n",
    "    \"total_households\"\n",
    ")"
   ]
  },
  {
   "cell_type": "markdown",
   "id": "560aae14-71ea-47cb-87f1-8dbf58689783",
   "metadata": {},
   "source": [
    "## Calculate income per person \n",
    "Multiply the number of households with the household median income, and divide the result with the total population of each region."
   ]
  },
  {
   "cell_type": "code",
   "execution_count": 13,
   "id": "72f244ed-60b3-4933-9f82-18a66d626a69",
   "metadata": {
    "tags": []
   },
   "outputs": [
    {
     "data": {
      "application/vnd.jupyter.widget-view+json": {
       "model_id": "",
       "version_major": 2,
       "version_minor": 0
      },
      "text/plain": [
       "FloatProgress(value=0.0, bar_style='info', description='Progress:', layout=Layout(height='25px', width='50%'),…"
      ]
     },
     "metadata": {},
     "output_type": "display_data"
    }
   ],
   "source": [
    "# Calculate income per person \n",
    "income_per_person = comm_income.withColumn(\n",
    "    \"income_per_person\",\n",
    "    col(\"total_households\") * col(\"median_income\") / col(\"total_population\")\n",
    ")"
   ]
  },
  {
   "cell_type": "code",
   "execution_count": 14,
   "id": "55062efb-033d-4aa0-beb5-7a90cb473738",
   "metadata": {
    "tags": []
   },
   "outputs": [
    {
     "data": {
      "application/vnd.jupyter.widget-view+json": {
       "model_id": "",
       "version_major": 2,
       "version_minor": 0
      },
      "text/plain": [
       "FloatProgress(value=0.0, bar_style='info', description='Progress:', layout=Layout(height='25px', width='50%'),…"
      ]
     },
     "metadata": {},
     "output_type": "display_data"
    },
    {
     "name": "stdout",
     "output_type": "stream",
     "text": [
      "+--------------------+----------------+------------------+----------------+------------------+\n",
      "|              region|total_population|     median_income|total_households| income_per_person|\n",
      "+--------------------+----------------+------------------+----------------+------------------+\n",
      "|         Culver City|           38883|           75913.5|           17491|34148.677532597794|\n",
      "|         Pico Rivera|           62942|           55758.0|           17109|15156.233071716819|\n",
      "|              Malibu|           12645|          123681.0|            6864| 67136.92241992883|\n",
      "|    Hacienda Heights|           53594|           78000.0|           16524| 24048.81143411576|\n",
      "|          Montebello|           62500|           45898.0|           19768|      14516.986624|\n",
      "|    Hawaiian Gardens|           14254|           37543.0|            3703| 9753.173074224778|\n",
      "|    Westlake Village|            8270|          104382.5|            3384| 42712.25876662636|\n",
      "|              Carson|           91714|           74351.5|           26226|21261.120864862507|\n",
      "|            Glendale|          191719| 66520.33333333333|           76269|26462.892582373162|\n",
      "|         Signal Hill|           11016|           65935.0|            4389|26269.854302832246|\n",
      "|            Glendora|           50694|           76010.0|           17982|26962.003787430465|\n",
      "|             Gardena|           58829|49137.666666666664|           21472|17934.759704680797|\n",
      "|           Claremont|           35348|           89161.0|           12306|31040.377560258006|\n",
      "|             Norwalk|          105549|           59756.0|           28083|15899.039763522156|\n",
      "|       Monterey Park|           60269|           53341.5|           20850|18453.438334798986|\n",
      "|       Beverly Hills|           34109|          102447.0|           16394|49239.676273124394|\n",
      "|           Paramount|           54098|           45792.0|           14571| 12333.82439276868|\n",
      "|La Cañada Flintridge|           20246|          156933.0|            7089|54949.028795811515|\n",
      "|            Altadena|           42777|           86310.0|           15947| 32175.83210603829|\n",
      "|      Ladera Heights|            6498|           84099.0|            2867| 37105.54524469067|\n",
      "+--------------------+----------------+------------------+----------------+------------------+\n",
      "only showing top 20 rows"
     ]
    }
   ],
   "source": [
    "income_per_person.show()"
   ]
  },
  {
   "cell_type": "markdown",
   "id": "65e7be91-8477-4c29-9754-d5f3cd353ccf",
   "metadata": {},
   "source": [
    "## Crime data Geometry join\n",
    "Add the geometry column in the crime_data and join the dataframe with the census blocks dataframe to combine the crime data with their location. \n",
    "After using the explain() function, we notice that the join technique used by the catalyst optimizer is \"RangeJoin\"."
   ]
  },
  {
   "cell_type": "code",
   "execution_count": 15,
   "id": "ae12cc72-8a86-4c05-9504-45ebca4dd944",
   "metadata": {
    "tags": []
   },
   "outputs": [
    {
     "data": {
      "application/vnd.jupyter.widget-view+json": {
       "model_id": "",
       "version_major": 2,
       "version_minor": 0
      },
      "text/plain": [
       "FloatProgress(value=0.0, bar_style='info', description='Progress:', layout=Layout(height='25px', width='50%'),…"
      ]
     },
     "metadata": {},
     "output_type": "display_data"
    },
    {
     "name": "stdout",
     "output_type": "stream",
     "text": [
      "== Parsed Logical Plan ==\n",
      "Join Inner,  **org.apache.spark.sql.sedona_sql.expressions.ST_Within**\n",
      ":- Project [DR_NO#42, Date Rptd#43, DATE OCC#44, TIME OCC#45, AREA #46, AREA NAME#47, Rpt Dist No#48, Part 1-2#49, Crm Cd#50, Crm Cd Desc#51, Mocodes#52, Vict Age#53, Vict Sex#54, Vict Descent#55, Premis Cd#56, Premis Desc#57, Weapon Used Cd#58, Weapon Desc#59, Status#60, Status Desc#61, Crm Cd 1#62, Crm Cd 2#63, Crm Cd 3#64, Crm Cd 4#65, ... 5 more fields]\n",
      ":  +- Relation [DR_NO#42,Date Rptd#43,DATE OCC#44,TIME OCC#45,AREA #46,AREA NAME#47,Rpt Dist No#48,Part 1-2#49,Crm Cd#50,Crm Cd Desc#51,Mocodes#52,Vict Age#53,Vict Sex#54,Vict Descent#55,Premis Cd#56,Premis Desc#57,Weapon Used Cd#58,Weapon Desc#59,Status#60,Status Desc#61,Crm Cd 1#62,Crm Cd 2#63,Crm Cd 3#64,Crm Cd 4#65,... 4 more fields] csv\n",
      "+- Project [properties#189.BG10 AS BG10#194, properties#189.BG10FIP10 AS BG10FIP10#195, properties#189.BG12 AS BG12#196, properties#189.CB10 AS CB10#197, properties#189.CEN_FIP13 AS CEN_FIP13#198, properties#189.CITY AS CITY#199, properties#189.CITYCOM AS CITYCOM#200, properties#189.COMM AS COMM#201, properties#189.CT10 AS CT10#202, properties#189.CT12 AS CT12#203, properties#189.CTCB10 AS CTCB10#204, properties#189.HD_2012 AS HD_2012#205L, properties#189.HD_NAME AS HD_NAME#206, properties#189.HOUSING10 AS HOUSING10#207L, properties#189.LA_FIP10 AS LA_FIP10#208, properties#189.OBJECTID AS OBJECTID#209L, properties#189.POP_2010 AS POP_2010#210L, properties#189.PUMA10 AS PUMA10#211, properties#189.SPA_2012 AS SPA_2012#212L, properties#189.SPA_NAME AS SPA_NAME#213, properties#189.SUP_DIST AS SUP_DIST#214, properties#189.SUP_LABEL AS SUP_LABEL#215, properties#189.ShapeSTArea AS ShapeSTArea#216, properties#189.ShapeSTLength AS ShapeSTLength#217, ... 2 more fields]\n",
      "   +- Project [features#185.geometry AS geometry#188, features#185.properties AS properties#189, features#185.type AS type#190]\n",
      "      +- Project [features#185]\n",
      "         +- Generate explode(features#177), false, [features#185]\n",
      "            +- Relation [crs#176,features#177,name#178,type#179] geojson\n",
      "\n",
      "== Analyzed Logical Plan ==\n",
      "DR_NO: int, Date Rptd: string, DATE OCC: string, TIME OCC: int, AREA : int, AREA NAME: string, Rpt Dist No: int, Part 1-2: int, Crm Cd: int, Crm Cd Desc: string, Mocodes: string, Vict Age: int, Vict Sex: string, Vict Descent: string, Premis Cd: int, Premis Desc: string, Weapon Used Cd: int, Weapon Desc: string, Status: string, Status Desc: string, Crm Cd 1: int, Crm Cd 2: int, Crm Cd 3: int, Crm Cd 4: int, ... 31 more fields\n",
      "Join Inner,  **org.apache.spark.sql.sedona_sql.expressions.ST_Within**\n",
      ":- Project [DR_NO#42, Date Rptd#43, DATE OCC#44, TIME OCC#45, AREA #46, AREA NAME#47, Rpt Dist No#48, Part 1-2#49, Crm Cd#50, Crm Cd Desc#51, Mocodes#52, Vict Age#53, Vict Sex#54, Vict Descent#55, Premis Cd#56, Premis Desc#57, Weapon Used Cd#58, Weapon Desc#59, Status#60, Status Desc#61, Crm Cd 1#62, Crm Cd 2#63, Crm Cd 3#64, Crm Cd 4#65, ... 5 more fields]\n",
      ":  +- Relation [DR_NO#42,Date Rptd#43,DATE OCC#44,TIME OCC#45,AREA #46,AREA NAME#47,Rpt Dist No#48,Part 1-2#49,Crm Cd#50,Crm Cd Desc#51,Mocodes#52,Vict Age#53,Vict Sex#54,Vict Descent#55,Premis Cd#56,Premis Desc#57,Weapon Used Cd#58,Weapon Desc#59,Status#60,Status Desc#61,Crm Cd 1#62,Crm Cd 2#63,Crm Cd 3#64,Crm Cd 4#65,... 4 more fields] csv\n",
      "+- Project [properties#189.BG10 AS BG10#194, properties#189.BG10FIP10 AS BG10FIP10#195, properties#189.BG12 AS BG12#196, properties#189.CB10 AS CB10#197, properties#189.CEN_FIP13 AS CEN_FIP13#198, properties#189.CITY AS CITY#199, properties#189.CITYCOM AS CITYCOM#200, properties#189.COMM AS COMM#201, properties#189.CT10 AS CT10#202, properties#189.CT12 AS CT12#203, properties#189.CTCB10 AS CTCB10#204, properties#189.HD_2012 AS HD_2012#205L, properties#189.HD_NAME AS HD_NAME#206, properties#189.HOUSING10 AS HOUSING10#207L, properties#189.LA_FIP10 AS LA_FIP10#208, properties#189.OBJECTID AS OBJECTID#209L, properties#189.POP_2010 AS POP_2010#210L, properties#189.PUMA10 AS PUMA10#211, properties#189.SPA_2012 AS SPA_2012#212L, properties#189.SPA_NAME AS SPA_NAME#213, properties#189.SUP_DIST AS SUP_DIST#214, properties#189.SUP_LABEL AS SUP_LABEL#215, properties#189.ShapeSTArea AS ShapeSTArea#216, properties#189.ShapeSTLength AS ShapeSTLength#217, ... 2 more fields]\n",
      "   +- Project [features#185.geometry AS geometry#188, features#185.properties AS properties#189, features#185.type AS type#190]\n",
      "      +- Project [features#185]\n",
      "         +- Generate explode(features#177), false, [features#185]\n",
      "            +- Relation [crs#176,features#177,name#178,type#179] geojson\n",
      "\n",
      "== Optimized Logical Plan ==\n",
      "Join Inner,  **org.apache.spark.sql.sedona_sql.expressions.ST_Within**\n",
      ":- Project [DR_NO#42, Date Rptd#43, DATE OCC#44, TIME OCC#45, AREA #46, AREA NAME#47, Rpt Dist No#48, Part 1-2#49, Crm Cd#50, Crm Cd Desc#51, Mocodes#52, Vict Age#53, Vict Sex#54, Vict Descent#55, Premis Cd#56, Premis Desc#57, Weapon Used Cd#58, Weapon Desc#59, Status#60, Status Desc#61, Crm Cd 1#62, Crm Cd 2#63, Crm Cd 3#64, Crm Cd 4#65, ... 5 more fields]\n",
      ":  +- Filter isnotnull( **org.apache.spark.sql.sedona_sql.expressions.ST_Point**  )\n",
      ":     +- Relation [DR_NO#42,Date Rptd#43,DATE OCC#44,TIME OCC#45,AREA #46,AREA NAME#47,Rpt Dist No#48,Part 1-2#49,Crm Cd#50,Crm Cd Desc#51,Mocodes#52,Vict Age#53,Vict Sex#54,Vict Descent#55,Premis Cd#56,Premis Desc#57,Weapon Used Cd#58,Weapon Desc#59,Status#60,Status Desc#61,Crm Cd 1#62,Crm Cd 2#63,Crm Cd 3#64,Crm Cd 4#65,... 4 more fields] csv\n",
      "+- Project [features#185.properties.BG10 AS BG10#194, features#185.properties.BG10FIP10 AS BG10FIP10#195, features#185.properties.BG12 AS BG12#196, features#185.properties.CB10 AS CB10#197, features#185.properties.CEN_FIP13 AS CEN_FIP13#198, features#185.properties.CITY AS CITY#199, features#185.properties.CITYCOM AS CITYCOM#200, features#185.properties.COMM AS COMM#201, features#185.properties.CT10 AS CT10#202, features#185.properties.CT12 AS CT12#203, features#185.properties.CTCB10 AS CTCB10#204, features#185.properties.HD_2012 AS HD_2012#205L, features#185.properties.HD_NAME AS HD_NAME#206, features#185.properties.HOUSING10 AS HOUSING10#207L, features#185.properties.LA_FIP10 AS LA_FIP10#208, features#185.properties.OBJECTID AS OBJECTID#209L, features#185.properties.POP_2010 AS POP_2010#210L, features#185.properties.PUMA10 AS PUMA10#211, features#185.properties.SPA_2012 AS SPA_2012#212L, features#185.properties.SPA_NAME AS SPA_NAME#213, features#185.properties.SUP_DIST AS SUP_DIST#214, features#185.properties.SUP_LABEL AS SUP_LABEL#215, features#185.properties.ShapeSTArea AS ShapeSTArea#216, features#185.properties.ShapeSTLength AS ShapeSTLength#217, ... 2 more fields]\n",
      "   +- Filter isnotnull(features#185.geometry)\n",
      "      +- Generate explode(features#177), [0], false, [features#185]\n",
      "         +- Project [features#177]\n",
      "            +- Filter ((size(features#177, true) > 0) AND isnotnull(features#177))\n",
      "               +- Relation [crs#176,features#177,name#178,type#179] geojson\n",
      "\n",
      "== Physical Plan ==\n",
      "RangeJoin geom#628: geometry, geometry#188: geometry, WITHIN\n",
      ":- Project [DR_NO#42, Date Rptd#43, DATE OCC#44, TIME OCC#45, AREA #46, AREA NAME#47, Rpt Dist No#48, Part 1-2#49, Crm Cd#50, Crm Cd Desc#51, Mocodes#52, Vict Age#53, Vict Sex#54, Vict Descent#55, Premis Cd#56, Premis Desc#57, Weapon Used Cd#58, Weapon Desc#59, Status#60, Status Desc#61, Crm Cd 1#62, Crm Cd 2#63, Crm Cd 3#64, Crm Cd 4#65, ... 5 more fields]\n",
      ":  +- Filter isnotnull( **org.apache.spark.sql.sedona_sql.expressions.ST_Point**  )\n",
      ":     +- FileScan csv [DR_NO#42,Date Rptd#43,DATE OCC#44,TIME OCC#45,AREA #46,AREA NAME#47,Rpt Dist No#48,Part 1-2#49,Crm Cd#50,Crm Cd Desc#51,Mocodes#52,Vict Age#53,Vict Sex#54,Vict Descent#55,Premis Cd#56,Premis Desc#57,Weapon Used Cd#58,Weapon Desc#59,Status#60,Status Desc#61,Crm Cd 1#62,Crm Cd 2#63,Crm Cd 3#64,Crm Cd 4#65,... 4 more fields] Batched: false, DataFilters: [isnotnull( **org.apache.spark.sql.sedona_sql.expressions.ST_Point**  )], Format: CSV, Location: InMemoryFileIndex(1 paths)[s3://initial-notebook-data-bucket-dblab-905418150721/CrimeData/Crime_D..., PartitionFilters: [], PushedFilters: [], ReadSchema: struct<DR_NO:int,Date Rptd:string,DATE OCC:string,TIME OCC:int,AREA :int,AREA NAME:string,Rpt Dis...\n",
      "+- *(1) Project [features#185.properties.BG10 AS BG10#194, features#185.properties.BG10FIP10 AS BG10FIP10#195, features#185.properties.BG12 AS BG12#196, features#185.properties.CB10 AS CB10#197, features#185.properties.CEN_FIP13 AS CEN_FIP13#198, features#185.properties.CITY AS CITY#199, features#185.properties.CITYCOM AS CITYCOM#200, features#185.properties.COMM AS COMM#201, features#185.properties.CT10 AS CT10#202, features#185.properties.CT12 AS CT12#203, features#185.properties.CTCB10 AS CTCB10#204, features#185.properties.HD_2012 AS HD_2012#205L, features#185.properties.HD_NAME AS HD_NAME#206, features#185.properties.HOUSING10 AS HOUSING10#207L, features#185.properties.LA_FIP10 AS LA_FIP10#208, features#185.properties.OBJECTID AS OBJECTID#209L, features#185.properties.POP_2010 AS POP_2010#210L, features#185.properties.PUMA10 AS PUMA10#211, features#185.properties.SPA_2012 AS SPA_2012#212L, features#185.properties.SPA_NAME AS SPA_NAME#213, features#185.properties.SUP_DIST AS SUP_DIST#214, features#185.properties.SUP_LABEL AS SUP_LABEL#215, features#185.properties.ShapeSTArea AS ShapeSTArea#216, features#185.properties.ShapeSTLength AS ShapeSTLength#217, ... 2 more fields]\n",
      "   +- *(1) Filter isnotnull(features#185.geometry)\n",
      "      +- *(1) Generate explode(features#177), false, [features#185]\n",
      "         +- *(1) Filter ((size(features#177, true) > 0) AND isnotnull(features#177))\n",
      "            +- FileScan geojson [features#177] Batched: false, DataFilters: [(size(features#177, true) > 0), isnotnull(features#177)], Format: GEOJSON, Location: InMemoryFileIndex(1 paths)[s3://initial-notebook-data-bucket-dblab-905418150721/2010_Census_Block..., PartitionFilters: [], PushedFilters: [IsNotNull(features)], ReadSchema: struct<features:array<struct<geometry:binary,properties:struct<BG10:string,BG10FIP10:string,BG12:..."
     ]
    }
   ],
   "source": [
    "# Create geometry column for crime data\n",
    "crime_data = crime_data.withColumn(\"geom\", ST_Point(col(\"LON\"), col(\"LAT\")))\n",
    "crime_data_location = crime_data.join(flattened_blocks_df, ST_Within(crime_data[\"geom\"], flattened_blocks_df[\"geometry\"]), \"inner\")\n",
    "crime_data_location.explain(True)"
   ]
  },
  {
   "cell_type": "markdown",
   "id": "b59f0e6a-031c-4896-95c8-0bf39dc00c45",
   "metadata": {},
   "source": [
    "## Group by Community and count the number of crimes\n",
    "Group the crime_pop dataframe by \"COMM\" column, and count the number of crimes commited per region."
   ]
  },
  {
   "cell_type": "code",
   "execution_count": 16,
   "id": "ee18073a-56e0-4ef9-853b-8a64eb1cc36c",
   "metadata": {
    "tags": []
   },
   "outputs": [
    {
     "data": {
      "application/vnd.jupyter.widget-view+json": {
       "model_id": "",
       "version_major": 2,
       "version_minor": 0
      },
      "text/plain": [
       "FloatProgress(value=0.0, bar_style='info', description='Progress:', layout=Layout(height='25px', width='50%'),…"
      ]
     },
     "metadata": {},
     "output_type": "display_data"
    },
    {
     "name": "stdout",
     "output_type": "stream",
     "text": [
      "+--------------------+------------------+\n",
      "|                COMM|total_crime_number|\n",
      "+--------------------+------------------+\n",
      "|    Westlake Village|                 1|\n",
      "|        Agoura Hills|                 6|\n",
      "|        Hidden Hills|                 3|\n",
      "|Santa Monica Moun...|                 4|\n",
      "|         Canoga Park|             37017|\n",
      "|            Winnetka|             22947|\n",
      "|           Westhills|                 7|\n",
      "|          West Hills|             13065|\n",
      "|           Calabasas|                11|\n",
      "|      Woodland Hills|             31767|\n",
      "|                    |                37|\n",
      "|      West Hollywood|               495|\n",
      "|           Thai Town|              3124|\n",
      "|           Hollywood|             63825|\n",
      "|      Little Armenia|              4192|\n",
      "|             Melrose|             43800|\n",
      "|      Gramercy Place|              7947|\n",
      "| Rancho Palos Verdes|               131|\n",
      "|             Gardena|               353|\n",
      "|        Harbor Pines|               772|\n",
      "+--------------------+------------------+\n",
      "only showing top 20 rows"
     ]
    }
   ],
   "source": [
    "crime_pop = crime_data_location.groupBy(\"COMM\").agg(\n",
    "    count(\"*\").alias(\"total_crime_number\")\n",
    ")\n",
    "crime_pop.show()"
   ]
  },
  {
   "cell_type": "markdown",
   "id": "61d62867-844c-431e-b8d1-85d75c4f5e12",
   "metadata": {},
   "source": [
    "## Join the income_per_person and crime_pop dataframes\n",
    "Join the two dataframes on the \"region\" (\"COMM\") columns, to combine all the income, crime and population data in a single dataframe. Then, add the \"crimes_per_person\" column, dividingg the total crime number of each region with its total population. After using the explain() function, we notice that the join technique used by the catalyst optimizer is \"SortMergeJoin\"."
   ]
  },
  {
   "cell_type": "code",
   "execution_count": 17,
   "id": "6d66a58c-08c9-4b36-a697-8a6b840062d5",
   "metadata": {
    "tags": []
   },
   "outputs": [
    {
     "data": {
      "application/vnd.jupyter.widget-view+json": {
       "model_id": "",
       "version_major": 2,
       "version_minor": 0
      },
      "text/plain": [
       "FloatProgress(value=0.0, bar_style='info', description='Progress:', layout=Layout(height='25px', width='50%'),…"
      ]
     },
     "metadata": {},
     "output_type": "display_data"
    },
    {
     "name": "stdout",
     "output_type": "stream",
     "text": [
      "== Parsed Logical Plan ==\n",
      "Join Inner, (region#569 = COMM#201)\n",
      ":- Project [region#569, total_population#387L, median_income#570, total_households#389L, ((cast(total_households#389L as double) * median_income#570) / cast(total_population#387L as double)) AS income_per_person#575]\n",
      ":  +- Project [COMM#201 AS region#569, total_population#387L, average_median_income#518 AS median_income#570, total_households#389L]\n",
      ":     +- Join Inner, (COMM#201 = Community#117)\n",
      ":        :- Aggregate [COMM#201], [COMM#201, sum(POP_2010#210L) AS total_population#387L, sum(HOUSING10#207L) AS total_households#389L]\n",
      ":        :  +- Project [properties#189.BG10 AS BG10#194, properties#189.BG10FIP10 AS BG10FIP10#195, properties#189.BG12 AS BG12#196, properties#189.CB10 AS CB10#197, properties#189.CEN_FIP13 AS CEN_FIP13#198, properties#189.CITY AS CITY#199, properties#189.CITYCOM AS CITYCOM#200, properties#189.COMM AS COMM#201, properties#189.CT10 AS CT10#202, properties#189.CT12 AS CT12#203, properties#189.CTCB10 AS CTCB10#204, properties#189.HD_2012 AS HD_2012#205L, properties#189.HD_NAME AS HD_NAME#206, properties#189.HOUSING10 AS HOUSING10#207L, properties#189.LA_FIP10 AS LA_FIP10#208, properties#189.OBJECTID AS OBJECTID#209L, properties#189.POP_2010 AS POP_2010#210L, properties#189.PUMA10 AS PUMA10#211, properties#189.SPA_2012 AS SPA_2012#212L, properties#189.SPA_NAME AS SPA_NAME#213, properties#189.SUP_DIST AS SUP_DIST#214, properties#189.SUP_LABEL AS SUP_LABEL#215, properties#189.ShapeSTArea AS ShapeSTArea#216, properties#189.ShapeSTLength AS ShapeSTLength#217, ... 2 more fields]\n",
      ":        :     +- Project [features#185.geometry AS geometry#188, features#185.properties AS properties#189, features#185.type AS type#190]\n",
      ":        :        +- Project [features#185]\n",
      ":        :           +- Generate explode(features#177), false, [features#185]\n",
      ":        :              +- Relation [crs#176,features#177,name#178,type#179] geojson\n",
      ":        +- Aggregate [Community#117], [Community#117, avg(Estimated Median Income#510) AS average_median_income#518]\n",
      ":           +- Project [Zip Code#116, Community#117, cast(regexp_replace(Estimated Median Income#118, [^0-9], , 1) as double) AS Estimated Median Income#510]\n",
      ":              +- Relation [Zip Code#116,Community#117,Estimated Median Income#118] csv\n",
      "+- Aggregate [COMM#201], [COMM#201, count(1) AS total_crime_number#825L]\n",
      "   +- Join Inner,  **org.apache.spark.sql.sedona_sql.expressions.ST_Within**\n",
      "      :- Project [DR_NO#42, Date Rptd#43, DATE OCC#44, TIME OCC#45, AREA #46, AREA NAME#47, Rpt Dist No#48, Part 1-2#49, Crm Cd#50, Crm Cd Desc#51, Mocodes#52, Vict Age#53, Vict Sex#54, Vict Descent#55, Premis Cd#56, Premis Desc#57, Weapon Used Cd#58, Weapon Desc#59, Status#60, Status Desc#61, Crm Cd 1#62, Crm Cd 2#63, Crm Cd 3#64, Crm Cd 4#65, ... 5 more fields]\n",
      "      :  +- Relation [DR_NO#42,Date Rptd#43,DATE OCC#44,TIME OCC#45,AREA #46,AREA NAME#47,Rpt Dist No#48,Part 1-2#49,Crm Cd#50,Crm Cd Desc#51,Mocodes#52,Vict Age#53,Vict Sex#54,Vict Descent#55,Premis Cd#56,Premis Desc#57,Weapon Used Cd#58,Weapon Desc#59,Status#60,Status Desc#61,Crm Cd 1#62,Crm Cd 2#63,Crm Cd 3#64,Crm Cd 4#65,... 4 more fields] csv\n",
      "      +- Project [properties#189.BG10 AS BG10#194, properties#189.BG10FIP10 AS BG10FIP10#195, properties#189.BG12 AS BG12#196, properties#189.CB10 AS CB10#197, properties#189.CEN_FIP13 AS CEN_FIP13#198, properties#189.CITY AS CITY#199, properties#189.CITYCOM AS CITYCOM#200, properties#189.COMM AS COMM#201, properties#189.CT10 AS CT10#202, properties#189.CT12 AS CT12#203, properties#189.CTCB10 AS CTCB10#204, properties#189.HD_2012 AS HD_2012#205L, properties#189.HD_NAME AS HD_NAME#206, properties#189.HOUSING10 AS HOUSING10#207L, properties#189.LA_FIP10 AS LA_FIP10#208, properties#189.OBJECTID AS OBJECTID#209L, properties#189.POP_2010 AS POP_2010#210L, properties#189.PUMA10 AS PUMA10#211, properties#189.SPA_2012 AS SPA_2012#212L, properties#189.SPA_NAME AS SPA_NAME#213, properties#189.SUP_DIST AS SUP_DIST#214, properties#189.SUP_LABEL AS SUP_LABEL#215, properties#189.ShapeSTArea AS ShapeSTArea#216, properties#189.ShapeSTLength AS ShapeSTLength#217, ... 2 more fields]\n",
      "         +- Project [features#185.geometry AS geometry#188, features#185.properties AS properties#189, features#185.type AS type#190]\n",
      "            +- Project [features#185]\n",
      "               +- Generate explode(features#847), false, [features#185]\n",
      "                  +- Relation [crs#846,features#847,name#848,type#849] geojson\n",
      "\n",
      "== Analyzed Logical Plan ==\n",
      "region: string, total_population: bigint, median_income: double, total_households: bigint, income_per_person: double, COMM: string, total_crime_number: bigint\n",
      "Join Inner, (region#569 = COMM#201)\n",
      ":- Project [region#569, total_population#387L, median_income#570, total_households#389L, ((cast(total_households#389L as double) * median_income#570) / cast(total_population#387L as double)) AS income_per_person#575]\n",
      ":  +- Project [COMM#201 AS region#569, total_population#387L, average_median_income#518 AS median_income#570, total_households#389L]\n",
      ":     +- Join Inner, (COMM#201 = Community#117)\n",
      ":        :- Aggregate [COMM#201], [COMM#201, sum(POP_2010#210L) AS total_population#387L, sum(HOUSING10#207L) AS total_households#389L]\n",
      ":        :  +- Project [properties#189.BG10 AS BG10#194, properties#189.BG10FIP10 AS BG10FIP10#195, properties#189.BG12 AS BG12#196, properties#189.CB10 AS CB10#197, properties#189.CEN_FIP13 AS CEN_FIP13#198, properties#189.CITY AS CITY#199, properties#189.CITYCOM AS CITYCOM#200, properties#189.COMM AS COMM#201, properties#189.CT10 AS CT10#202, properties#189.CT12 AS CT12#203, properties#189.CTCB10 AS CTCB10#204, properties#189.HD_2012 AS HD_2012#205L, properties#189.HD_NAME AS HD_NAME#206, properties#189.HOUSING10 AS HOUSING10#207L, properties#189.LA_FIP10 AS LA_FIP10#208, properties#189.OBJECTID AS OBJECTID#209L, properties#189.POP_2010 AS POP_2010#210L, properties#189.PUMA10 AS PUMA10#211, properties#189.SPA_2012 AS SPA_2012#212L, properties#189.SPA_NAME AS SPA_NAME#213, properties#189.SUP_DIST AS SUP_DIST#214, properties#189.SUP_LABEL AS SUP_LABEL#215, properties#189.ShapeSTArea AS ShapeSTArea#216, properties#189.ShapeSTLength AS ShapeSTLength#217, ... 2 more fields]\n",
      ":        :     +- Project [features#185.geometry AS geometry#188, features#185.properties AS properties#189, features#185.type AS type#190]\n",
      ":        :        +- Project [features#185]\n",
      ":        :           +- Generate explode(features#177), false, [features#185]\n",
      ":        :              +- Relation [crs#176,features#177,name#178,type#179] geojson\n",
      ":        +- Aggregate [Community#117], [Community#117, avg(Estimated Median Income#510) AS average_median_income#518]\n",
      ":           +- Project [Zip Code#116, Community#117, cast(regexp_replace(Estimated Median Income#118, [^0-9], , 1) as double) AS Estimated Median Income#510]\n",
      ":              +- Relation [Zip Code#116,Community#117,Estimated Median Income#118] csv\n",
      "+- Aggregate [COMM#201], [COMM#201, count(1) AS total_crime_number#825L]\n",
      "   +- Join Inner,  **org.apache.spark.sql.sedona_sql.expressions.ST_Within**\n",
      "      :- Project [DR_NO#42, Date Rptd#43, DATE OCC#44, TIME OCC#45, AREA #46, AREA NAME#47, Rpt Dist No#48, Part 1-2#49, Crm Cd#50, Crm Cd Desc#51, Mocodes#52, Vict Age#53, Vict Sex#54, Vict Descent#55, Premis Cd#56, Premis Desc#57, Weapon Used Cd#58, Weapon Desc#59, Status#60, Status Desc#61, Crm Cd 1#62, Crm Cd 2#63, Crm Cd 3#64, Crm Cd 4#65, ... 5 more fields]\n",
      "      :  +- Relation [DR_NO#42,Date Rptd#43,DATE OCC#44,TIME OCC#45,AREA #46,AREA NAME#47,Rpt Dist No#48,Part 1-2#49,Crm Cd#50,Crm Cd Desc#51,Mocodes#52,Vict Age#53,Vict Sex#54,Vict Descent#55,Premis Cd#56,Premis Desc#57,Weapon Used Cd#58,Weapon Desc#59,Status#60,Status Desc#61,Crm Cd 1#62,Crm Cd 2#63,Crm Cd 3#64,Crm Cd 4#65,... 4 more fields] csv\n",
      "      +- Project [properties#189.BG10 AS BG10#194, properties#189.BG10FIP10 AS BG10FIP10#195, properties#189.BG12 AS BG12#196, properties#189.CB10 AS CB10#197, properties#189.CEN_FIP13 AS CEN_FIP13#198, properties#189.CITY AS CITY#199, properties#189.CITYCOM AS CITYCOM#200, properties#189.COMM AS COMM#201, properties#189.CT10 AS CT10#202, properties#189.CT12 AS CT12#203, properties#189.CTCB10 AS CTCB10#204, properties#189.HD_2012 AS HD_2012#205L, properties#189.HD_NAME AS HD_NAME#206, properties#189.HOUSING10 AS HOUSING10#207L, properties#189.LA_FIP10 AS LA_FIP10#208, properties#189.OBJECTID AS OBJECTID#209L, properties#189.POP_2010 AS POP_2010#210L, properties#189.PUMA10 AS PUMA10#211, properties#189.SPA_2012 AS SPA_2012#212L, properties#189.SPA_NAME AS SPA_NAME#213, properties#189.SUP_DIST AS SUP_DIST#214, properties#189.SUP_LABEL AS SUP_LABEL#215, properties#189.ShapeSTArea AS ShapeSTArea#216, properties#189.ShapeSTLength AS ShapeSTLength#217, ... 2 more fields]\n",
      "         +- Project [features#185.geometry AS geometry#188, features#185.properties AS properties#189, features#185.type AS type#190]\n",
      "            +- Project [features#185]\n",
      "               +- Generate explode(features#847), false, [features#185]\n",
      "                  +- Relation [crs#846,features#847,name#848,type#849] geojson\n",
      "\n",
      "== Optimized Logical Plan ==\n",
      "Join Inner, (region#569 = COMM#201)\n",
      ":- Project [COMM#201 AS region#569, total_population#387L, average_median_income#518 AS median_income#570, total_households#389L, ((cast(total_households#389L as double) * average_median_income#518) / cast(total_population#387L as double)) AS income_per_person#575]\n",
      ":  +- Join Inner, (COMM#201 = Community#117)\n",
      ":     :- Aggregate [COMM#201], [COMM#201, sum(POP_2010#210L) AS total_population#387L, sum(HOUSING10#207L) AS total_households#389L]\n",
      ":     :  +- Project [features#185.properties.COMM AS COMM#201, features#185.properties.HOUSING10 AS HOUSING10#207L, features#185.properties.POP_2010 AS POP_2010#210L]\n",
      ":     :     +- Filter isnotnull(features#185.properties.COMM)\n",
      ":     :        +- Generate explode(features#177), [0], false, [features#185]\n",
      ":     :           +- Project [features#177]\n",
      ":     :              +- Filter ((size(features#177, true) > 0) AND isnotnull(features#177))\n",
      ":     :                 +- Relation [crs#176,features#177,name#178,type#179] geojson\n",
      ":     +- Aggregate [Community#117], [Community#117, avg(Estimated Median Income#510) AS average_median_income#518]\n",
      ":        +- Project [Community#117, cast(regexp_replace(Estimated Median Income#118, [^0-9], , 1) as double) AS Estimated Median Income#510]\n",
      ":           +- Filter isnotnull(Community#117)\n",
      ":              +- Relation [Zip Code#116,Community#117,Estimated Median Income#118] csv\n",
      "+- Aggregate [COMM#201], [COMM#201, count(1) AS total_crime_number#825L]\n",
      "   +- Project [COMM#201]\n",
      "      +- Join Inner,  **org.apache.spark.sql.sedona_sql.expressions.ST_Within**\n",
      "         :- Project [ **org.apache.spark.sql.sedona_sql.expressions.ST_Point**   AS geom#628]\n",
      "         :  +- Filter isnotnull( **org.apache.spark.sql.sedona_sql.expressions.ST_Point**  )\n",
      "         :     +- Relation [DR_NO#42,Date Rptd#43,DATE OCC#44,TIME OCC#45,AREA #46,AREA NAME#47,Rpt Dist No#48,Part 1-2#49,Crm Cd#50,Crm Cd Desc#51,Mocodes#52,Vict Age#53,Vict Sex#54,Vict Descent#55,Premis Cd#56,Premis Desc#57,Weapon Used Cd#58,Weapon Desc#59,Status#60,Status Desc#61,Crm Cd 1#62,Crm Cd 2#63,Crm Cd 3#64,Crm Cd 4#65,... 4 more fields] csv\n",
      "         +- Project [features#185.properties.COMM AS COMM#201, features#185.geometry AS geometry#188]\n",
      "            +- Filter ((isnotnull(features#185.geometry) AND isnotnull(features#185.properties.COMM)) AND bloomfilter#865 of [region#569] filtering [features#185.properties.COMM])\n",
      "               :  +- Project [COMM#201 AS region#569, total_population#387L, average_median_income#518 AS median_income#570, total_households#389L, ((cast(total_households#389L as double) * average_median_income#518) / cast(total_population#387L as double)) AS income_per_person#575]\n",
      "               :     +- Join Inner, (COMM#201 = Community#117)\n",
      "               :        :- Aggregate [COMM#201], [COMM#201, sum(POP_2010#210L) AS total_population#387L, sum(HOUSING10#207L) AS total_households#389L]\n",
      "               :        :  +- Project [features#185.properties.COMM AS COMM#201, features#185.properties.HOUSING10 AS HOUSING10#207L, features#185.properties.POP_2010 AS POP_2010#210L]\n",
      "               :        :     +- Filter isnotnull(features#185.properties.COMM)\n",
      "               :        :        +- Generate explode(features#177), [0], false, [features#185]\n",
      "               :        :           +- Project [features#177]\n",
      "               :        :              +- Filter ((size(features#177, true) > 0) AND isnotnull(features#177))\n",
      "               :        :                 +- Relation [crs#176,features#177,name#178,type#179] geojson\n",
      "               :        +- Aggregate [Community#117], [Community#117, avg(Estimated Median Income#510) AS average_median_income#518]\n",
      "               :           +- Project [Community#117, cast(regexp_replace(Estimated Median Income#118, [^0-9], , 1) as double) AS Estimated Median Income#510]\n",
      "               :              +- Filter isnotnull(Community#117)\n",
      "               :                 +- Relation [Zip Code#116,Community#117,Estimated Median Income#118] csv\n",
      "               +- Generate explode(features#847), [0], false, [features#185]\n",
      "                  +- Project [features#847]\n",
      "                     +- Filter ((size(features#847, true) > 0) AND isnotnull(features#847))\n",
      "                        +- Relation [crs#846,features#847,name#848,type#849] geojson\n",
      "\n",
      "== Physical Plan ==\n",
      "AdaptiveSparkPlan isFinalPlan=false\n",
      "+- SortMergeJoin [region#569], [COMM#201], Inner\n",
      "   :- Sort [region#569 ASC NULLS FIRST], false, 0\n",
      "   :  +- Project [COMM#201 AS region#569, total_population#387L, average_median_income#518 AS median_income#570, total_households#389L, ((cast(total_households#389L as double) * average_median_income#518) / cast(total_population#387L as double)) AS income_per_person#575]\n",
      "   :     +- BroadcastHashJoin [COMM#201], [Community#117], Inner, BuildRight, false\n",
      "   :        :- HashAggregate(keys=[COMM#201], functions=[sum(POP_2010#210L), sum(HOUSING10#207L)], output=[COMM#201, total_population#387L, total_households#389L], schema specialized)\n",
      "   :        :  +- Exchange hashpartitioning(COMM#201, 1000), ENSURE_REQUIREMENTS, [plan_id=1341]\n",
      "   :        :     +- HashAggregate(keys=[COMM#201], functions=[partial_sum(POP_2010#210L), partial_sum(HOUSING10#207L)], output=[COMM#201, sum#406L, sum#408L], schema specialized)\n",
      "   :        :        +- Project [features#185.properties.COMM AS COMM#201, features#185.properties.HOUSING10 AS HOUSING10#207L, features#185.properties.POP_2010 AS POP_2010#210L]\n",
      "   :        :           +- Filter isnotnull(features#185.properties.COMM)\n",
      "   :        :              +- Generate explode(features#177), false, [features#185]\n",
      "   :        :                 +- Filter ((size(features#177, true) > 0) AND isnotnull(features#177))\n",
      "   :        :                    +- FileScan geojson [features#177] Batched: false, DataFilters: [(size(features#177, true) > 0), isnotnull(features#177)], Format: GEOJSON, Location: InMemoryFileIndex(1 paths)[s3://initial-notebook-data-bucket-dblab-905418150721/2010_Census_Block..., PartitionFilters: [], PushedFilters: [IsNotNull(features)], ReadSchema: struct<features:array<struct<geometry:binary,properties:struct<BG10:string,BG10FIP10:string,BG12:...\n",
      "   :        +- BroadcastExchange HashedRelationBroadcastMode(List(input[0, string, false]),false), [plan_id=1346]\n",
      "   :           +- HashAggregate(keys=[Community#117], functions=[avg(Estimated Median Income#510)], output=[Community#117, average_median_income#518], schema specialized)\n",
      "   :              +- Exchange hashpartitioning(Community#117, 1000), ENSURE_REQUIREMENTS, [plan_id=1343]\n",
      "   :                 +- HashAggregate(keys=[Community#117], functions=[partial_avg(Estimated Median Income#510)], output=[Community#117, sum#529, count#530L], schema specialized)\n",
      "   :                    +- Project [Community#117, cast(regexp_replace(Estimated Median Income#118, [^0-9], , 1) as double) AS Estimated Median Income#510]\n",
      "   :                       +- Filter isnotnull(Community#117)\n",
      "   :                          +- FileScan csv [Community#117,Estimated Median Income#118] Batched: false, DataFilters: [isnotnull(Community#117)], Format: CSV, Location: InMemoryFileIndex(1 paths)[s3://initial-notebook-data-bucket-dblab-905418150721/LA_income_2015.csv], PartitionFilters: [], PushedFilters: [IsNotNull(Community)], ReadSchema: struct<Community:string,Estimated Median Income:string>\n",
      "   +- Sort [COMM#201 ASC NULLS FIRST], false, 0\n",
      "      +- HashAggregate(keys=[COMM#201], functions=[count(1)], output=[COMM#201, total_crime_number#825L], schema specialized)\n",
      "         +- Exchange hashpartitioning(COMM#201, 1000), ENSURE_REQUIREMENTS, [plan_id=1435]\n",
      "            +- HashAggregate(keys=[COMM#201], functions=[partial_count(1)], output=[COMM#201, count#835L], schema specialized)\n",
      "               +- Project [COMM#201]\n",
      "                  +- RangeJoin geom#628: geometry, geometry#188: geometry, WITHIN\n",
      "                     :- Project [ **org.apache.spark.sql.sedona_sql.expressions.ST_Point**   AS geom#628]\n",
      "                     :  +- Filter isnotnull( **org.apache.spark.sql.sedona_sql.expressions.ST_Point**  )\n",
      "                     :     +- FileScan csv [LAT#68,LON#69] Batched: false, DataFilters: [isnotnull( **org.apache.spark.sql.sedona_sql.expressions.ST_Point**  )], Format: CSV, Location: InMemoryFileIndex(1 paths)[s3://initial-notebook-data-bucket-dblab-905418150721/CrimeData/Crime_D..., PartitionFilters: [], PushedFilters: [], ReadSchema: struct<LAT:double,LON:double>\n",
      "                     +- Project [features#185.properties.COMM AS COMM#201, features#185.geometry AS geometry#188]\n",
      "                        +- Filter (isnotnull(features#185.geometry) AND isnotnull(features#185.properties.COMM))\n",
      "                           +- Generate explode(features#847), false, [features#185]\n",
      "                              +- Filter ((size(features#847, true) > 0) AND isnotnull(features#847))\n",
      "                                 +- FileScan geojson [features#847] Batched: false, DataFilters: [(size(features#847, true) > 0), isnotnull(features#847)], Format: GEOJSON, Location: InMemoryFileIndex(1 paths)[s3://initial-notebook-data-bucket-dblab-905418150721/2010_Census_Block..., PartitionFilters: [], PushedFilters: [IsNotNull(features)], ReadSchema: struct<features:array<struct<geometry:binary,properties:struct<BG10:string,BG10FIP10:string,BG12:..."
     ]
    }
   ],
   "source": [
    "# Join income and population data with crime data\n",
    "result = income_per_person.join(\n",
    "    crime_pop,\n",
    "    income_per_person[\"region\"] == crime_pop[\"COMM\"]\n",
    ")\n",
    "result.explain(True)"
   ]
  },
  {
   "cell_type": "markdown",
   "id": "3c5cb464-c81c-4523-bb69-953f342c4210",
   "metadata": {},
   "source": [
    "## Experiment with join strategies \n",
    "Force different join strategies using the hint() function, in order to test their efficiency. Apply a function that tests the time it takes for each join to complete and compare. "
   ]
  },
  {
   "cell_type": "code",
   "execution_count": 25,
   "id": "879644c1-ae92-4ae2-8090-8c6c5644e8e4",
   "metadata": {
    "tags": []
   },
   "outputs": [
    {
     "data": {
      "application/vnd.jupyter.widget-view+json": {
       "model_id": "",
       "version_major": 2,
       "version_minor": 0
      },
      "text/plain": [
       "FloatProgress(value=0.0, bar_style='info', description='Progress:', layout=Layout(height='25px', width='50%'),…"
      ]
     },
     "metadata": {},
     "output_type": "display_data"
    }
   ],
   "source": [
    "# Example join DataFrames\n",
    "result_broadcast = income_per_person.join(\n",
    "    crime_pop.hint(\"broadcast\"),\n",
    "    income_per_person[\"region\"] == crime_pop[\"COMM\"]\n",
    ")\n",
    "\n",
    "result_merge = income_per_person.join(\n",
    "    crime_pop.hint(\"merge\"),\n",
    "    income_per_person[\"region\"] == crime_pop[\"COMM\"]\n",
    ")\n",
    "\n",
    "result_shuffle_hash = income_per_person.join(\n",
    "    crime_pop.hint(\"shuffle_hash\"),\n",
    "    income_per_person[\"region\"] == crime_pop[\"COMM\"]\n",
    ")\n",
    "\n",
    "result_shuffle_replicate_nl = income_per_person.join(\n",
    "    crime_pop.hint(\"shuffle_replicate_nl\"),\n",
    "    income_per_person[\"region\"] == crime_pop[\"COMM\"]\n",
    ")"
   ]
  },
  {
   "cell_type": "code",
   "execution_count": 26,
   "id": "1c763099-a208-42af-ba24-0bab99d77c8c",
   "metadata": {
    "tags": []
   },
   "outputs": [
    {
     "data": {
      "application/vnd.jupyter.widget-view+json": {
       "model_id": "",
       "version_major": 2,
       "version_minor": 0
      },
      "text/plain": [
       "FloatProgress(value=0.0, bar_style='info', description='Progress:', layout=Layout(height='25px', width='50%'),…"
      ]
     },
     "metadata": {},
     "output_type": "display_data"
    },
    {
     "name": "stdout",
     "output_type": "stream",
     "text": [
      "Broadcast Join took 41.81 seconds\n",
      "Sort-Merge Join took 24.93 seconds\n",
      "Shuffle Hash Join took 23.65 seconds\n",
      "Replicated Nested Loop Join took 19.37 seconds"
     ]
    }
   ],
   "source": [
    "measure_join_performance(result_broadcast, \"Broadcast Join\")\n",
    "measure_join_performance(result_merge, \"Sort-Merge Join\")\n",
    "measure_join_performance(result_shuffle_hash, \"Shuffle Hash Join\")\n",
    "measure_join_performance(result_shuffle_replicate_nl, \"Replicated Nested Loop Join\")"
   ]
  },
  {
   "cell_type": "code",
   "execution_count": null,
   "id": "566693bc-2ce9-4e16-b9a5-64fab1c35cf9",
   "metadata": {},
   "outputs": [],
   "source": [
    "result = result.withColumn(\n",
    "    \"crimes_per_person\",\n",
    "    col(\"total_crime_number\") / col(\"total_population\")\n",
    ")"
   ]
  },
  {
   "cell_type": "code",
   "execution_count": 66,
   "id": "b0626948-4df0-4ce9-b062-4f34f68b9d88",
   "metadata": {
    "tags": []
   },
   "outputs": [
    {
     "data": {
      "application/vnd.jupyter.widget-view+json": {
       "model_id": "",
       "version_major": 2,
       "version_minor": 0
      },
      "text/plain": [
       "FloatProgress(value=0.0, bar_style='info', description='Progress:', layout=Layout(height='25px', width='50%'),…"
      ]
     },
     "metadata": {},
     "output_type": "display_data"
    },
    {
     "name": "stdout",
     "output_type": "stream",
     "text": [
      "+--------------------+----------------+------------------+----------------+------------------+--------------------+------------------+--------------------+\n",
      "|              region|total_population|     median_income|total_households| income_per_person|                COMM|total_crime_number|   crimes_per_person|\n",
      "+--------------------+----------------+------------------+----------------+------------------+--------------------+------------------+--------------------+\n",
      "|         Culver City|           38883|           75913.5|           17491|34148.677532597794|         Culver City|              1014|0.026078234704112337|\n",
      "|         Pico Rivera|           62942|           55758.0|           17109|15156.233071716819|         Pico Rivera|                 2|3.177528518318452E-5|\n",
      "|              Malibu|           12645|          123681.0|            6864| 67136.92241992883|              Malibu|                 1|7.908264136022143E-5|\n",
      "|          Montebello|           62500|           45898.0|           19768|      14516.986624|          Montebello|                 6|              9.6E-5|\n",
      "|    Westlake Village|            8270|          104382.5|            3384| 42712.25876662636|    Westlake Village|                 1|1.209189842805320...|\n",
      "|              Carson|           91714|           74351.5|           26226|21261.120864862507|              Carson|               302|0.003292845149050...|\n",
      "|            Glendale|          191719| 66520.33333333333|           76269|26462.892582373162|            Glendale|                92|4.798689749059822E-4|\n",
      "|         Signal Hill|           11016|           65935.0|            4389|26269.854302832246|         Signal Hill|                 2|1.815541031227305...|\n",
      "|            Glendora|           50694|           76010.0|           17982|26962.003787430465|            Glendora|                 1|1.972620033929064...|\n",
      "|             Gardena|           58829|49137.666666666664|           21472|17934.759704680797|             Gardena|               353|0.006000441958897823|\n",
      "|           Claremont|           35348|           89161.0|           12306|31040.377560258006|           Claremont|                 6|1.697408622835804E-4|\n",
      "|             Norwalk|          105549|           59756.0|           28083|15899.039763522156|             Norwalk|                 5|4.737136306360079...|\n",
      "|       Monterey Park|           60269|           53341.5|           20850|18453.438334798986|       Monterey Park|                 5|8.296138976920142E-5|\n",
      "|       Beverly Hills|           34109|          102447.0|           16394|49239.676273124394|       Beverly Hills|              1091|0.031985692925620805|\n",
      "|           Paramount|           54098|           45792.0|           14571| 12333.82439276868|           Paramount|                31|5.730341232577914E-4|\n",
      "|La Cañada Flintridge|           20246|          156933.0|            7089|54949.028795811515|La Cañada Flintridge|                 1|4.939247258717771...|\n",
      "|            Altadena|           42777|           86310.0|           15947| 32175.83210603829|            Altadena|                 1|2.337704841386726...|\n",
      "|      Ladera Heights|            6498|           84099.0|            2867| 37105.54524469067|      Ladera Heights|               694| 0.10680209295167743|\n",
      "|           La Mirada|           48527|           78373.0|           15092|24374.169349022195|           La Mirada|                 1|2.060708471572526...|\n",
      "|        Santa Monica|           89736| 93137.33333333333|           50912| 52841.75709488573|        Santa Monica|               612|0.006820005349023803|\n",
      "+--------------------+----------------+------------------+----------------+------------------+--------------------+------------------+--------------------+\n",
      "only showing top 20 rows"
     ]
    }
   ],
   "source": [
    "result.show()"
   ]
  }
 ],
 "metadata": {
  "kernelspec": {
   "display_name": "Sparkmagic (PySpark)",
   "language": "python",
   "name": "pysparkkernel"
  },
  "language_info": {
   "codemirror_mode": {
    "name": "python",
    "version": 3
   },
   "file_extension": ".py",
   "mimetype": "text/x-python",
   "name": "pyspark",
   "pygments_lexer": "python3"
  }
 },
 "nbformat": 4,
 "nbformat_minor": 5
}
