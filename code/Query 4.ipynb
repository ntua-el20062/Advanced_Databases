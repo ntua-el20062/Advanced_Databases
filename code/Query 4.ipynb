{
 "cells": [
  {
   "cell_type": "markdown",
   "id": "1ce53f14-acb4-44dc-bdd7-2697f628a7df",
   "metadata": {},
   "source": [
    "# Query 4\n",
    "## Reading files from S3\n",
    "The first code cell reads the main csv and geojson file, as well as the rest of the csv datasets.  "
   ]
  },
  {
   "cell_type": "code",
   "execution_count": 40,
   "id": "86a764df-9006-4e96-9e56-b66368a1faf7",
   "metadata": {
    "tags": []
   },
   "outputs": [
    {
     "data": {
      "application/vnd.jupyter.widget-view+json": {
       "model_id": "",
       "version_major": 2,
       "version_minor": 0
      },
      "text/plain": [
       "FloatProgress(value=0.0, bar_style='info', description='Progress:', layout=Layout(height='25px', width='50%'),…"
      ]
     },
     "metadata": {},
     "output_type": "display_data"
    }
   ],
   "source": [
    "from sedona.spark import *\n",
    "from pyspark.sql.functions import col\n",
    "from pyspark.sql import SparkSession\n",
    "from pyspark.sql.functions import min, count, avg\n",
    "\n",
    "# Create spark Session\n",
    "# 2 executors x 1 core/2GB memory\n",
    "spark = SparkSession.builder \\\n",
    "    .appName(\"Query 4 - 1 Core, 2GB Memory\") \\\n",
    "    .config(\"spark.executor.instances\", 2) \\\n",
    "    .config(\"spark.executor.cores\", 1) \\\n",
    "    .config(\"spark.executor.memory\", \"2g\") \\\n",
    "    .getOrCreate()\n",
    "# 2 executors × 2 cores/4 GB memory\n",
    "spark = SparkSession.builder \\\n",
    "    .appName(\"Query 4 - 2 Cores, 4GB Memory\") \\\n",
    "    .config(\"spark.executor.instances\", 2) \\\n",
    "    .config(\"spark.executor.cores\", 2) \\\n",
    "    .config(\"spark.executor.memory\", \"4g\") \\\n",
    "    .getOrCreate()\n",
    "\n",
    "# 2 executors × 4 cores/8 GB memory\n",
    "spark = SparkSession.builder \\\n",
    "    .appName(\"Query 4 - 4 Cores, 8GB Memory\") \\\n",
    "    .config(\"spark.executor.instances\", 2) \\\n",
    "    .config(\"spark.executor.cores\", 4) \\\n",
    "    .config(\"spark.executor.memory\", \"8g\") \\\n",
    "    .getOrCreate()\n",
    "\n",
    "\n",
    "# Create sedona context\n",
    "sedona = SedonaContext.create(spark)\n",
    "\n",
    "# Load the crime data, LA income and RE codes csv \n",
    "crime_data = spark.read.csv(\"s3://initial-notebook-data-bucket-dblab-905418150721/CrimeData/Crime_Data_from_2010_to_2019_20241101.csv\", header=True, inferSchema=True)\n",
    "la_income = spark.read.csv(\"s3://initial-notebook-data-bucket-dblab-905418150721/LA_income_2015.csv\", header=True, inferSchema=True)\n",
    "re_codes = spark.read.csv(\"s3://initial-notebook-data-bucket-dblab-905418150721/RE_codes.csv\", header=True, inferSchema=True)\n",
    "police_stations = spark.read.csv(\"s3://initial-notebook-data-bucket-dblab-905418150721/LA_Police_Stations.csv\", header=True, inferSchema=True)\n",
    "\n",
    "geojson_path = \"s3://initial-notebook-data-bucket-dblab-905418150721/2010_Census_Blocks.geojson\"\n",
    "blocks_df = sedona.read.format(\"geojson\") \\\n",
    "            .option(\"multiLine\", \"true\").load(geojson_path) \\\n",
    "            .selectExpr(\"explode(features) as features\") \\\n",
    "            .select(\"features.*\")\n",
    "# Formatting magic\n",
    "flattened_blocks_df = blocks_df.select( \\\n",
    "                [col(f\"properties.{col_name}\").alias(col_name) for col_name in \\\n",
    "                blocks_df.schema[\"properties\"].dataType.fieldNames()] + [\"geometry\"]) \\\n",
    "            .drop(\"properties\") \\\n",
    "            .drop(\"type\")\n"
   ]
  },
  {
   "cell_type": "markdown",
   "id": "77a9c9cf-b9d9-4fb8-96f7-7ff37b07de85",
   "metadata": {},
   "source": [
    "## Crime data Geometry \n",
    "Add the geometry column in the crime_data"
   ]
  },
  {
   "cell_type": "code",
   "execution_count": 3,
   "id": "584c63f7-f994-4b81-993f-3a0573a8ffd7",
   "metadata": {
    "tags": []
   },
   "outputs": [
    {
     "data": {
      "application/vnd.jupyter.widget-view+json": {
       "model_id": "",
       "version_major": 2,
       "version_minor": 0
      },
      "text/plain": [
       "FloatProgress(value=0.0, bar_style='info', description='Progress:', layout=Layout(height='25px', width='50%'),…"
      ]
     },
     "metadata": {},
     "output_type": "display_data"
    }
   ],
   "source": [
    "# Create geometry column for crime data\n",
    "crime_data = crime_data.withColumn(\"geom\", ST_Point(col(\"LON\"), col(\"LAT\")))\n",
    "crime_data_location = crime_data.join(flattened_blocks_df, ST_Within(crime_data[\"geom\"], flattened_blocks_df[\"geometry\"]), \"inner\")\n"
   ]
  },
  {
   "cell_type": "code",
   "execution_count": 4,
   "id": "6de1801b-4435-4e6b-9c29-108acd9dea89",
   "metadata": {
    "tags": []
   },
   "outputs": [
    {
     "data": {
      "application/vnd.jupyter.widget-view+json": {
       "model_id": "",
       "version_major": 2,
       "version_minor": 0
      },
      "text/plain": [
       "FloatProgress(value=0.0, bar_style='info', description='Progress:', layout=Layout(height='25px', width='50%'),…"
      ]
     },
     "metadata": {},
     "output_type": "display_data"
    },
    {
     "name": "stdout",
     "output_type": "stream",
     "text": [
      "+--------------------+\n",
      "|                geom|\n",
      "+--------------------+\n",
      "|POINT (-118.2902 ...|\n",
      "|POINT (-118.2902 ...|\n",
      "|POINT (-118.2924 ...|\n",
      "+--------------------+\n",
      "only showing top 3 rows"
     ]
    }
   ],
   "source": [
    "crime_data_location.select(\"geom\").show(3, truncate=True)"
   ]
  },
  {
   "cell_type": "markdown",
   "id": "eaaed0ea-6a8b-408a-b8be-1f644ac20123",
   "metadata": {},
   "source": [
    "## Filtering \n",
    "Only keep the crimes commited in 2015. \n",
    "Then, sort the zip codes on decreasing income. "
   ]
  },
  {
   "cell_type": "code",
   "execution_count": 5,
   "id": "122b9d6b-e524-4332-bf43-33c05d35d317",
   "metadata": {
    "tags": []
   },
   "outputs": [
    {
     "data": {
      "application/vnd.jupyter.widget-view+json": {
       "model_id": "",
       "version_major": 2,
       "version_minor": 0
      },
      "text/plain": [
       "FloatProgress(value=0.0, bar_style='info', description='Progress:', layout=Layout(height='25px', width='50%'),…"
      ]
     },
     "metadata": {},
     "output_type": "display_data"
    }
   ],
   "source": [
    "# Keep only the 2015 crimes\n",
    "crime_data_2015 = crime_data_location.filter(col(\"DATE OCC\").contains(\"2015\"))\n",
    "\n",
    "# Sort la_income zip codes by decreasing income. \n",
    "la_income_sorted_up = la_income.orderBy(col(\"Estimated Median Income\").desc())\n",
    "la_income_sorted_down = la_income.orderBy(col(\"Estimated Median Income\").asc())\n",
    "\n",
    "# Select the top three and bottom 3 income ZIP codes\n",
    "top_income_zip = la_income_sorted_up.limit(3).select(\"Zip Code\")\n",
    "bottom_income_zip = la_income_sorted_down.limit(3).select(\"Zip Code\")"
   ]
  },
  {
   "cell_type": "code",
   "execution_count": 6,
   "id": "3d30ba55-5d17-499e-84fb-4444a92b7a37",
   "metadata": {
    "tags": []
   },
   "outputs": [
    {
     "data": {
      "application/vnd.jupyter.widget-view+json": {
       "model_id": "",
       "version_major": 2,
       "version_minor": 0
      },
      "text/plain": [
       "FloatProgress(value=0.0, bar_style='info', description='Progress:', layout=Layout(height='25px', width='50%'),…"
      ]
     },
     "metadata": {},
     "output_type": "display_data"
    },
    {
     "name": "stdout",
     "output_type": "stream",
     "text": [
      "+--------+\n",
      "|Zip Code|\n",
      "+--------+\n",
      "|   90290|\n",
      "|   90067|\n",
      "|   90808|\n",
      "+--------+\n",
      "\n",
      "+--------+\n",
      "|Zip Code|\n",
      "+--------+\n",
      "|   91307|\n",
      "|   90277|\n",
      "|   91350|\n",
      "+--------+"
     ]
    }
   ],
   "source": [
    "top_income_zip.show()\n",
    "bottom_income_zip.show()"
   ]
  },
  {
   "cell_type": "code",
   "execution_count": 7,
   "id": "97be9d7b-c773-47ba-82cb-2bb7232bafd2",
   "metadata": {
    "tags": []
   },
   "outputs": [
    {
     "data": {
      "application/vnd.jupyter.widget-view+json": {
       "model_id": "",
       "version_major": 2,
       "version_minor": 0
      },
      "text/plain": [
       "FloatProgress(value=0.0, bar_style='info', description='Progress:', layout=Layout(height='25px', width='50%'),…"
      ]
     },
     "metadata": {},
     "output_type": "display_data"
    },
    {
     "name": "stdout",
     "output_type": "stream",
     "text": [
      "+------------+\n",
      "|Vict Descent|\n",
      "+------------+\n",
      "|        NULL|\n",
      "|           O|\n",
      "|        NULL|\n",
      "|           W|\n",
      "|           W|\n",
      "|           H|\n",
      "|           W|\n",
      "|           W|\n",
      "|           W|\n",
      "|           W|\n",
      "|           X|\n",
      "|           W|\n",
      "|           W|\n",
      "|           H|\n",
      "|        NULL|\n",
      "|           W|\n",
      "|        NULL|\n",
      "|           W|\n",
      "|           H|\n",
      "|           B|\n",
      "+------------+\n",
      "only showing top 20 rows"
     ]
    }
   ],
   "source": [
    "crime_data_2015.select(\"Vict Descent\").show()"
   ]
  },
  {
   "cell_type": "markdown",
   "id": "3f753e41-e3e3-461b-b6f1-a20ec62482c0",
   "metadata": {},
   "source": [
    "## Join data \n",
    "Final join of data to have the full crime information dataframe\n"
   ]
  },
  {
   "cell_type": "code",
   "execution_count": 8,
   "id": "1260c8f0-b0a9-46c3-8d13-b2a5d1caa829",
   "metadata": {
    "tags": []
   },
   "outputs": [
    {
     "data": {
      "application/vnd.jupyter.widget-view+json": {
       "model_id": "",
       "version_major": 2,
       "version_minor": 0
      },
      "text/plain": [
       "FloatProgress(value=0.0, bar_style='info', description='Progress:', layout=Layout(height='25px', width='50%'),…"
      ]
     },
     "metadata": {},
     "output_type": "display_data"
    }
   ],
   "source": [
    "# Join the crime_data_2015 data frame with the income dataframe \n",
    "# to relate the crime information with the income data\n",
    "crime_income_data= crime_data_2015.join(la_income, (crime_data_2015[\"ZCTA10\"] == la_income[\"Zip Code\"]))\n",
    "\n",
    "#  Now join the joint crime-income information with the race and ethnicity codes \n",
    "#  on the Victim Descent column\n",
    "crime_info = crime_income_data.join(re_codes, (crime_income_data[\"Vict Descent\"] == re_codes[\"Vict Descent\"]))"
   ]
  },
  {
   "cell_type": "code",
   "execution_count": 9,
   "id": "eb750fc1-069b-42fb-87b8-ba4632dc99f2",
   "metadata": {
    "tags": []
   },
   "outputs": [
    {
     "data": {
      "application/vnd.jupyter.widget-view+json": {
       "model_id": "",
       "version_major": 2,
       "version_minor": 0
      },
      "text/plain": [
       "FloatProgress(value=0.0, bar_style='info', description='Progress:', layout=Layout(height='25px', width='50%'),…"
      ]
     },
     "metadata": {},
     "output_type": "display_data"
    },
    {
     "name": "stdout",
     "output_type": "stream",
     "text": [
      "+--------------------+\n",
      "|   Vict Descent Full|\n",
      "+--------------------+\n",
      "|               Other|\n",
      "|               Black|\n",
      "|Hispanic/Latin/Me...|\n",
      "|               Black|\n",
      "|               Black|\n",
      "|               White|\n",
      "|               Other|\n",
      "|Hispanic/Latin/Me...|\n",
      "|               White|\n",
      "|               White|\n",
      "|               Other|\n",
      "|               White|\n",
      "|Hispanic/Latin/Me...|\n",
      "|Hispanic/Latin/Me...|\n",
      "|             Unknown|\n",
      "|               Other|\n",
      "|               Black|\n",
      "|               Black|\n",
      "|               Other|\n",
      "|Hispanic/Latin/Me...|\n",
      "+--------------------+\n",
      "only showing top 20 rows"
     ]
    }
   ],
   "source": [
    "crime_info.select(\"Vict Descent Full\").show()"
   ]
  },
  {
   "cell_type": "markdown",
   "id": "67a42f51-55f6-42ab-92ef-c51e67f6e389",
   "metadata": {},
   "source": [
    "## Group and Count\n"
   ]
  },
  {
   "cell_type": "code",
   "execution_count": 10,
   "id": "a2b1a4e4-da26-4c68-bc5f-846a05fc73b1",
   "metadata": {
    "tags": []
   },
   "outputs": [
    {
     "data": {
      "application/vnd.jupyter.widget-view+json": {
       "model_id": "",
       "version_major": 2,
       "version_minor": 0
      },
      "text/plain": [
       "FloatProgress(value=0.0, bar_style='info', description='Progress:', layout=Layout(height='25px', width='50%'),…"
      ]
     },
     "metadata": {},
     "output_type": "display_data"
    }
   ],
   "source": [
    "# Collect the values of the top income zip codes into a list\n",
    "top_zip_codes = [row[\"Zip Code\"] for row in top_income_zip.collect()]\n",
    "bottom_zip_codes = [row[\"Zip Code\"] for row in bottom_income_zip.collect()]\n",
    "\n",
    "# Keep the info of the crimes made in the Zip Codes \n",
    "richest_crimes = crime_info.filter(col(\"Zip Code\").isin(top_zip_codes))\n",
    "poorest_crimes = crime_info.filter(col(\"Zip Code\").isin(bottom_zip_codes))"
   ]
  },
  {
   "cell_type": "code",
   "execution_count": 11,
   "id": "7a91293f-d273-4b4c-ae01-2e72874bc4c3",
   "metadata": {
    "tags": []
   },
   "outputs": [
    {
     "data": {
      "application/vnd.jupyter.widget-view+json": {
       "model_id": "",
       "version_major": 2,
       "version_minor": 0
      },
      "text/plain": [
       "FloatProgress(value=0.0, bar_style='info', description='Progress:', layout=Layout(height='25px', width='50%'),…"
      ]
     },
     "metadata": {},
     "output_type": "display_data"
    },
    {
     "name": "stdout",
     "output_type": "stream",
     "text": [
      "+--------------------+\n",
      "|   Vict Descent Full|\n",
      "+--------------------+\n",
      "|Hispanic/Latin/Me...|\n",
      "|               White|\n",
      "|               White|\n",
      "|               White|\n",
      "|               Other|\n",
      "|               Black|\n",
      "|               White|\n",
      "|               White|\n",
      "|               White|\n",
      "|               White|\n",
      "|               White|\n",
      "|Hispanic/Latin/Me...|\n",
      "|               Other|\n",
      "|               Other|\n",
      "|               Other|\n",
      "|               White|\n",
      "|               White|\n",
      "|               White|\n",
      "|               White|\n",
      "|               White|\n",
      "+--------------------+\n",
      "only showing top 20 rows"
     ]
    }
   ],
   "source": [
    "richest_crimes.select(\"Vict Descent Full\").show()"
   ]
  },
  {
   "cell_type": "code",
   "execution_count": 12,
   "id": "9f2181b3-c9b4-466c-baa0-4ddd035c1279",
   "metadata": {
    "tags": []
   },
   "outputs": [
    {
     "data": {
      "application/vnd.jupyter.widget-view+json": {
       "model_id": "",
       "version_major": 2,
       "version_minor": 0
      },
      "text/plain": [
       "FloatProgress(value=0.0, bar_style='info', description='Progress:', layout=Layout(height='25px', width='50%'),…"
      ]
     },
     "metadata": {},
     "output_type": "display_data"
    }
   ],
   "source": [
    "# Group and count for richest crimes\n",
    "richest_counts = richest_crimes.groupBy(\"Vict Descent Full\").count().orderBy(\"count\", ascending=False)\n",
    "\n",
    "# Group and count for poorest crimes\n",
    "poorest_counts = poorest_crimes.groupBy(\"Vict Descent Full\").count().orderBy(\"count\", ascending=False)"
   ]
  },
  {
   "cell_type": "markdown",
   "id": "cc6c674e-dfde-409d-9c13-7588b9519e9e",
   "metadata": {},
   "source": [
    "## Results of Q4"
   ]
  },
  {
   "cell_type": "code",
   "execution_count": 13,
   "id": "9323a8f3-7c73-4952-b777-da08c57bb055",
   "metadata": {
    "tags": []
   },
   "outputs": [
    {
     "data": {
      "application/vnd.jupyter.widget-view+json": {
       "model_id": "",
       "version_major": 2,
       "version_minor": 0
      },
      "text/plain": [
       "FloatProgress(value=0.0, bar_style='info', description='Progress:', layout=Layout(height='25px', width='50%'),…"
      ]
     },
     "metadata": {},
     "output_type": "display_data"
    },
    {
     "name": "stdout",
     "output_type": "stream",
     "text": [
      "+--------------------+-----+\n",
      "|   Vict Descent Full|count|\n",
      "+--------------------+-----+\n",
      "|               White|   57|\n",
      "|               Other|   15|\n",
      "|Hispanic/Latin/Me...|    8|\n",
      "|             Unknown|    8|\n",
      "|               Black|    5|\n",
      "|         Other Asian|    2|\n",
      "+--------------------+-----+\n",
      "\n",
      "+--------------------+-----+\n",
      "|   Vict Descent Full|count|\n",
      "+--------------------+-----+\n",
      "|               White|  470|\n",
      "|               Other|  128|\n",
      "|Hispanic/Latin/Me...|  127|\n",
      "|             Unknown|   90|\n",
      "|               Black|   56|\n",
      "|         Other Asian|   24|\n",
      "|            Filipino|    2|\n",
      "|            Japanese|    1|\n",
      "+--------------------+-----+"
     ]
    }
   ],
   "source": [
    "richest_counts.select(\"Vict Descent Full\", \"count\").show()\n",
    "poorest_counts.select(\"Vict Descent Full\", \"count\").show()"
   ]
  }
 ],
 "metadata": {
  "kernelspec": {
   "display_name": "Sparkmagic (PySpark)",
   "language": "python",
   "name": "pysparkkernel"
  },
  "language_info": {
   "codemirror_mode": {
    "name": "python",
    "version": 3
   },
   "file_extension": ".py",
   "mimetype": "text/x-python",
   "name": "pyspark",
   "pygments_lexer": "python3"
  }
 },
 "nbformat": 4,
 "nbformat_minor": 5
}
